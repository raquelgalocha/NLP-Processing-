{
  "cells": [
    {
      "cell_type": "markdown",
      "metadata": {
        "id": "D6pzB1Zg8SZ3"
      },
      "source": [
        "## FRONT-END SCRAPPING\n",
        "\n"
      ]
    },
    {
      "cell_type": "code",
      "execution_count": null,
      "metadata": {
        "colab": {
          "base_uri": "https://localhost:8080/"
        },
        "id": "2GNMRtzmKGvf",
        "outputId": "eb57e790-d06f-4321-b43a-689a3788e628"
      },
      "outputs": [
        {
          "name": "stdout",
          "output_type": "stream",
          "text": [
            "Requirement already satisfied: httpx in c:\\users\\mdela\\anaconda3\\lib\\site-packages (0.23.0)\n",
            "Requirement already satisfied: rfc3986[idna2008]<2,>=1.3 in c:\\users\\mdela\\anaconda3\\lib\\site-packages (from httpx) (1.5.0)\n",
            "Requirement already satisfied: certifi in c:\\users\\mdela\\anaconda3\\lib\\site-packages (from httpx) (2022.6.15)\n",
            "Requirement already satisfied: httpcore<0.16.0,>=0.15.0 in c:\\users\\mdela\\anaconda3\\lib\\site-packages (from httpx) (0.15.0)\n",
            "Requirement already satisfied: sniffio in c:\\users\\mdela\\anaconda3\\lib\\site-packages (from httpx) (1.2.0)\n",
            "Requirement already satisfied: anyio==3.* in c:\\users\\mdela\\anaconda3\\lib\\site-packages (from httpcore<0.16.0,>=0.15.0->httpx) (3.5.0)\n",
            "Requirement already satisfied: h11<0.13,>=0.11 in c:\\users\\mdela\\anaconda3\\lib\\site-packages (from httpcore<0.16.0,>=0.15.0->httpx) (0.12.0)\n",
            "Requirement already satisfied: idna>=2.8 in c:\\users\\mdela\\anaconda3\\lib\\site-packages (from anyio==3.*->httpcore<0.16.0,>=0.15.0->httpx) (3.3)\n"
          ]
        }
      ],
      "source": [
        "!pip install httpx"
      ]
    },
    {
      "cell_type": "code",
      "execution_count": null,
      "metadata": {
        "id": "-6xxDRKQKO6_"
      },
      "outputs": [],
      "source": [
        "import httpx\n",
        "import pandas as pd\n",
        "import seaborn as sns\n",
        "from bs4 import BeautifulSoup\n",
        "import matplotlib.pyplot as plt"
      ]
    },
    {
      "cell_type": "code",
      "execution_count": null,
      "metadata": {
        "colab": {
          "base_uri": "https://localhost:8080/",
          "height": 426
        },
        "id": "Pp49pQP_KQIn",
        "outputId": "d37b3fba-b04b-47ae-939a-9371bd7348a3"
      },
      "outputs": [
        {
          "data": {
            "text/html": [
              "<div>\n",
              "<style scoped>\n",
              "    .dataframe tbody tr th:only-of-type {\n",
              "        vertical-align: middle;\n",
              "    }\n",
              "\n",
              "    .dataframe tbody tr th {\n",
              "        vertical-align: top;\n",
              "    }\n",
              "\n",
              "    .dataframe thead th {\n",
              "        text-align: right;\n",
              "    }\n",
              "</style>\n",
              "<table border=\"1\" class=\"dataframe\">\n",
              "  <thead>\n",
              "    <tr style=\"text-align: right;\">\n",
              "      <th></th>\n",
              "      <th>politc_party</th>\n",
              "      <th>ideology</th>\n",
              "      <th>taler</th>\n",
              "      <th>2019_votes</th>\n",
              "      <th>2022_votes</th>\n",
              "      <th>colour</th>\n",
              "    </tr>\n",
              "  </thead>\n",
              "  <tbody>\n",
              "    <tr>\n",
              "      <th>0</th>\n",
              "      <td>Social Democrats</td>\n",
              "      <td>Social Democracy</td>\n",
              "      <td>Mette Frederiksen</td>\n",
              "      <td>0.259</td>\n",
              "      <td>0.2750</td>\n",
              "      <td>Red</td>\n",
              "    </tr>\n",
              "    <tr>\n",
              "      <th>1</th>\n",
              "      <td>Venstre</td>\n",
              "      <td>Conservative liberalism</td>\n",
              "      <td>Jakob Ellemann-Jensen</td>\n",
              "      <td>0.234</td>\n",
              "      <td>0.1332</td>\n",
              "      <td>Blue</td>\n",
              "    </tr>\n",
              "    <tr>\n",
              "      <th>2</th>\n",
              "      <td>Danish People's Party</td>\n",
              "      <td>Danish nationalism</td>\n",
              "      <td>Morten Messerschmidt</td>\n",
              "      <td>0.087</td>\n",
              "      <td>0.0264</td>\n",
              "      <td>Blue</td>\n",
              "    </tr>\n",
              "    <tr>\n",
              "      <th>3</th>\n",
              "      <td>Danish Social Liberal Party</td>\n",
              "      <td>Social liberalism</td>\n",
              "      <td>Sofie Carsten Nielsen</td>\n",
              "      <td>0.086</td>\n",
              "      <td>0.0379</td>\n",
              "      <td>Red</td>\n",
              "    </tr>\n",
              "    <tr>\n",
              "      <th>4</th>\n",
              "      <td>Green Left</td>\n",
              "      <td>Green politics</td>\n",
              "      <td>Pia Olsen Dyhr</td>\n",
              "      <td>0.077</td>\n",
              "      <td>0.0830</td>\n",
              "      <td>Red</td>\n",
              "    </tr>\n",
              "    <tr>\n",
              "      <th>5</th>\n",
              "      <td>Red–Green Alliance</td>\n",
              "      <td>Eco-socialism</td>\n",
              "      <td>Collective leadership</td>\n",
              "      <td>0.069</td>\n",
              "      <td>0.0513</td>\n",
              "      <td>Red</td>\n",
              "    </tr>\n",
              "    <tr>\n",
              "      <th>6</th>\n",
              "      <td>Conservative People's Party</td>\n",
              "      <td>Green conservatism</td>\n",
              "      <td>Søren Pape Poulsen</td>\n",
              "      <td>0.066</td>\n",
              "      <td>0.0551</td>\n",
              "      <td>Blue</td>\n",
              "    </tr>\n",
              "    <tr>\n",
              "      <th>7</th>\n",
              "      <td>The Alternative</td>\n",
              "      <td>Green politics</td>\n",
              "      <td>Franciska Rosenkilde</td>\n",
              "      <td>0.030</td>\n",
              "      <td>0.0333</td>\n",
              "      <td>Red</td>\n",
              "    </tr>\n",
              "    <tr>\n",
              "      <th>8</th>\n",
              "      <td>The New Right</td>\n",
              "      <td>National conservatism</td>\n",
              "      <td>Pernille Vermund</td>\n",
              "      <td>0.024</td>\n",
              "      <td>0.0367</td>\n",
              "      <td>Blue</td>\n",
              "    </tr>\n",
              "    <tr>\n",
              "      <th>9</th>\n",
              "      <td>Liberal Alliance</td>\n",
              "      <td>Right-libertarianism</td>\n",
              "      <td>Alex Vanopslagh</td>\n",
              "      <td>0.023</td>\n",
              "      <td>0.0789</td>\n",
              "      <td>Blue</td>\n",
              "    </tr>\n",
              "    <tr>\n",
              "      <th>10</th>\n",
              "      <td>Moderates</td>\n",
              "      <td>Liberalism</td>\n",
              "      <td>Lars Løkke Rasmussen</td>\n",
              "      <td>0.000</td>\n",
              "      <td>0.0927</td>\n",
              "      <td>Blue</td>\n",
              "    </tr>\n",
              "    <tr>\n",
              "      <th>11</th>\n",
              "      <td>Denmark Democrats</td>\n",
              "      <td>Right-wing populism</td>\n",
              "      <td>Inger Støjberg</td>\n",
              "      <td>0.000</td>\n",
              "      <td>0.0812</td>\n",
              "      <td>Blue</td>\n",
              "    </tr>\n",
              "  </tbody>\n",
              "</table>\n",
              "</div>"
            ],
            "text/plain": [
              "                   politc_party                 ideology  \\\n",
              "0              Social Democrats         Social Democracy   \n",
              "1                       Venstre  Conservative liberalism   \n",
              "2         Danish People's Party       Danish nationalism   \n",
              "3   Danish Social Liberal Party        Social liberalism   \n",
              "4                    Green Left           Green politics   \n",
              "5            Red–Green Alliance            Eco-socialism   \n",
              "6   Conservative People's Party       Green conservatism   \n",
              "7               The Alternative           Green politics   \n",
              "8                 The New Right    National conservatism   \n",
              "9              Liberal Alliance     Right-libertarianism   \n",
              "10                    Moderates               Liberalism   \n",
              "11            Denmark Democrats      Right-wing populism   \n",
              "\n",
              "                    taler  2019_votes  2022_votes colour  \n",
              "0       Mette Frederiksen       0.259      0.2750    Red  \n",
              "1   Jakob Ellemann-Jensen       0.234      0.1332   Blue  \n",
              "2    Morten Messerschmidt       0.087      0.0264   Blue  \n",
              "3   Sofie Carsten Nielsen       0.086      0.0379    Red  \n",
              "4          Pia Olsen Dyhr       0.077      0.0830    Red  \n",
              "5   Collective leadership       0.069      0.0513    Red  \n",
              "6      Søren Pape Poulsen       0.066      0.0551   Blue  \n",
              "7    Franciska Rosenkilde       0.030      0.0333    Red  \n",
              "8        Pernille Vermund       0.024      0.0367   Blue  \n",
              "9         Alex Vanopslagh       0.023      0.0789   Blue  \n",
              "10   Lars Løkke Rasmussen       0.000      0.0927   Blue  \n",
              "11         Inger Støjberg       0.000      0.0812   Blue  "
            ]
          },
          "execution_count": 3,
          "metadata": {},
          "output_type": "execute_result"
        }
      ],
      "source": [
        "#dataframe manually created from information on internet. \n",
        "results = pd.read_excel('rsults.xlsx')\n",
        "results"
      ]
    },
    {
      "cell_type": "code",
      "execution_count": null,
      "metadata": {
        "colab": {
          "base_uri": "https://localhost:8080/",
          "height": 143
        },
        "id": "OG76SRpvKjCK",
        "outputId": "9a5ed883-1111-4432-d2fb-7028e874e572"
      },
      "outputs": [
        {
          "data": {
            "text/html": [
              "<div>\n",
              "<style scoped>\n",
              "    .dataframe tbody tr th:only-of-type {\n",
              "        vertical-align: middle;\n",
              "    }\n",
              "\n",
              "    .dataframe tbody tr th {\n",
              "        vertical-align: top;\n",
              "    }\n",
              "\n",
              "    .dataframe thead th {\n",
              "        text-align: right;\n",
              "    }\n",
              "</style>\n",
              "<table border=\"1\" class=\"dataframe\">\n",
              "  <thead>\n",
              "    <tr style=\"text-align: right;\">\n",
              "      <th></th>\n",
              "      <th>2019_votes</th>\n",
              "      <th>2022_votes</th>\n",
              "    </tr>\n",
              "    <tr>\n",
              "      <th>colour</th>\n",
              "      <th></th>\n",
              "      <th></th>\n",
              "    </tr>\n",
              "  </thead>\n",
              "  <tbody>\n",
              "    <tr>\n",
              "      <th>Blue</th>\n",
              "      <td>0.434</td>\n",
              "      <td>0.5042</td>\n",
              "    </tr>\n",
              "    <tr>\n",
              "      <th>Red</th>\n",
              "      <td>0.521</td>\n",
              "      <td>0.4805</td>\n",
              "    </tr>\n",
              "  </tbody>\n",
              "</table>\n",
              "</div>"
            ],
            "text/plain": [
              "        2019_votes  2022_votes\n",
              "colour                        \n",
              "Blue         0.434      0.5042\n",
              "Red          0.521      0.4805"
            ]
          },
          "execution_count": 4,
          "metadata": {},
          "output_type": "execute_result"
        }
      ],
      "source": [
        "#results of the parties, contrast\n",
        "results.groupby(['colour']).sum()"
      ]
    },
    {
      "cell_type": "code",
      "execution_count": null,
      "metadata": {
        "colab": {
          "base_uri": "https://localhost:8080/",
          "height": 628
        },
        "id": "fxUrazLAKmtp",
        "outputId": "5c0b7b37-2cae-4557-96fb-cacbe8775ba4"
      },
      "outputs": [
        {
          "data": {
            "text/plain": [
              "[Text(0, 0, 'Social Democrats'),\n",
              " Text(1, 0, 'Venstre'),\n",
              " Text(2, 0, \"Danish People's Party\"),\n",
              " Text(3, 0, 'Danish Social Liberal Party'),\n",
              " Text(4, 0, 'Green Left'),\n",
              " Text(5, 0, 'Red–Green Alliance'),\n",
              " Text(6, 0, \"Conservative People's Party\"),\n",
              " Text(7, 0, 'The Alternative'),\n",
              " Text(8, 0, 'The New Right'),\n",
              " Text(9, 0, 'Liberal Alliance'),\n",
              " Text(10, 0, 'Moderates'),\n",
              " Text(11, 0, 'Denmark Democrats')]"
            ]
          },
          "execution_count": 5,
          "metadata": {},
          "output_type": "execute_result"
        },
        {
          "data": {
            "image/png": "[encoded data removed]",
            "text/plain": [
              "<Figure size 640x480 with 1 Axes>"
            ]
          },
          "metadata": {},
          "output_type": "display_data"
        }
      ],
      "source": [
        "#chart with the differences of the results in the elections 2022 in contrast by the ones on 2019\n",
        "chart = results.plot(x=\"politc_party\", y=[\"2019_votes\",'2022_votes'], kind='bar')\n",
        "chart.set_xticklabels(chart.get_xticklabels(), rotation=90)\n"
      ]
    },
    {
      "cell_type": "code",
      "execution_count": null,
      "metadata": {
        "id": "8B8Q08NFKoeE"
      },
      "outputs": [],
      "source": [
        "#web scrapping of the html code of the main page where all the talers appear\n",
        "r = httpx.get('https://dansketaler.dk/temarum/valgkamp-2022/')\n",
        "soup = BeautifulSoup(r.content)"
      ]
    },
    {
      "cell_type": "code",
      "execution_count": null,
      "metadata": {
        "colab": {
          "base_uri": "https://localhost:8080/"
        },
        "id": "qsvzlT0XKwLw",
        "outputId": "f0aacbaa-6c66-44c4-dd9a-4428030ecdb9"
      },
      "outputs": [
        {
          "name": "stdout",
          "output_type": "stream",
          "text": [
            "number of objects in div:  44\n"
          ]
        },
        {
          "data": {
            "text/plain": [
              "<div class=\"col-12 col-mdph-6 col-mdtab-4 col-smdesk-3 featured-speeches-blocks__col\">\n",
              "<speech-regular-block :id=\"'featured_speeches_blocks-3__featured-speech-1'\" :key=\"'featured_speeches_blocks-3__featured-speech-1'\" display_type=\"regular-block\" publish_date=\"4 november, 2022\" tale_anledning=\"\" tale_date=\"31/10/2022\" tale_excerpt=\"Tale til FH&amp;nbsp; Jeg vil gerne citere tre lærlinge:&amp;nbsp; Daniel Gordon&amp;nbsp;”På mit SKP-center havde automatikteknikerne uden læreplads på et tidspunkt en periode på 3 måneder uden en lærer”&amp;nbsp;– Jimmi Elley&amp;nbsp;”Jeg bliver uddannet på de samme maskiner som min far gjorde” Mathias&amp;nbsp;Vinholt &amp;nbsp;”Lodde kurssuset blev sparet væk, men til gengæld lærte vi at reparere fastnettelefoner, og dem er der stadig tonsvis af i omløb.” Det er blot&amp;nbsp;tre&amp;nbsp;ud af hundrede historier, som lærlingeoprøret har fået frem.&amp;nbsp; Men når&amp;nbsp;man hører.&amp;nbsp; Politikere&amp;nbsp;en lige linje fra at sidde og rode med fastnets telefoner til at få en 100 meter lang vindmøllevinge til at suse gennem luften og redde klimaet og gøre os fri fra Putins gas og olie.&amp;nbsp; Det var frustration og afmagt, der fik &amp;hellip;\" tale_permalink=\"https://dansketaler.dk/tale/carl-emil-lind-christensens-tale-ved-fagbevaegelsens-hovedorganisations-1-ordinaere-kongres-2022/\" tale_title=\"Carl Emil Lind Christensens tale ved Fagbevægelsens Hovedorganisations 1. ordinære kongres 2022\" taler_permalink=\"https://dansketaler.dk/taler/lind/\" taler_thumbnail=\"https://dansketaler.dk/wp-content/uploads/2022/11/41FCC346-754A-4947-A959-BE276D22E73A.png\" taler_title=\"Christensen, Carl Emil Lind\">\n",
              "</speech-regular-block>\n",
              "</div>"
            ]
          },
          "execution_count": 7,
          "metadata": {},
          "output_type": "execute_result"
        }
      ],
      "source": [
        "#find one div class where the link to the main page of a taler appears, display the first taler object\n",
        "div = soup.find_all('div', attrs={'class':'col-12 col-mdph-6 col-mdtab-4 col-smdesk-3 featured-speeches-blocks__col'})\n",
        "print('number of objects in div: ', len(div))\n",
        "div[0]"
      ]
    },
    {
      "cell_type": "code",
      "execution_count": null,
      "metadata": {
        "colab": {
          "base_uri": "https://localhost:8080/",
          "height": 36
        },
        "id": "CgnPFz9gKymx",
        "outputId": "940fa4c8-6e13-4bda-af1c-5efa473928cd"
      },
      "outputs": [
        {
          "data": {
            "text/plain": [
              "'https://dansketaler.dk/taler/lind/'"
            ]
          },
          "execution_count": 8,
          "metadata": {},
          "output_type": "execute_result"
        }
      ],
      "source": [
        "#select the link that drives to the main page of the later\n",
        "div[0].select('speech-regular-block')[0]['taler_permalink']"
      ]
    },
    {
      "cell_type": "code",
      "execution_count": null,
      "metadata": {
        "colab": {
          "base_uri": "https://localhost:8080/"
        },
        "id": "abBm3-AdK1D0",
        "outputId": "9cac6c74-9221-4039-db41-a41e03dc1bf2"
      },
      "outputs": [
        {
          "data": {
            "text/plain": [
              "['https://dansketaler.dk/taler/lind/',\n",
              " 'https://dansketaler.dk/taler/villadsen-mai/',\n",
              " 'https://dansketaler.dk/taler/nielsen-sofie-carsten/',\n",
              " 'https://dansketaler.dk/taler/svare-silke-ena/',\n",
              " 'https://dansketaler.dk/taler/jensen-carsten/',\n",
              " 'https://dansketaler.dk/taler/koefoed-simon-emil/',\n",
              " 'https://dansketaler.dk/taler/frederiksen-mette/',\n",
              " 'https://dansketaler.dk/taler/skaale-sjurdur/',\n",
              " 'https://dansketaler.dk/taler/joensen-edmund/',\n",
              " 'https://dansketaler.dk/taler/chemnitz-larsen-aaja/']"
            ]
          },
          "execution_count": 9,
          "metadata": {},
          "output_type": "execute_result"
        }
      ],
      "source": [
        "#function that extracts all the links to the main pages of the talers\n",
        "permalinks = [x.select('speech-regular-block')[0]['taler_permalink'] for x in div]\n",
        "permalinks[:10]"
      ]
    },
    {
      "cell_type": "code",
      "execution_count": null,
      "metadata": {
        "colab": {
          "base_uri": "https://localhost:8080/"
        },
        "id": "BfyrUyTpAmxT",
        "outputId": "749bd848-dff3-4451-b3be-144a8205a3f2"
      },
      "outputs": [
        {
          "name": "stdout",
          "output_type": "stream",
          "text": [
            "There are  44  talers\n"
          ]
        }
      ],
      "source": [
        "print('There are ', len(permalinks), ' talers')"
      ]
    },
    {
      "cell_type": "code",
      "execution_count": null,
      "metadata": {
        "id": "IGgPV0oNK2i8"
      },
      "outputs": [],
      "source": [
        "#As an example, we are taking one permalink so as to extract all the speeches.\n",
        "r_taler = httpx.get('https://dansketaler.dk/taler/villadsen-mai/')\n",
        "soup_taler = BeautifulSoup(r_taler.content)"
      ]
    },
    {
      "cell_type": "code",
      "execution_count": null,
      "metadata": {
        "colab": {
          "base_uri": "https://localhost:8080/"
        },
        "id": "4970VOjTK3P1",
        "outputId": "ce307da8-758e-4f54-9c03-e947031910bc"
      },
      "outputs": [
        {
          "name": "stdout",
          "output_type": "stream",
          "text": [
            "number of speeches:  36\n"
          ]
        },
        {
          "data": {
            "text/plain": [
              "<div class=\"single-taler__single-speech\">\n",
              "<p>\n",
              "<a href=\"https://dansketaler.dk/tale/mai-villadsens-tale-paa-valgnatten-2022/\" title=\"\">\n",
              "\t\t\t\t\t\t\tMai Villadsens tale på valgnatten 2022\t\t\t\t\t\t</a>\n",
              "</p>\n",
              "</div>"
            ]
          },
          "execution_count": 12,
          "metadata": {},
          "output_type": "execute_result"
        }
      ],
      "source": [
        "#we access to the div class where the hyperlinks to the speeches are\n",
        "speeches = soup_taler.find_all('div', attrs={'class':'single-taler__single-speech'})\n",
        "print('number of speeches: ', len(speeches))\n",
        "speeches[0]"
      ]
    },
    {
      "cell_type": "code",
      "execution_count": null,
      "metadata": {
        "colab": {
          "base_uri": "https://localhost:8080/",
          "height": 36
        },
        "id": "HKF4fDODK43e",
        "outputId": "645114ca-3109-40e4-bd6b-2daca4d3564d"
      },
      "outputs": [
        {
          "data": {
            "text/plain": [
              "'https://dansketaler.dk/tale/mai-villadsens-tale-paa-valgnatten-2022/'"
            ]
          },
          "execution_count": 13,
          "metadata": {},
          "output_type": "execute_result"
        }
      ],
      "source": [
        "#We extract the first link to a speech\n",
        "speeches[0].select('a')[0]['href']"
      ]
    },
    {
      "cell_type": "code",
      "execution_count": null,
      "metadata": {
        "colab": {
          "base_uri": "https://localhost:8080/"
        },
        "id": "WdAeVAIEK-mw",
        "outputId": "f4be8b82-a1e9-4aa3-a825-22719060ace7"
      },
      "outputs": [
        {
          "data": {
            "text/plain": [
              "['https://dansketaler.dk/tale/mai-villadsens-tale-paa-valgnatten-2022/',\n",
              " 'https://dansketaler.dk/tale/mai-villadsens-tale-ved-folketingets-aabningsdebat-2022/',\n",
              " 'https://dansketaler.dk/tale/mai-villadsens-tale-ved-ungdommens-folkemoede-2022/',\n",
              " 'https://dansketaler.dk/tale/mai-villadsens-tale-ved-enhedslistens-sommergruppemoede-2022/',\n",
              " 'https://dansketaler.dk/tale/mai-villadsens-folkemoedetale-2022/',\n",
              " 'https://dansketaler.dk/tale/mai-villadsens-aarsmoedetale-2022/',\n",
              " 'https://dansketaler.dk/tale/mai-villadsens-1-maj-tale-2022/',\n",
              " 'https://dansketaler.dk/tale/mai-villadsens-tale-ved-udvidet-partilederdebat-2022/',\n",
              " 'https://dansketaler.dk/tale/mai-villadsens-demonstrationstale-om-ruslands-invasion-af-ukraine-2022/',\n",
              " 'https://dansketaler.dk/tale/mai-villadsens-tale-paa-kommunalvalgsaftenen-2021/']"
            ]
          },
          "execution_count": 14,
          "metadata": {},
          "output_type": "execute_result"
        }
      ],
      "source": [
        "#Finally, for one taler, all the links are extracted\n",
        "speech_link = [x.select('a')[0]['href'] for x in speeches]\n",
        "speech_link[:10]"
      ]
    },
    {
      "cell_type": "code",
      "execution_count": null,
      "metadata": {
        "id": "TO2dhw71LAsK"
      },
      "outputs": [],
      "source": [
        "#This loop inside a loop, goes for all the talers and extracts the links to all the speeches\n",
        "total_speeches = []\n",
        "with httpx.Client() as client:\n",
        "    for x in permalinks:\n",
        "        case = client.get(x, timeout=20)\n",
        "        speeches = BeautifulSoup(case.content).find_all('div', attrs={'class':'single-taler__single-speech'})\n",
        "        count = 0\n",
        "        \n",
        "        for y in speeches[:50]:\n",
        "            link = speeches[count].select('a')[0]['href']\n",
        "            count += 1\n",
        "            total_speeches.append(link)"
      ]
    },
    {
      "cell_type": "code",
      "execution_count": null,
      "metadata": {
        "colab": {
          "base_uri": "https://localhost:8080/"
        },
        "id": "7XOr12YELE1i",
        "outputId": "950bafbc-6bd2-4ef2-9b0d-d93f5881573f"
      },
      "outputs": [
        {
          "name": "stdout",
          "output_type": "stream",
          "text": [
            "number of speeches 1198\n"
          ]
        }
      ],
      "source": [
        "print('number of speeches', len(total_speeches))"
      ]
    },
    {
      "cell_type": "code",
      "execution_count": null,
      "metadata": {
        "colab": {
          "base_uri": "https://localhost:8080/"
        },
        "id": "NBRAqjyhLHSA",
        "outputId": "c325ef40-9bef-4521-aafb-3156f3f830ef"
      },
      "outputs": [
        {
          "name": "stdout",
          "output_type": "stream",
          "text": [
            "number of speeches 287\n"
          ]
        }
      ],
      "source": [
        "#remove duplicates\n",
        "speeches_link = [*set(total_speeches) ]\n",
        "print('number of speeches', len(speeches_link))"
      ]
    },
    {
      "cell_type": "code",
      "execution_count": null,
      "metadata": {
        "id": "oiVcbL-uLJwI"
      },
      "outputs": [],
      "source": [
        "#For a given link fo an speech, this extracts the name of the taler as well as the politic party\n",
        "def lecturer_information(link):\n",
        "\n",
        "    with httpx.Client() as client:\n",
        "        r = client.get(link, timeout=30.0)\n",
        "    text = BeautifulSoup(r.content).find_all('div', attrs={'class':'single-tale__single-info single-tale__single-info__taler-navn'})\n",
        "    taler = text[0].select('p')[1].select('a')[0]['title'][1:]\n",
        "    try:\n",
        "       politic_party = BeautifulSoup(str(text[0].select('p')[1].select('span')[0])).text\n",
        "    except IndexError:\n",
        "        politic_party = 'null'\n",
        "\n",
        "    return [link, taler, politic_party]"
      ]
    },
    {
      "cell_type": "code",
      "execution_count": null,
      "metadata": {
        "id": "-1gdTBq_LMww"
      },
      "outputs": [],
      "source": [
        "#Putting into a list all the links associated to the name of the taler and the link itself with the politic party\n",
        "list_names = []\n",
        "\n",
        "for x in speeches_link:\n",
        "    list_names.append(lecturer_information(x))"
      ]
    },
    {
      "cell_type": "code",
      "execution_count": null,
      "metadata": {
        "colab": {
          "base_uri": "https://localhost:8080/"
        },
        "id": "_WP964HALOoE",
        "outputId": "e0119cac-747d-43d9-ac9d-0d32f4f9b691"
      },
      "outputs": [
        {
          "data": {
            "text/plain": [
              "[['https://dansketaler.dk/tale/mette-frederiksens-partiledertale-ved-folkemoedet-2021/',\n",
              "  'Mette Frederiksen',\n",
              "  'Statsminister'],\n",
              " ['https://dansketaler.dk/tale/franciska-rosenkildes-folkemoedetale-2022/',\n",
              "  'Franciska Rosenkilde',\n",
              "  'Politiske leder for Alternativet '],\n",
              " ['https://dansketaler.dk/tale/alex-vanopslaghs-folkemoedetale-2022/',\n",
              "  'Alex Vanopslagh',\n",
              "  'Politisk leder for Liberal Alliance '],\n",
              " ['https://dansketaler.dk/tale/lars-boje-mathiesens-tale-ved-folketingets-aabningsdebat-2022/',\n",
              "  'Lars Boje Mathiesen',\n",
              "  'Ordfører i Nye Borgerlige '],\n",
              " ['https://dansketaler.dk/tale/statsminister-lars-loekke-rasmussens-tale-ved-folketingets-aabning-2015/',\n",
              "  'Lars Løkke Rasmussen',\n",
              "  'Statsminister ']]"
            ]
          },
          "execution_count": 20,
          "metadata": {},
          "output_type": "execute_result"
        }
      ],
      "source": [
        "list_names[:5]"
      ]
    },
    {
      "cell_type": "code",
      "execution_count": null,
      "metadata": {
        "colab": {
          "base_uri": "https://localhost:8080/",
          "height": 206
        },
        "id": "OtL-ZpMbNNUy",
        "outputId": "ce50e796-3ce7-43d8-8f91-a4f42d5e5605"
      },
      "outputs": [
        {
          "data": {
            "text/html": [
              "<div>\n",
              "<style scoped>\n",
              "    .dataframe tbody tr th:only-of-type {\n",
              "        vertical-align: middle;\n",
              "    }\n",
              "\n",
              "    .dataframe tbody tr th {\n",
              "        vertical-align: top;\n",
              "    }\n",
              "\n",
              "    .dataframe thead th {\n",
              "        text-align: right;\n",
              "    }\n",
              "</style>\n",
              "<table border=\"1\" class=\"dataframe\">\n",
              "  <thead>\n",
              "    <tr style=\"text-align: right;\">\n",
              "      <th></th>\n",
              "      <th>link</th>\n",
              "      <th>taler</th>\n",
              "      <th>politic_party</th>\n",
              "    </tr>\n",
              "  </thead>\n",
              "  <tbody>\n",
              "    <tr>\n",
              "      <th>0</th>\n",
              "      <td>https://dansketaler.dk/tale/mette-frederiksens...</td>\n",
              "      <td>Mette Frederiksen</td>\n",
              "      <td>Statsminister</td>\n",
              "    </tr>\n",
              "    <tr>\n",
              "      <th>1</th>\n",
              "      <td>https://dansketaler.dk/tale/franciska-rosenkil...</td>\n",
              "      <td>Franciska Rosenkilde</td>\n",
              "      <td>Politiske leder for Alternativet</td>\n",
              "    </tr>\n",
              "    <tr>\n",
              "      <th>2</th>\n",
              "      <td>https://dansketaler.dk/tale/alex-vanopslaghs-f...</td>\n",
              "      <td>Alex Vanopslagh</td>\n",
              "      <td>Politisk leder for Liberal Alliance</td>\n",
              "    </tr>\n",
              "    <tr>\n",
              "      <th>3</th>\n",
              "      <td>https://dansketaler.dk/tale/lars-boje-mathiese...</td>\n",
              "      <td>Lars Boje Mathiesen</td>\n",
              "      <td>Ordfører i Nye Borgerlige</td>\n",
              "    </tr>\n",
              "    <tr>\n",
              "      <th>4</th>\n",
              "      <td>https://dansketaler.dk/tale/statsminister-lars...</td>\n",
              "      <td>Lars Løkke Rasmussen</td>\n",
              "      <td>Statsminister</td>\n",
              "    </tr>\n",
              "  </tbody>\n",
              "</table>\n",
              "</div>"
            ],
            "text/plain": [
              "                                                link                 taler  \\\n",
              "0  https://dansketaler.dk/tale/mette-frederiksens...     Mette Frederiksen   \n",
              "1  https://dansketaler.dk/tale/franciska-rosenkil...  Franciska Rosenkilde   \n",
              "2  https://dansketaler.dk/tale/alex-vanopslaghs-f...       Alex Vanopslagh   \n",
              "3  https://dansketaler.dk/tale/lars-boje-mathiese...   Lars Boje Mathiesen   \n",
              "4  https://dansketaler.dk/tale/statsminister-lars...  Lars Løkke Rasmussen   \n",
              "\n",
              "                          politic_party  \n",
              "0                         Statsminister  \n",
              "1     Politiske leder for Alternativet   \n",
              "2  Politisk leder for Liberal Alliance   \n",
              "3            Ordfører i Nye Borgerlige   \n",
              "4                        Statsminister   "
            ]
          },
          "execution_count": 21,
          "metadata": {},
          "output_type": "execute_result"
        }
      ],
      "source": [
        "#splitting the list into a dataframe\n",
        "data = pd.DataFrame.from_dict(list_names)\n",
        "data.rename(columns={0: \"link\", 1: \"taler\", 2: \"politic_party\"}, inplace = True)\n",
        "data.head()"
      ]
    },
    {
      "cell_type": "code",
      "execution_count": null,
      "metadata": {
        "colab": {
          "base_uri": "https://localhost:8080/"
        },
        "id": "jpeav9qoNQtW",
        "outputId": "d00549b1-430c-4660-b21b-b8c8c9e3ed83"
      },
      "outputs": [
        {
          "data": {
            "text/plain": [
              "(287, 3)"
            ]
          },
          "execution_count": 22,
          "metadata": {},
          "output_type": "execute_result"
        }
      ],
      "source": [
        "data.shape"
      ]
    },
    {
      "cell_type": "code",
      "execution_count": null,
      "metadata": {
        "colab": {
          "base_uri": "https://localhost:8080/"
        },
        "id": "pVpeI9Y8NRLw",
        "outputId": "9c0df178-d2e7-4333-b2b5-8a48cfca6a66"
      },
      "outputs": [
        {
          "data": {
            "text/plain": [
              "Mette Frederiksen             50\n",
              "Lars Løkke Rasmussen          50\n",
              "Pia Olsen Dyhr                27\n",
              "Søren Pape Poulsen            20\n",
              "Mai Villadsen                 18\n",
              "Jakob Ellemann-Jensen         18\n",
              "Sofie Carsten Nielsen         15\n",
              "Morten Messerschmidt          14\n",
              "Bertel Haarder                13\n",
              "Alex Vanopslagh               13\n",
              "Pernille Vermund              11\n",
              "Carsten Jensen                 6\n",
              "Peter Skaarup                  6\n",
              "Franciska Rosenkilde           5\n",
              "Lars Boje Mathiesen            4\n",
              "Mette Thiesen                  3\n",
              "Torsten Gejl                   2\n",
              "Edmund Joensen                 2\n",
              "Aki-Matilda Høegh-Dam          2\n",
              "Aaja Chemnitz Larsen           2\n",
              "Sjúrður Skaale                 2\n",
              "Simon Emil Koefoed             1\n",
              "Silke Ena Svare                1\n",
              "Carl Emil Lind Christensen     1\n",
              "Lisbeth Bech-Nielsen           1\n",
              "Name: taler, dtype: int64"
            ]
          },
          "execution_count": 23,
          "metadata": {},
          "output_type": "execute_result"
        }
      ],
      "source": [
        "#number of the speeches per taler collected\n",
        "data.taler.value_counts()"
      ]
    },
    {
      "cell_type": "code",
      "execution_count": null,
      "metadata": {
        "colab": {
          "base_uri": "https://localhost:8080/"
        },
        "id": "77znbVTqNSXO",
        "outputId": "f0f5b506-ccf0-4fa8-8d1a-1acbe091e1f6"
      },
      "outputs": [
        {
          "data": {
            "text/plain": [
              "2529644095616"
            ]
          },
          "execution_count": 24,
          "metadata": {},
          "output_type": "execute_result"
        }
      ],
      "source": [
        "#data backup\n",
        "total_data = data.copy() #backup\n",
        "id(total_data)"
      ]
    },
    {
      "cell_type": "code",
      "execution_count": null,
      "metadata": {
        "colab": {
          "base_uri": "https://localhost:8080/"
        },
        "id": "nsloUdtJNWJK",
        "outputId": "5eb911b1-cf02-4a2e-86aa-ee77994d2bb4"
      },
      "outputs": [
        {
          "name": "stdout",
          "output_type": "stream",
          "text": [
            "Requirement already satisfied: newspaper3k in c:\\users\\mdela\\anaconda3\\lib\\site-packages (0.2.8)\n",
            "Requirement already satisfied: nltk>=3.2.1 in c:\\users\\mdela\\anaconda3\\lib\\site-packages (from newspaper3k) (3.7)\n",
            "Requirement already satisfied: feedparser>=5.2.1 in c:\\users\\mdela\\anaconda3\\lib\\site-packages (from newspaper3k) (6.0.10)\n",
            "Requirement already satisfied: PyYAML>=3.11 in c:\\users\\mdela\\anaconda3\\lib\\site-packages (from newspaper3k) (6.0)\n",
            "Requirement already satisfied: requests>=2.10.0 in c:\\users\\mdela\\anaconda3\\lib\\site-packages (from newspaper3k) (2.28.1)\n",
            "Requirement already satisfied: python-dateutil>=2.5.3 in c:\\users\\mdela\\anaconda3\\lib\\site-packages (from newspaper3k) (2.8.2)\n",
            "Requirement already satisfied: Pillow>=3.3.0 in c:\\users\\mdela\\anaconda3\\lib\\site-packages (from newspaper3k) (9.2.0)\n",
            "Requirement already satisfied: cssselect>=0.9.2 in c:\\users\\mdela\\anaconda3\\lib\\site-packages (from newspaper3k) (1.1.0)\n",
            "Requirement already satisfied: tldextract>=2.0.1 in c:\\users\\mdela\\anaconda3\\lib\\site-packages (from newspaper3k) (3.2.0)\n",
            "Requirement already satisfied: jieba3k>=0.35.1 in c:\\users\\mdela\\anaconda3\\lib\\site-packages (from newspaper3k) (0.35.1)\n",
            "Requirement already satisfied: tinysegmenter==0.3 in c:\\users\\mdela\\anaconda3\\lib\\site-packages (from newspaper3k) (0.3)\n",
            "Requirement already satisfied: beautifulsoup4>=4.4.1 in c:\\users\\mdela\\anaconda3\\lib\\site-packages (from newspaper3k) (4.11.1)\n",
            "Requirement already satisfied: feedfinder2>=0.0.4 in c:\\users\\mdela\\anaconda3\\lib\\site-packages (from newspaper3k) (0.0.4)\n",
            "Requirement already satisfied: lxml>=3.6.0 in c:\\users\\mdela\\anaconda3\\lib\\site-packages (from newspaper3k) (4.9.1)\n",
            "Requirement already satisfied: soupsieve>1.2 in c:\\users\\mdela\\anaconda3\\lib\\site-packages (from beautifulsoup4>=4.4.1->newspaper3k) (2.3.1)\n",
            "Requirement already satisfied: six in c:\\users\\mdela\\anaconda3\\lib\\site-packages (from feedfinder2>=0.0.4->newspaper3k) (1.16.0)\n",
            "Requirement already satisfied: sgmllib3k in c:\\users\\mdela\\anaconda3\\lib\\site-packages (from feedparser>=5.2.1->newspaper3k) (1.0.0)\n",
            "Requirement already satisfied: click in c:\\users\\mdela\\anaconda3\\lib\\site-packages (from nltk>=3.2.1->newspaper3k) (8.0.4)\n",
            "Requirement already satisfied: regex>=2021.8.3 in c:\\users\\mdela\\anaconda3\\lib\\site-packages (from nltk>=3.2.1->newspaper3k) (2022.7.9)\n",
            "Requirement already satisfied: tqdm in c:\\users\\mdela\\anaconda3\\lib\\site-packages (from nltk>=3.2.1->newspaper3k) (4.64.0)\n",
            "Requirement already satisfied: joblib in c:\\users\\mdela\\anaconda3\\lib\\site-packages (from nltk>=3.2.1->newspaper3k) (1.1.0)\n",
            "Requirement already satisfied: urllib3<1.27,>=1.21.1 in c:\\users\\mdela\\anaconda3\\lib\\site-packages (from requests>=2.10.0->newspaper3k) (1.26.11)\n",
            "Requirement already satisfied: idna<4,>=2.5 in c:\\users\\mdela\\anaconda3\\lib\\site-packages (from requests>=2.10.0->newspaper3k) (3.3)\n",
            "Requirement already satisfied: charset-normalizer<3,>=2 in c:\\users\\mdela\\anaconda3\\lib\\site-packages (from requests>=2.10.0->newspaper3k) (2.0.4)\n",
            "Requirement already satisfied: certifi>=2017.4.17 in c:\\users\\mdela\\anaconda3\\lib\\site-packages (from requests>=2.10.0->newspaper3k) (2022.6.15)\n",
            "Requirement already satisfied: filelock>=3.0.8 in c:\\users\\mdela\\anaconda3\\lib\\site-packages (from tldextract>=2.0.1->newspaper3k) (3.6.0)\n",
            "Requirement already satisfied: requests-file>=1.4 in c:\\users\\mdela\\anaconda3\\lib\\site-packages (from tldextract>=2.0.1->newspaper3k) (1.5.1)\n",
            "Requirement already satisfied: colorama in c:\\users\\mdela\\anaconda3\\lib\\site-packages (from click->nltk>=3.2.1->newspaper3k) (0.4.5)\n"
          ]
        }
      ],
      "source": [
        "!pip install newspaper3k"
      ]
    },
    {
      "cell_type": "code",
      "execution_count": null,
      "metadata": {
        "id": "PsZaDQsBNUdw"
      },
      "outputs": [],
      "source": [
        "#The library article extracts text from a given url\n",
        "from newspaper import Article\n",
        "from newspaper import Config"
      ]
    },
    {
      "cell_type": "code",
      "execution_count": null,
      "metadata": {
        "id": "SDZMipP1NeLC"
      },
      "outputs": [],
      "source": [
        "#class to extract the text from a given link\n",
        "config = Config()\n",
        "config.request_timeout = 30\n",
        "def get_speech(url):\n",
        "    article = Article(url, config=config)\n",
        "    article.download()\n",
        "    article.parse()\n",
        "    return article.text"
      ]
    },
    {
      "cell_type": "code",
      "execution_count": null,
      "metadata": {
        "id": "M1sdm9qDNiVS"
      },
      "outputs": [],
      "source": [
        "# create a column with the speech\n",
        "data['speech'] = data.apply(lambda x: get_speech(x['link']), axis=1)"
      ]
    },
    {
      "cell_type": "code",
      "execution_count": null,
      "metadata": {
        "colab": {
          "base_uri": "https://localhost:8080/",
          "height": 206
        },
        "id": "1_GlEfo_NpgI",
        "outputId": "d904b7c1-826e-43fb-a867-3c8e4e206d51"
      },
      "outputs": [
        {
          "data": {
            "text/html": [
              "<div>\n",
              "<style scoped>\n",
              "    .dataframe tbody tr th:only-of-type {\n",
              "        vertical-align: middle;\n",
              "    }\n",
              "\n",
              "    .dataframe tbody tr th {\n",
              "        vertical-align: top;\n",
              "    }\n",
              "\n",
              "    .dataframe thead th {\n",
              "        text-align: right;\n",
              "    }\n",
              "</style>\n",
              "<table border=\"1\" class=\"dataframe\">\n",
              "  <thead>\n",
              "    <tr style=\"text-align: right;\">\n",
              "      <th></th>\n",
              "      <th>link</th>\n",
              "      <th>taler</th>\n",
              "      <th>politic_party</th>\n",
              "      <th>speech</th>\n",
              "    </tr>\n",
              "  </thead>\n",
              "  <tbody>\n",
              "    <tr>\n",
              "      <th>0</th>\n",
              "      <td>https://dansketaler.dk/tale/mette-frederiksens...</td>\n",
              "      <td>Mette Frederiksen</td>\n",
              "      <td>Statsminister</td>\n",
              "      <td>Tak til Alberte for den smukke sang. Du og din...</td>\n",
              "    </tr>\n",
              "    <tr>\n",
              "      <th>1</th>\n",
              "      <td>https://dansketaler.dk/tale/franciska-rosenkil...</td>\n",
              "      <td>Franciska Rosenkilde</td>\n",
              "      <td>Politiske leder for Alternativet</td>\n",
              "      <td>Kære alle sammen\\n\\nJeg hedder Franciska. Jeg ...</td>\n",
              "    </tr>\n",
              "    <tr>\n",
              "      <th>2</th>\n",
              "      <td>https://dansketaler.dk/tale/alex-vanopslaghs-f...</td>\n",
              "      <td>Alex Vanopslagh</td>\n",
              "      <td>Politisk leder for Liberal Alliance</td>\n",
              "      <td>(Tak for introduktionen, Niels. Til de af jer,...</td>\n",
              "    </tr>\n",
              "    <tr>\n",
              "      <th>3</th>\n",
              "      <td>https://dansketaler.dk/tale/lars-boje-mathiese...</td>\n",
              "      <td>Lars Boje Mathiesen</td>\n",
              "      <td>Ordfører i Nye Borgerlige</td>\n",
              "      <td>Jeg skulle lige se, hvordan det er at sidde he...</td>\n",
              "    </tr>\n",
              "    <tr>\n",
              "      <th>4</th>\n",
              "      <td>https://dansketaler.dk/tale/statsminister-lars...</td>\n",
              "      <td>Lars Løkke Rasmussen</td>\n",
              "      <td>Statsminister</td>\n",
              "      <td>Danmark er et dejligt land. Et af de bedste i ...</td>\n",
              "    </tr>\n",
              "  </tbody>\n",
              "</table>\n",
              "</div>"
            ],
            "text/plain": [
              "                                                link                 taler  \\\n",
              "0  https://dansketaler.dk/tale/mette-frederiksens...     Mette Frederiksen   \n",
              "1  https://dansketaler.dk/tale/franciska-rosenkil...  Franciska Rosenkilde   \n",
              "2  https://dansketaler.dk/tale/alex-vanopslaghs-f...       Alex Vanopslagh   \n",
              "3  https://dansketaler.dk/tale/lars-boje-mathiese...   Lars Boje Mathiesen   \n",
              "4  https://dansketaler.dk/tale/statsminister-lars...  Lars Løkke Rasmussen   \n",
              "\n",
              "                          politic_party  \\\n",
              "0                         Statsminister   \n",
              "1     Politiske leder for Alternativet    \n",
              "2  Politisk leder for Liberal Alliance    \n",
              "3            Ordfører i Nye Borgerlige    \n",
              "4                        Statsminister    \n",
              "\n",
              "                                              speech  \n",
              "0  Tak til Alberte for den smukke sang. Du og din...  \n",
              "1  Kære alle sammen\\n\\nJeg hedder Franciska. Jeg ...  \n",
              "2  (Tak for introduktionen, Niels. Til de af jer,...  \n",
              "3  Jeg skulle lige se, hvordan det er at sidde he...  \n",
              "4  Danmark er et dejligt land. Et af de bedste i ...  "
            ]
          },
          "execution_count": 29,
          "metadata": {},
          "output_type": "execute_result"
        }
      ],
      "source": [
        "data.head()"
      ]
    },
    {
      "cell_type": "code",
      "execution_count": null,
      "metadata": {
        "id": "qUwdxpiTOKNF"
      },
      "outputs": [],
      "source": [
        "# data.to_excel('speeches.xlsx')"
      ]
    },
    {
      "cell_type": "code",
      "execution_count": null,
      "metadata": {
        "id": "ZDL3sx3SXjr-"
      },
      "outputs": [],
      "source": [
        "# data = pd.read_excel('speeches.xlsx')"
      ]
    },
    {
      "cell_type": "code",
      "execution_count": null,
      "metadata": {
        "colab": {
          "base_uri": "https://localhost:8080/"
        },
        "id": "s-7-_gM-NjAL",
        "outputId": "9f88604b-5ad5-41e9-d2f0-55f73207c169"
      },
      "outputs": [
        {
          "data": {
            "text/plain": [
              "array(['Mette Frederiksen', 'Jakob Ellemann-Jensen',\n",
              "       'Morten Messerschmidt', 'Sofie Carsten Nielsen', 'Pia Olsen Dyhr',\n",
              "       'Collective leadership', 'Søren Pape Poulsen',\n",
              "       'Franciska Rosenkilde', 'Pernille Vermund', 'Alex Vanopslagh',\n",
              "       'Lars Løkke Rasmussen', 'Inger Støjberg'], dtype=object)"
            ]
          },
          "execution_count": 32,
          "metadata": {},
          "output_type": "execute_result"
        }
      ],
      "source": [
        "#collect all the laters from the DF results, where the target information appears\n",
        "taler_unique = results.taler.unique()\n",
        "taler_unique"
      ]
    },
    {
      "cell_type": "code",
      "execution_count": null,
      "metadata": {
        "colab": {
          "base_uri": "https://localhost:8080/"
        },
        "id": "mfXiimdTPT6v",
        "outputId": "c4756a94-4740-4a35-ce50-9ac3f2c7476c"
      },
      "outputs": [
        {
          "data": {
            "text/plain": [
              "array(['Mette Frederiksen', 'Franciska Rosenkilde', 'Alex Vanopslagh',\n",
              "       'Lars Boje Mathiesen', 'Lars Løkke Rasmussen',\n",
              "       'Jakob Ellemann-Jensen', 'Sofie Carsten Nielsen', 'Mai Villadsen',\n",
              "       'Bertel Haarder', 'Torsten Gejl', 'Pia Olsen Dyhr',\n",
              "       'Søren Pape Poulsen', 'Morten Messerschmidt', 'Carsten Jensen',\n",
              "       'Pernille Vermund', 'Mette Thiesen', 'Silke Ena Svare',\n",
              "       'Edmund Joensen', 'Aki-Matilda Høegh-Dam',\n",
              "       'Carl Emil Lind Christensen', 'Peter Skaarup', 'Sjúrður Skaale',\n",
              "       'Simon Emil Koefoed', 'Aaja Chemnitz Larsen',\n",
              "       'Lisbeth Bech-Nielsen'], dtype=object)"
            ]
          },
          "execution_count": 33,
          "metadata": {},
          "output_type": "execute_result"
        }
      ],
      "source": [
        "#Collect all the talers from the webscrapping\n",
        "data.taler.unique()"
      ]
    },
    {
      "cell_type": "code",
      "execution_count": null,
      "metadata": {
        "colab": {
          "base_uri": "https://localhost:8080/",
          "height": 206
        },
        "id": "ObLy3tYZPYi8",
        "outputId": "87dd037b-7969-43c9-c133-9722d0085a56"
      },
      "outputs": [
        {
          "data": {
            "text/html": [
              "<div>\n",
              "<style scoped>\n",
              "    .dataframe tbody tr th:only-of-type {\n",
              "        vertical-align: middle;\n",
              "    }\n",
              "\n",
              "    .dataframe tbody tr th {\n",
              "        vertical-align: top;\n",
              "    }\n",
              "\n",
              "    .dataframe thead th {\n",
              "        text-align: right;\n",
              "    }\n",
              "</style>\n",
              "<table border=\"1\" class=\"dataframe\">\n",
              "  <thead>\n",
              "    <tr style=\"text-align: right;\">\n",
              "      <th></th>\n",
              "      <th>index</th>\n",
              "      <th>link</th>\n",
              "      <th>taler</th>\n",
              "      <th>politic_party</th>\n",
              "      <th>speech</th>\n",
              "    </tr>\n",
              "  </thead>\n",
              "  <tbody>\n",
              "    <tr>\n",
              "      <th>0</th>\n",
              "      <td>0</td>\n",
              "      <td>https://dansketaler.dk/tale/mette-frederiksens...</td>\n",
              "      <td>Mette Frederiksen</td>\n",
              "      <td>Statsminister</td>\n",
              "      <td>Tak til Alberte for den smukke sang. Du og din...</td>\n",
              "    </tr>\n",
              "    <tr>\n",
              "      <th>1</th>\n",
              "      <td>1</td>\n",
              "      <td>https://dansketaler.dk/tale/franciska-rosenkil...</td>\n",
              "      <td>Franciska Rosenkilde</td>\n",
              "      <td>Politiske leder for Alternativet</td>\n",
              "      <td>Kære alle sammen\\n\\nJeg hedder Franciska. Jeg ...</td>\n",
              "    </tr>\n",
              "    <tr>\n",
              "      <th>2</th>\n",
              "      <td>2</td>\n",
              "      <td>https://dansketaler.dk/tale/alex-vanopslaghs-f...</td>\n",
              "      <td>Alex Vanopslagh</td>\n",
              "      <td>Politisk leder for Liberal Alliance</td>\n",
              "      <td>(Tak for introduktionen, Niels. Til de af jer,...</td>\n",
              "    </tr>\n",
              "    <tr>\n",
              "      <th>3</th>\n",
              "      <td>4</td>\n",
              "      <td>https://dansketaler.dk/tale/statsminister-lars...</td>\n",
              "      <td>Lars Løkke Rasmussen</td>\n",
              "      <td>Statsminister</td>\n",
              "      <td>Danmark er et dejligt land. Et af de bedste i ...</td>\n",
              "    </tr>\n",
              "    <tr>\n",
              "      <th>4</th>\n",
              "      <td>5</td>\n",
              "      <td>https://dansketaler.dk/tale/jakob-ellemann-jen...</td>\n",
              "      <td>Jakob Ellemann-Jensen</td>\n",
              "      <td>Folketingsmedlem for Venstre</td>\n",
              "      <td>Hvor er det dejligt at være her i Vejle til Ve...</td>\n",
              "    </tr>\n",
              "  </tbody>\n",
              "</table>\n",
              "</div>"
            ],
            "text/plain": [
              "   index                                               link  \\\n",
              "0      0  https://dansketaler.dk/tale/mette-frederiksens...   \n",
              "1      1  https://dansketaler.dk/tale/franciska-rosenkil...   \n",
              "2      2  https://dansketaler.dk/tale/alex-vanopslaghs-f...   \n",
              "3      4  https://dansketaler.dk/tale/statsminister-lars...   \n",
              "4      5  https://dansketaler.dk/tale/jakob-ellemann-jen...   \n",
              "\n",
              "                   taler                         politic_party  \\\n",
              "0      Mette Frederiksen                         Statsminister   \n",
              "1   Franciska Rosenkilde     Politiske leder for Alternativet    \n",
              "2        Alex Vanopslagh  Politisk leder for Liberal Alliance    \n",
              "3   Lars Løkke Rasmussen                        Statsminister    \n",
              "4  Jakob Ellemann-Jensen          Folketingsmedlem for Venstre   \n",
              "\n",
              "                                              speech  \n",
              "0  Tak til Alberte for den smukke sang. Du og din...  \n",
              "1  Kære alle sammen\\n\\nJeg hedder Franciska. Jeg ...  \n",
              "2  (Tak for introduktionen, Niels. Til de af jer,...  \n",
              "3  Danmark er et dejligt land. Et af de bedste i ...  \n",
              "4  Hvor er det dejligt at være her i Vejle til Ve...  "
            ]
          },
          "execution_count": 34,
          "metadata": {},
          "output_type": "execute_result"
        }
      ],
      "source": [
        "#Only take the speeches for the talers that appear in DF results\n",
        "data = data.loc[data.apply(lambda x: x.taler in taler_unique, axis=1)].reset_index()\n",
        "data_backup = data.copy()\n",
        "data.head()"
      ]
    },
    {
      "cell_type": "code",
      "execution_count": null,
      "metadata": {
        "id": "F1kM3HpJF0gZ"
      },
      "outputs": [],
      "source": [
        "# data = data_backup"
      ]
    },
    {
      "cell_type": "code",
      "execution_count": null,
      "metadata": {
        "colab": {
          "base_uri": "https://localhost:8080/",
          "height": 206
        },
        "id": "eGGrs8NYF3WK",
        "outputId": "0db3b90d-8014-4bcf-e910-c7d3cf9715f2"
      },
      "outputs": [
        {
          "data": {
            "text/html": [
              "<div>\n",
              "<style scoped>\n",
              "    .dataframe tbody tr th:only-of-type {\n",
              "        vertical-align: middle;\n",
              "    }\n",
              "\n",
              "    .dataframe tbody tr th {\n",
              "        vertical-align: top;\n",
              "    }\n",
              "\n",
              "    .dataframe thead th {\n",
              "        text-align: right;\n",
              "    }\n",
              "</style>\n",
              "<table border=\"1\" class=\"dataframe\">\n",
              "  <thead>\n",
              "    <tr style=\"text-align: right;\">\n",
              "      <th></th>\n",
              "      <th>index</th>\n",
              "      <th>link</th>\n",
              "      <th>taler</th>\n",
              "      <th>politic_party</th>\n",
              "      <th>speech</th>\n",
              "    </tr>\n",
              "  </thead>\n",
              "  <tbody>\n",
              "    <tr>\n",
              "      <th>0</th>\n",
              "      <td>0</td>\n",
              "      <td>https://dansketaler.dk/tale/mette-frederiksens...</td>\n",
              "      <td>Mette Frederiksen</td>\n",
              "      <td>Statsminister</td>\n",
              "      <td>Tak til Alberte for den smukke sang. Du og din...</td>\n",
              "    </tr>\n",
              "    <tr>\n",
              "      <th>1</th>\n",
              "      <td>1</td>\n",
              "      <td>https://dansketaler.dk/tale/franciska-rosenkil...</td>\n",
              "      <td>Franciska Rosenkilde</td>\n",
              "      <td>Politiske leder for Alternativet</td>\n",
              "      <td>Kære alle sammen\\n\\nJeg hedder Franciska. Jeg ...</td>\n",
              "    </tr>\n",
              "    <tr>\n",
              "      <th>2</th>\n",
              "      <td>2</td>\n",
              "      <td>https://dansketaler.dk/tale/alex-vanopslaghs-f...</td>\n",
              "      <td>Alex Vanopslagh</td>\n",
              "      <td>Politisk leder for Liberal Alliance</td>\n",
              "      <td>(Tak for introduktionen, Niels. Til de af jer,...</td>\n",
              "    </tr>\n",
              "    <tr>\n",
              "      <th>3</th>\n",
              "      <td>4</td>\n",
              "      <td>https://dansketaler.dk/tale/statsminister-lars...</td>\n",
              "      <td>Lars Løkke Rasmussen</td>\n",
              "      <td>Statsminister</td>\n",
              "      <td>Danmark er et dejligt land. Et af de bedste i ...</td>\n",
              "    </tr>\n",
              "    <tr>\n",
              "      <th>4</th>\n",
              "      <td>5</td>\n",
              "      <td>https://dansketaler.dk/tale/jakob-ellemann-jen...</td>\n",
              "      <td>Jakob Ellemann-Jensen</td>\n",
              "      <td>Folketingsmedlem for Venstre</td>\n",
              "      <td>Hvor er det dejligt at være her i Vejle til Ve...</td>\n",
              "    </tr>\n",
              "  </tbody>\n",
              "</table>\n",
              "</div>"
            ],
            "text/plain": [
              "   index                                               link  \\\n",
              "0      0  https://dansketaler.dk/tale/mette-frederiksens...   \n",
              "1      1  https://dansketaler.dk/tale/franciska-rosenkil...   \n",
              "2      2  https://dansketaler.dk/tale/alex-vanopslaghs-f...   \n",
              "3      4  https://dansketaler.dk/tale/statsminister-lars...   \n",
              "4      5  https://dansketaler.dk/tale/jakob-ellemann-jen...   \n",
              "\n",
              "                   taler                         politic_party  \\\n",
              "0      Mette Frederiksen                         Statsminister   \n",
              "1   Franciska Rosenkilde     Politiske leder for Alternativet    \n",
              "2        Alex Vanopslagh  Politisk leder for Liberal Alliance    \n",
              "3   Lars Løkke Rasmussen                        Statsminister    \n",
              "4  Jakob Ellemann-Jensen          Folketingsmedlem for Venstre   \n",
              "\n",
              "                                              speech  \n",
              "0  Tak til Alberte for den smukke sang. Du og din...  \n",
              "1  Kære alle sammen\\n\\nJeg hedder Franciska. Jeg ...  \n",
              "2  (Tak for introduktionen, Niels. Til de af jer,...  \n",
              "3  Danmark er et dejligt land. Et af de bedste i ...  \n",
              "4  Hvor er det dejligt at være her i Vejle til Ve...  "
            ]
          },
          "execution_count": 36,
          "metadata": {},
          "output_type": "execute_result"
        }
      ],
      "source": [
        "data.head()"
      ]
    },
    {
      "cell_type": "code",
      "execution_count": null,
      "metadata": {
        "colab": {
          "base_uri": "https://localhost:8080/",
          "height": 337
        },
        "id": "iwilAt8rPlRc",
        "outputId": "f02b963f-09b5-492a-e59d-856e5811de8d"
      },
      "outputs": [
        {
          "data": {
            "text/html": [
              "<div>\n",
              "<style scoped>\n",
              "    .dataframe tbody tr th:only-of-type {\n",
              "        vertical-align: middle;\n",
              "    }\n",
              "\n",
              "    .dataframe tbody tr th {\n",
              "        vertical-align: top;\n",
              "    }\n",
              "\n",
              "    .dataframe thead th {\n",
              "        text-align: right;\n",
              "    }\n",
              "</style>\n",
              "<table border=\"1\" class=\"dataframe\">\n",
              "  <thead>\n",
              "    <tr style=\"text-align: right;\">\n",
              "      <th></th>\n",
              "      <th>index</th>\n",
              "      <th>link</th>\n",
              "      <th>taler</th>\n",
              "      <th>politic_party</th>\n",
              "      <th>speech</th>\n",
              "      <th>politc_party</th>\n",
              "      <th>ideology</th>\n",
              "      <th>2019_votes</th>\n",
              "      <th>2022_votes</th>\n",
              "      <th>colour</th>\n",
              "    </tr>\n",
              "  </thead>\n",
              "  <tbody>\n",
              "    <tr>\n",
              "      <th>0</th>\n",
              "      <td>0</td>\n",
              "      <td>https://dansketaler.dk/tale/mette-frederiksens...</td>\n",
              "      <td>Mette Frederiksen</td>\n",
              "      <td>Statsminister</td>\n",
              "      <td>Tak til Alberte for den smukke sang. Du og din...</td>\n",
              "      <td>Social Democrats</td>\n",
              "      <td>Social Democracy</td>\n",
              "      <td>0.259</td>\n",
              "      <td>0.275</td>\n",
              "      <td>Red</td>\n",
              "    </tr>\n",
              "    <tr>\n",
              "      <th>1</th>\n",
              "      <td>6</td>\n",
              "      <td>https://dansketaler.dk/tale/mette-frederiksens...</td>\n",
              "      <td>Mette Frederiksen</td>\n",
              "      <td>Statsminister</td>\n",
              "      <td>Deres Majestæt.\\n\\nDeres Kongelige Højheder.\\n...</td>\n",
              "      <td>Social Democrats</td>\n",
              "      <td>Social Democracy</td>\n",
              "      <td>0.259</td>\n",
              "      <td>0.275</td>\n",
              "      <td>Red</td>\n",
              "    </tr>\n",
              "    <tr>\n",
              "      <th>2</th>\n",
              "      <td>8</td>\n",
              "      <td>https://dansketaler.dk/tale/mette-frederiksens...</td>\n",
              "      <td>Mette Frederiksen</td>\n",
              "      <td>Statsminister</td>\n",
              "      <td>Hjertelig velkommen. Og tak, fordi I har rydde...</td>\n",
              "      <td>Social Democrats</td>\n",
              "      <td>Social Democracy</td>\n",
              "      <td>0.259</td>\n",
              "      <td>0.275</td>\n",
              "      <td>Red</td>\n",
              "    </tr>\n",
              "    <tr>\n",
              "      <th>3</th>\n",
              "      <td>19</td>\n",
              "      <td>https://dansketaler.dk/tale/mette-frederiksens...</td>\n",
              "      <td>Mette Frederiksen</td>\n",
              "      <td>Statsminister</td>\n",
              "      <td>Danmark er et fantastisk land. Men tiderne er ...</td>\n",
              "      <td>Social Democrats</td>\n",
              "      <td>Social Democracy</td>\n",
              "      <td>0.259</td>\n",
              "      <td>0.275</td>\n",
              "      <td>Red</td>\n",
              "    </tr>\n",
              "    <tr>\n",
              "      <th>4</th>\n",
              "      <td>21</td>\n",
              "      <td>https://dansketaler.dk/tale/mette-frederiksens...</td>\n",
              "      <td>Mette Frederiksen</td>\n",
              "      <td>Statsminister</td>\n",
              "      <td>Kære danskere. Kære ukrainere.\\n\\nI aften for ...</td>\n",
              "      <td>Social Democrats</td>\n",
              "      <td>Social Democracy</td>\n",
              "      <td>0.259</td>\n",
              "      <td>0.275</td>\n",
              "      <td>Red</td>\n",
              "    </tr>\n",
              "  </tbody>\n",
              "</table>\n",
              "</div>"
            ],
            "text/plain": [
              "   index                                               link  \\\n",
              "0      0  https://dansketaler.dk/tale/mette-frederiksens...   \n",
              "1      6  https://dansketaler.dk/tale/mette-frederiksens...   \n",
              "2      8  https://dansketaler.dk/tale/mette-frederiksens...   \n",
              "3     19  https://dansketaler.dk/tale/mette-frederiksens...   \n",
              "4     21  https://dansketaler.dk/tale/mette-frederiksens...   \n",
              "\n",
              "               taler   politic_party  \\\n",
              "0  Mette Frederiksen   Statsminister   \n",
              "1  Mette Frederiksen  Statsminister    \n",
              "2  Mette Frederiksen   Statsminister   \n",
              "3  Mette Frederiksen   Statsminister   \n",
              "4  Mette Frederiksen  Statsminister    \n",
              "\n",
              "                                              speech      politc_party  \\\n",
              "0  Tak til Alberte for den smukke sang. Du og din...  Social Democrats   \n",
              "1  Deres Majestæt.\\n\\nDeres Kongelige Højheder.\\n...  Social Democrats   \n",
              "2  Hjertelig velkommen. Og tak, fordi I har rydde...  Social Democrats   \n",
              "3  Danmark er et fantastisk land. Men tiderne er ...  Social Democrats   \n",
              "4  Kære danskere. Kære ukrainere.\\n\\nI aften for ...  Social Democrats   \n",
              "\n",
              "           ideology  2019_votes  2022_votes colour  \n",
              "0  Social Democracy       0.259       0.275    Red  \n",
              "1  Social Democracy       0.259       0.275    Red  \n",
              "2  Social Democracy       0.259       0.275    Red  \n",
              "3  Social Democracy       0.259       0.275    Red  \n",
              "4  Social Democracy       0.259       0.275    Red  "
            ]
          },
          "execution_count": 37,
          "metadata": {},
          "output_type": "execute_result"
        }
      ],
      "source": [
        "#Merge both Dataframes, so now we also have the target (colour)\n",
        "data = pd.merge(data, results, on=\"taler\")\n",
        "data.head()\n"
      ]
    },
    {
      "cell_type": "code",
      "execution_count": null,
      "metadata": {
        "colab": {
          "base_uri": "https://localhost:8080/",
          "height": 206
        },
        "id": "7xBkeh4SP4SN",
        "outputId": "cb78bb6a-26ef-4e08-d037-dddaec7cf07e"
      },
      "outputs": [
        {
          "data": {
            "text/html": [
              "<div>\n",
              "<style scoped>\n",
              "    .dataframe tbody tr th:only-of-type {\n",
              "        vertical-align: middle;\n",
              "    }\n",
              "\n",
              "    .dataframe tbody tr th {\n",
              "        vertical-align: top;\n",
              "    }\n",
              "\n",
              "    .dataframe thead th {\n",
              "        text-align: right;\n",
              "    }\n",
              "</style>\n",
              "<table border=\"1\" class=\"dataframe\">\n",
              "  <thead>\n",
              "    <tr style=\"text-align: right;\">\n",
              "      <th></th>\n",
              "      <th>politc_party</th>\n",
              "      <th>taler</th>\n",
              "      <th>speech</th>\n",
              "      <th>colour</th>\n",
              "    </tr>\n",
              "  </thead>\n",
              "  <tbody>\n",
              "    <tr>\n",
              "      <th>0</th>\n",
              "      <td>Social Democrats</td>\n",
              "      <td>Mette Frederiksen</td>\n",
              "      <td>Tak til Alberte for den smukke sang. Du og din...</td>\n",
              "      <td>Red</td>\n",
              "    </tr>\n",
              "    <tr>\n",
              "      <th>1</th>\n",
              "      <td>Social Democrats</td>\n",
              "      <td>Mette Frederiksen</td>\n",
              "      <td>Deres Majestæt.\\n\\nDeres Kongelige Højheder.\\n...</td>\n",
              "      <td>Red</td>\n",
              "    </tr>\n",
              "    <tr>\n",
              "      <th>2</th>\n",
              "      <td>Social Democrats</td>\n",
              "      <td>Mette Frederiksen</td>\n",
              "      <td>Hjertelig velkommen. Og tak, fordi I har rydde...</td>\n",
              "      <td>Red</td>\n",
              "    </tr>\n",
              "    <tr>\n",
              "      <th>3</th>\n",
              "      <td>Social Democrats</td>\n",
              "      <td>Mette Frederiksen</td>\n",
              "      <td>Danmark er et fantastisk land. Men tiderne er ...</td>\n",
              "      <td>Red</td>\n",
              "    </tr>\n",
              "    <tr>\n",
              "      <th>4</th>\n",
              "      <td>Social Democrats</td>\n",
              "      <td>Mette Frederiksen</td>\n",
              "      <td>Kære danskere. Kære ukrainere.\\n\\nI aften for ...</td>\n",
              "      <td>Red</td>\n",
              "    </tr>\n",
              "  </tbody>\n",
              "</table>\n",
              "</div>"
            ],
            "text/plain": [
              "       politc_party              taler  \\\n",
              "0  Social Democrats  Mette Frederiksen   \n",
              "1  Social Democrats  Mette Frederiksen   \n",
              "2  Social Democrats  Mette Frederiksen   \n",
              "3  Social Democrats  Mette Frederiksen   \n",
              "4  Social Democrats  Mette Frederiksen   \n",
              "\n",
              "                                              speech colour  \n",
              "0  Tak til Alberte for den smukke sang. Du og din...    Red  \n",
              "1  Deres Majestæt.\\n\\nDeres Kongelige Højheder.\\n...    Red  \n",
              "2  Hjertelig velkommen. Og tak, fordi I har rydde...    Red  \n",
              "3  Danmark er et fantastisk land. Men tiderne er ...    Red  \n",
              "4  Kære danskere. Kære ukrainere.\\n\\nI aften for ...    Red  "
            ]
          },
          "execution_count": 38,
          "metadata": {},
          "output_type": "execute_result"
        }
      ],
      "source": [
        "# Only take the relevant columns\n",
        "data_new_backup = data.copy()\n",
        "data = data[['politc_party', 'taler', 'speech', 'colour']]\n",
        "data.head()"
      ]
    },
    {
      "cell_type": "code",
      "execution_count": null,
      "metadata": {
        "colab": {
          "base_uri": "https://localhost:8080/",
          "height": 768
        },
        "id": "-8KUyt-VQCKn",
        "outputId": "5c5413d4-d561-4158-af9f-a3bc8f36a8d5"
      },
      "outputs": [
        {
          "data": {
            "text/html": [
              "<div>\n",
              "<style scoped>\n",
              "    .dataframe tbody tr th:only-of-type {\n",
              "        vertical-align: middle;\n",
              "    }\n",
              "\n",
              "    .dataframe tbody tr th {\n",
              "        vertical-align: top;\n",
              "    }\n",
              "\n",
              "    .dataframe thead th {\n",
              "        text-align: right;\n",
              "    }\n",
              "</style>\n",
              "<table border=\"1\" class=\"dataframe\">\n",
              "  <thead>\n",
              "    <tr style=\"text-align: right;\">\n",
              "      <th></th>\n",
              "      <th>politc_party</th>\n",
              "      <th>taler</th>\n",
              "      <th>speech</th>\n",
              "      <th>colour</th>\n",
              "      <th>0</th>\n",
              "      <th>1</th>\n",
              "      <th>2</th>\n",
              "      <th>3</th>\n",
              "      <th>4</th>\n",
              "      <th>5</th>\n",
              "      <th>...</th>\n",
              "      <th>685</th>\n",
              "      <th>686</th>\n",
              "      <th>687</th>\n",
              "      <th>688</th>\n",
              "      <th>689</th>\n",
              "      <th>690</th>\n",
              "      <th>691</th>\n",
              "      <th>692</th>\n",
              "      <th>693</th>\n",
              "      <th>694</th>\n",
              "    </tr>\n",
              "  </thead>\n",
              "  <tbody>\n",
              "    <tr>\n",
              "      <th>0</th>\n",
              "      <td>Social Democrats</td>\n",
              "      <td>Mette Frederiksen</td>\n",
              "      <td>Tak til Alberte for den smukke sang. Du og din...</td>\n",
              "      <td>Red</td>\n",
              "      <td>Tak til Alberte for den smukke sang</td>\n",
              "      <td>Du og dine sange hjalp os igennem krisen</td>\n",
              "      <td>Nu minder du os om den verden, der igen vælte...</td>\n",
              "      <td>Bøgen er sprunget ud</td>\n",
              "      <td>Fuglene er kommet igen</td>\n",
              "      <td>De lyse nætter er over os</td>\n",
              "      <td>...</td>\n",
              "      <td>None</td>\n",
              "      <td>None</td>\n",
              "      <td>None</td>\n",
              "      <td>None</td>\n",
              "      <td>None</td>\n",
              "      <td>None</td>\n",
              "      <td>None</td>\n",
              "      <td>None</td>\n",
              "      <td>None</td>\n",
              "      <td>None</td>\n",
              "    </tr>\n",
              "    <tr>\n",
              "      <th>1</th>\n",
              "      <td>Social Democrats</td>\n",
              "      <td>Mette Frederiksen</td>\n",
              "      <td>Deres Majestæt.\\n\\nDeres Kongelige Højheder.\\n...</td>\n",
              "      <td>Red</td>\n",
              "      <td>Deres Majestæt</td>\n",
              "      <td>\\n\\nDeres Kongelige Højheder</td>\n",
              "      <td>\\n\\nFolketingets formand</td>\n",
              "      <td>\\n\\nÆrede medlemmer af Folketinget</td>\n",
              "      <td>\\n\\nAlle jer, der ser med</td>\n",
              "      <td>\\n\\nJeg vil gerne fortælle en historie om tre ...</td>\n",
              "      <td>...</td>\n",
              "      <td>None</td>\n",
              "      <td>None</td>\n",
              "      <td>None</td>\n",
              "      <td>None</td>\n",
              "      <td>None</td>\n",
              "      <td>None</td>\n",
              "      <td>None</td>\n",
              "      <td>None</td>\n",
              "      <td>None</td>\n",
              "      <td>None</td>\n",
              "    </tr>\n",
              "    <tr>\n",
              "      <th>2</th>\n",
              "      <td>Social Democrats</td>\n",
              "      <td>Mette Frederiksen</td>\n",
              "      <td>Hjertelig velkommen. Og tak, fordi I har rydde...</td>\n",
              "      <td>Red</td>\n",
              "      <td>Hjertelig velkommen</td>\n",
              "      <td>Og tak, fordi I har ryddet kalenderen en hel ...</td>\n",
              "      <td>\\n\\n\\n\\nFor halvandet års tid siden</td>\n",
              "      <td>I de mørkeste uger</td>\n",
              "      <td>Var jeg ikke sikker på, at vi i august 2021 v...</td>\n",
              "      <td>\\n\\n\\n\\nVi sagde, at god og konsekvent epidemi...</td>\n",
              "      <td>...</td>\n",
              "      <td>None</td>\n",
              "      <td>None</td>\n",
              "      <td>None</td>\n",
              "      <td>None</td>\n",
              "      <td>None</td>\n",
              "      <td>None</td>\n",
              "      <td>None</td>\n",
              "      <td>None</td>\n",
              "      <td>None</td>\n",
              "      <td>None</td>\n",
              "    </tr>\n",
              "    <tr>\n",
              "      <th>3</th>\n",
              "      <td>Social Democrats</td>\n",
              "      <td>Mette Frederiksen</td>\n",
              "      <td>Danmark er et fantastisk land. Men tiderne er ...</td>\n",
              "      <td>Red</td>\n",
              "      <td>Danmark er et fantastisk land</td>\n",
              "      <td>Men tiderne er svære</td>\n",
              "      <td>Der er krig i Europa og økonomisk usikkerhed</td>\n",
              "      <td>Priserne stiger på alt dét, vi har brug for –...</td>\n",
              "      <td>Den utryghed, det er den vigtigste politiske ...</td>\n",
              "      <td>Vi ved, det kan lade sig gøre, for ligesom vi...</td>\n",
              "      <td>...</td>\n",
              "      <td>None</td>\n",
              "      <td>None</td>\n",
              "      <td>None</td>\n",
              "      <td>None</td>\n",
              "      <td>None</td>\n",
              "      <td>None</td>\n",
              "      <td>None</td>\n",
              "      <td>None</td>\n",
              "      <td>None</td>\n",
              "      <td>None</td>\n",
              "    </tr>\n",
              "    <tr>\n",
              "      <th>4</th>\n",
              "      <td>Social Democrats</td>\n",
              "      <td>Mette Frederiksen</td>\n",
              "      <td>Kære danskere. Kære ukrainere.\\n\\nI aften for ...</td>\n",
              "      <td>Red</td>\n",
              "      <td>Kære danskere</td>\n",
              "      <td>Kære ukrainere</td>\n",
              "      <td>\\n\\nI aften for 77 år siden kom den nyhed, som...</td>\n",
              "      <td>Danmark var atter frit</td>\n",
              "      <td>\\n\\nForestil jer Rådhuspladsen</td>\n",
              "      <td>Lige her, hvor vi er nu</td>\n",
              "      <td>...</td>\n",
              "      <td>None</td>\n",
              "      <td>None</td>\n",
              "      <td>None</td>\n",
              "      <td>None</td>\n",
              "      <td>None</td>\n",
              "      <td>None</td>\n",
              "      <td>None</td>\n",
              "      <td>None</td>\n",
              "      <td>None</td>\n",
              "      <td>None</td>\n",
              "    </tr>\n",
              "  </tbody>\n",
              "</table>\n",
              "<p>5 rows × 699 columns</p>\n",
              "</div>"
            ],
            "text/plain": [
              "       politc_party              taler  \\\n",
              "0  Social Democrats  Mette Frederiksen   \n",
              "1  Social Democrats  Mette Frederiksen   \n",
              "2  Social Democrats  Mette Frederiksen   \n",
              "3  Social Democrats  Mette Frederiksen   \n",
              "4  Social Democrats  Mette Frederiksen   \n",
              "\n",
              "                                              speech colour  \\\n",
              "0  Tak til Alberte for den smukke sang. Du og din...    Red   \n",
              "1  Deres Majestæt.\\n\\nDeres Kongelige Højheder.\\n...    Red   \n",
              "2  Hjertelig velkommen. Og tak, fordi I har rydde...    Red   \n",
              "3  Danmark er et fantastisk land. Men tiderne er ...    Red   \n",
              "4  Kære danskere. Kære ukrainere.\\n\\nI aften for ...    Red   \n",
              "\n",
              "                                     0  \\\n",
              "0  Tak til Alberte for den smukke sang   \n",
              "1                       Deres Majestæt   \n",
              "2                  Hjertelig velkommen   \n",
              "3        Danmark er et fantastisk land   \n",
              "4                        Kære danskere   \n",
              "\n",
              "                                                   1  \\\n",
              "0           Du og dine sange hjalp os igennem krisen   \n",
              "1                       \\n\\nDeres Kongelige Højheder   \n",
              "2   Og tak, fordi I har ryddet kalenderen en hel ...   \n",
              "3                               Men tiderne er svære   \n",
              "4                                     Kære ukrainere   \n",
              "\n",
              "                                                   2  \\\n",
              "0   Nu minder du os om den verden, der igen vælte...   \n",
              "1                           \\n\\nFolketingets formand   \n",
              "2                \\n\\n\\n\\nFor halvandet års tid siden   \n",
              "3       Der er krig i Europa og økonomisk usikkerhed   \n",
              "4  \\n\\nI aften for 77 år siden kom den nyhed, som...   \n",
              "\n",
              "                                                   3  \\\n",
              "0                               Bøgen er sprunget ud   \n",
              "1                 \\n\\nÆrede medlemmer af Folketinget   \n",
              "2                                 I de mørkeste uger   \n",
              "3   Priserne stiger på alt dét, vi har brug for –...   \n",
              "4                             Danmark var atter frit   \n",
              "\n",
              "                                                   4  \\\n",
              "0                             Fuglene er kommet igen   \n",
              "1                          \\n\\nAlle jer, der ser med   \n",
              "2   Var jeg ikke sikker på, at vi i august 2021 v...   \n",
              "3   Den utryghed, det er den vigtigste politiske ...   \n",
              "4                     \\n\\nForestil jer Rådhuspladsen   \n",
              "\n",
              "                                                   5  ...   685   686   687  \\\n",
              "0                          De lyse nætter er over os  ...  None  None  None   \n",
              "1  \\n\\nJeg vil gerne fortælle en historie om tre ...  ...  None  None  None   \n",
              "2  \\n\\n\\n\\nVi sagde, at god og konsekvent epidemi...  ...  None  None  None   \n",
              "3   Vi ved, det kan lade sig gøre, for ligesom vi...  ...  None  None  None   \n",
              "4                            Lige her, hvor vi er nu  ...  None  None  None   \n",
              "\n",
              "    688   689   690   691   692   693   694  \n",
              "0  None  None  None  None  None  None  None  \n",
              "1  None  None  None  None  None  None  None  \n",
              "2  None  None  None  None  None  None  None  \n",
              "3  None  None  None  None  None  None  None  \n",
              "4  None  None  None  None  None  None  None  \n",
              "\n",
              "[5 rows x 699 columns]"
            ]
          },
          "execution_count": 39,
          "metadata": {},
          "output_type": "execute_result"
        }
      ],
      "source": [
        "#Now, all the speeches are put into a columns separated per sentences. Instead of having the entire speech, we do also have the sentences\n",
        "data_split = data[\"speech\"].str.split('.', expand=True)\n",
        "data = pd.concat([data, data_split], axis=1) #join sentences with original dataframe\n",
        "data.head()"
      ]
    },
    {
      "cell_type": "code",
      "execution_count": null,
      "metadata": {
        "colab": {
          "base_uri": "https://localhost:8080/",
          "height": 206
        },
        "id": "vWqI3643QKNh",
        "outputId": "d95b9f5d-e65b-42a5-ef7a-f7e8c3f74e91"
      },
      "outputs": [
        {
          "data": {
            "text/html": [
              "<div>\n",
              "<style scoped>\n",
              "    .dataframe tbody tr th:only-of-type {\n",
              "        vertical-align: middle;\n",
              "    }\n",
              "\n",
              "    .dataframe tbody tr th {\n",
              "        vertical-align: top;\n",
              "    }\n",
              "\n",
              "    .dataframe thead th {\n",
              "        text-align: right;\n",
              "    }\n",
              "</style>\n",
              "<table border=\"1\" class=\"dataframe\">\n",
              "  <thead>\n",
              "    <tr style=\"text-align: right;\">\n",
              "      <th></th>\n",
              "      <th>taler</th>\n",
              "      <th>politc_party</th>\n",
              "      <th>speech</th>\n",
              "      <th>colour</th>\n",
              "      <th>variable</th>\n",
              "      <th>sentences</th>\n",
              "    </tr>\n",
              "  </thead>\n",
              "  <tbody>\n",
              "    <tr>\n",
              "      <th>0</th>\n",
              "      <td>Mette Frederiksen</td>\n",
              "      <td>Social Democrats</td>\n",
              "      <td>Tak til Alberte for den smukke sang. Du og din...</td>\n",
              "      <td>Red</td>\n",
              "      <td>0</td>\n",
              "      <td>Tak til Alberte for den smukke sang</td>\n",
              "    </tr>\n",
              "    <tr>\n",
              "      <th>1</th>\n",
              "      <td>Mette Frederiksen</td>\n",
              "      <td>Social Democrats</td>\n",
              "      <td>Deres Majestæt.\\n\\nDeres Kongelige Højheder.\\n...</td>\n",
              "      <td>Red</td>\n",
              "      <td>0</td>\n",
              "      <td>Deres Majestæt</td>\n",
              "    </tr>\n",
              "    <tr>\n",
              "      <th>2</th>\n",
              "      <td>Mette Frederiksen</td>\n",
              "      <td>Social Democrats</td>\n",
              "      <td>Hjertelig velkommen. Og tak, fordi I har rydde...</td>\n",
              "      <td>Red</td>\n",
              "      <td>0</td>\n",
              "      <td>Hjertelig velkommen</td>\n",
              "    </tr>\n",
              "    <tr>\n",
              "      <th>3</th>\n",
              "      <td>Mette Frederiksen</td>\n",
              "      <td>Social Democrats</td>\n",
              "      <td>Danmark er et fantastisk land. Men tiderne er ...</td>\n",
              "      <td>Red</td>\n",
              "      <td>0</td>\n",
              "      <td>Danmark er et fantastisk land</td>\n",
              "    </tr>\n",
              "    <tr>\n",
              "      <th>4</th>\n",
              "      <td>Mette Frederiksen</td>\n",
              "      <td>Social Democrats</td>\n",
              "      <td>Kære danskere. Kære ukrainere.\\n\\nI aften for ...</td>\n",
              "      <td>Red</td>\n",
              "      <td>0</td>\n",
              "      <td>Kære danskere</td>\n",
              "    </tr>\n",
              "  </tbody>\n",
              "</table>\n",
              "</div>"
            ],
            "text/plain": [
              "               taler      politc_party  \\\n",
              "0  Mette Frederiksen  Social Democrats   \n",
              "1  Mette Frederiksen  Social Democrats   \n",
              "2  Mette Frederiksen  Social Democrats   \n",
              "3  Mette Frederiksen  Social Democrats   \n",
              "4  Mette Frederiksen  Social Democrats   \n",
              "\n",
              "                                              speech colour variable  \\\n",
              "0  Tak til Alberte for den smukke sang. Du og din...    Red        0   \n",
              "1  Deres Majestæt.\\n\\nDeres Kongelige Højheder.\\n...    Red        0   \n",
              "2  Hjertelig velkommen. Og tak, fordi I har rydde...    Red        0   \n",
              "3  Danmark er et fantastisk land. Men tiderne er ...    Red        0   \n",
              "4  Kære danskere. Kære ukrainere.\\n\\nI aften for ...    Red        0   \n",
              "\n",
              "                             sentences  \n",
              "0  Tak til Alberte for den smukke sang  \n",
              "1                       Deres Majestæt  \n",
              "2                  Hjertelig velkommen  \n",
              "3        Danmark er et fantastisk land  \n",
              "4                        Kære danskere  "
            ]
          },
          "execution_count": 40,
          "metadata": {},
          "output_type": "execute_result"
        }
      ],
      "source": [
        "#Columns are melted, so they are put into a row instead\n",
        "data_melt = data.melt(id_vars=['taler', 'politc_party', 'speech', 'colour'], value_name=\"sentences\")\n",
        "data = data_melt\n",
        "data_backup = data.copy()\n",
        "data.head()"
      ]
    },
    {
      "cell_type": "code",
      "execution_count": null,
      "metadata": {
        "colab": {
          "base_uri": "https://localhost:8080/"
        },
        "id": "l_J4fdYLSlxn",
        "outputId": "c66cb387-32f4-464a-deaa-5954f0b4d2c2"
      },
      "outputs": [
        {
          "data": {
            "text/plain": [
              "(154985, 6)"
            ]
          },
          "execution_count": 41,
          "metadata": {},
          "output_type": "execute_result"
        }
      ],
      "source": [
        "#the number of rows is equal to the number of sentences\n",
        "data.shape"
      ]
    },
    {
      "cell_type": "code",
      "execution_count": null,
      "metadata": {
        "colab": {
          "base_uri": "https://localhost:8080/"
        },
        "id": "Q3SnqGUKR8f7",
        "outputId": "1fdf5201-41d2-461d-f81c-cacb460755d2"
      },
      "outputs": [
        {
          "name": "stdout",
          "output_type": "stream",
          "text": [
            "number of NaN cells:  116432\n",
            "number of empty cells:  163\n"
          ]
        }
      ],
      "source": [
        "print('number of NaN cells: ', data['sentences'].isna().sum())\n",
        "print('number of empty cells: ', len(data[data['sentences']=='']))"
      ]
    },
    {
      "cell_type": "code",
      "execution_count": null,
      "metadata": {
        "colab": {
          "base_uri": "https://localhost:8080/"
        },
        "id": "6URfS0eGVEkE",
        "outputId": "ff7d6a76-df02-4e52-9f6d-a3681f8ec823"
      },
      "outputs": [
        {
          "name": "stdout",
          "output_type": "stream",
          "text": [
            "new shape is (38390, 6)\n"
          ]
        }
      ],
      "source": [
        "#Removing null and NaN rows\n",
        "data.dropna(inplace=True)\n",
        "data = data[data['sentences'] != '']\n",
        "print('new shape is', data.shape)\n"
      ]
    },
    {
      "cell_type": "code",
      "execution_count": null,
      "metadata": {
        "colab": {
          "base_uri": "https://localhost:8080/",
          "height": 206
        },
        "id": "xU26mn0NV3fW",
        "outputId": "475b7ed7-0cb3-4929-91d1-a39fe5bdf4f6"
      },
      "outputs": [
        {
          "data": {
            "text/html": [
              "<div>\n",
              "<style scoped>\n",
              "    .dataframe tbody tr th:only-of-type {\n",
              "        vertical-align: middle;\n",
              "    }\n",
              "\n",
              "    .dataframe tbody tr th {\n",
              "        vertical-align: top;\n",
              "    }\n",
              "\n",
              "    .dataframe thead th {\n",
              "        text-align: right;\n",
              "    }\n",
              "</style>\n",
              "<table border=\"1\" class=\"dataframe\">\n",
              "  <thead>\n",
              "    <tr style=\"text-align: right;\">\n",
              "      <th></th>\n",
              "      <th>taler</th>\n",
              "      <th>politc_party</th>\n",
              "      <th>speech</th>\n",
              "      <th>colour</th>\n",
              "      <th>variable</th>\n",
              "      <th>sentences</th>\n",
              "    </tr>\n",
              "  </thead>\n",
              "  <tbody>\n",
              "    <tr>\n",
              "      <th>0</th>\n",
              "      <td>Mette Frederiksen</td>\n",
              "      <td>Social Democrats</td>\n",
              "      <td>Tak til Alberte for den smukke sang. Du og din...</td>\n",
              "      <td>Red</td>\n",
              "      <td>0</td>\n",
              "      <td>Tak til Alberte for den smukke sang</td>\n",
              "    </tr>\n",
              "    <tr>\n",
              "      <th>1</th>\n",
              "      <td>Mette Frederiksen</td>\n",
              "      <td>Social Democrats</td>\n",
              "      <td>Deres Majestæt.\\n\\nDeres Kongelige Højheder.\\n...</td>\n",
              "      <td>Red</td>\n",
              "      <td>0</td>\n",
              "      <td>Deres Majestæt</td>\n",
              "    </tr>\n",
              "    <tr>\n",
              "      <th>2</th>\n",
              "      <td>Mette Frederiksen</td>\n",
              "      <td>Social Democrats</td>\n",
              "      <td>Hjertelig velkommen. Og tak, fordi I har rydde...</td>\n",
              "      <td>Red</td>\n",
              "      <td>0</td>\n",
              "      <td>Hjertelig velkommen</td>\n",
              "    </tr>\n",
              "    <tr>\n",
              "      <th>3</th>\n",
              "      <td>Mette Frederiksen</td>\n",
              "      <td>Social Democrats</td>\n",
              "      <td>Danmark er et fantastisk land. Men tiderne er ...</td>\n",
              "      <td>Red</td>\n",
              "      <td>0</td>\n",
              "      <td>Danmark er et fantastisk land</td>\n",
              "    </tr>\n",
              "    <tr>\n",
              "      <th>4</th>\n",
              "      <td>Mette Frederiksen</td>\n",
              "      <td>Social Democrats</td>\n",
              "      <td>Kære danskere. Kære ukrainere.\\n\\nI aften for ...</td>\n",
              "      <td>Red</td>\n",
              "      <td>0</td>\n",
              "      <td>Kære danskere</td>\n",
              "    </tr>\n",
              "  </tbody>\n",
              "</table>\n",
              "</div>"
            ],
            "text/plain": [
              "               taler      politc_party  \\\n",
              "0  Mette Frederiksen  Social Democrats   \n",
              "1  Mette Frederiksen  Social Democrats   \n",
              "2  Mette Frederiksen  Social Democrats   \n",
              "3  Mette Frederiksen  Social Democrats   \n",
              "4  Mette Frederiksen  Social Democrats   \n",
              "\n",
              "                                              speech colour variable  \\\n",
              "0  Tak til Alberte for den smukke sang. Du og din...    Red        0   \n",
              "1  Deres Majestæt.\\n\\nDeres Kongelige Højheder.\\n...    Red        0   \n",
              "2  Hjertelig velkommen. Og tak, fordi I har rydde...    Red        0   \n",
              "3  Danmark er et fantastisk land. Men tiderne er ...    Red        0   \n",
              "4  Kære danskere. Kære ukrainere.\\n\\nI aften for ...    Red        0   \n",
              "\n",
              "                             sentences  \n",
              "0  Tak til Alberte for den smukke sang  \n",
              "1                       Deres Majestæt  \n",
              "2                  Hjertelig velkommen  \n",
              "3        Danmark er et fantastisk land  \n",
              "4                        Kære danskere  "
            ]
          },
          "execution_count": 44,
          "metadata": {},
          "output_type": "execute_result"
        }
      ],
      "source": [
        "data.head()"
      ]
    },
    {
      "cell_type": "code",
      "execution_count": null,
      "metadata": {
        "id": "BKMuL1vxZTWU"
      },
      "outputs": [],
      "source": [
        "# data.to_csv('sentences.csv')"
      ]
    },
    {
      "cell_type": "code",
      "execution_count": null,
      "metadata": {
        "id": "U3X8ctH5eUai"
      },
      "outputs": [],
      "source": [
        "# data = pd.read_csv('sentences.csv')"
      ]
    },
    {
      "cell_type": "code",
      "execution_count": null,
      "metadata": {
        "colab": {
          "base_uri": "https://localhost:8080/"
        },
        "id": "a7fFn89hafbo",
        "outputId": "938b649a-c7ee-4758-a871-6ae3432dee49"
      },
      "outputs": [
        {
          "data": {
            "text/plain": [
              "Lars Løkke Rasmussen     12270\n",
              "Mette Frederiksen         7799\n",
              "Pia Olsen Dyhr            4714\n",
              "Søren Pape Poulsen        3435\n",
              "Jakob Ellemann-Jensen     2843\n",
              "Pernille Vermund          2164\n",
              "Alex Vanopslagh           1850\n",
              "Sofie Carsten Nielsen     1485\n",
              "Morten Messerschmidt      1157\n",
              "Franciska Rosenkilde       673\n",
              "Name: taler, dtype: int64"
            ]
          },
          "execution_count": 47,
          "metadata": {},
          "output_type": "execute_result"
        }
      ],
      "source": [
        "#number of sentecers per taler\n",
        "data.taler.value_counts()"
      ]
    },
    {
      "cell_type": "markdown",
      "metadata": {
        "id": "q5o3Cy2W05L1"
      },
      "source": [
        "## NLP"
      ]
    },
    {
      "cell_type": "code",
      "execution_count": null,
      "metadata": {
        "colab": {
          "base_uri": "https://localhost:8080/"
        },
        "id": "tfBVOmLkahAQ",
        "outputId": "c11973d2-2a6d-4526-f621-3c76585ce4f5"
      },
      "outputs": [
        {
          "name": "stdout",
          "output_type": "stream",
          "text": [
            "Collecting da-core-news-md==3.4.0\n",
            "  Downloading https://github.com/explosion/spacy-models/releases/download/da_core_news_md-3.4.0/da_core_news_md-3.4.0-py3-none-any.whl (42.2 MB)\n",
            "     --------------------------------------- 42.2/42.2 MB 21.1 MB/s eta 0:00:00\n",
            "Requirement already satisfied: spacy<3.5.0,>=3.4.0 in c:\\users\\mdela\\anaconda3\\lib\\site-packages (from da-core-news-md==3.4.0) (3.4.1)\n",
            "Requirement already satisfied: numpy>=1.15.0 in c:\\users\\mdela\\anaconda3\\lib\\site-packages (from spacy<3.5.0,>=3.4.0->da-core-news-md==3.4.0) (1.21.5)\n",
            "Requirement already satisfied: thinc<8.2.0,>=8.1.0 in c:\\users\\mdela\\anaconda3\\lib\\site-packages (from spacy<3.5.0,>=3.4.0->da-core-news-md==3.4.0) (8.1.3)\n",
            "Requirement already satisfied: requests<3.0.0,>=2.13.0 in c:\\users\\mdela\\anaconda3\\lib\\site-packages (from spacy<3.5.0,>=3.4.0->da-core-news-md==3.4.0) (2.28.1)\n",
            "Requirement already satisfied: pydantic!=1.8,!=1.8.1,<1.10.0,>=1.7.4 in c:\\users\\mdela\\anaconda3\\lib\\site-packages (from spacy<3.5.0,>=3.4.0->da-core-news-md==3.4.0) (1.8.2)\n",
            "Requirement already satisfied: jinja2 in c:\\users\\mdela\\anaconda3\\lib\\site-packages (from spacy<3.5.0,>=3.4.0->da-core-news-md==3.4.0) (3.1.2)\n",
            "Requirement already satisfied: murmurhash<1.1.0,>=0.28.0 in c:\\users\\mdela\\anaconda3\\lib\\site-packages (from spacy<3.5.0,>=3.4.0->da-core-news-md==3.4.0) (1.0.8)\n",
            "Requirement already satisfied: preshed<3.1.0,>=3.0.2 in c:\\users\\mdela\\anaconda3\\lib\\site-packages (from spacy<3.5.0,>=3.4.0->da-core-news-md==3.4.0) (3.0.7)\n",
            "Requirement already satisfied: setuptools in c:\\users\\mdela\\anaconda3\\lib\\site-packages (from spacy<3.5.0,>=3.4.0->da-core-news-md==3.4.0) (63.4.1)\n",
            "Requirement already satisfied: langcodes<4.0.0,>=3.2.0 in c:\\users\\mdela\\anaconda3\\lib\\site-packages (from spacy<3.5.0,>=3.4.0->da-core-news-md==3.4.0) (3.3.0)\n",
            "Requirement already satisfied: packaging>=20.0 in c:\\users\\mdela\\anaconda3\\lib\\site-packages (from spacy<3.5.0,>=3.4.0->da-core-news-md==3.4.0) (21.3)\n",
            "Requirement already satisfied: catalogue<2.1.0,>=2.0.6 in c:\\users\\mdela\\anaconda3\\lib\\site-packages (from spacy<3.5.0,>=3.4.0->da-core-news-md==3.4.0) (2.0.8)\n",
            "Requirement already satisfied: wasabi<1.1.0,>=0.9.1 in c:\\users\\mdela\\anaconda3\\lib\\site-packages (from spacy<3.5.0,>=3.4.0->da-core-news-md==3.4.0) (0.10.1)\n",
            "Requirement already satisfied: tqdm<5.0.0,>=4.38.0 in c:\\users\\mdela\\anaconda3\\lib\\site-packages (from spacy<3.5.0,>=3.4.0->da-core-news-md==3.4.0) (4.64.0)\n",
            "Requirement already satisfied: srsly<3.0.0,>=2.4.3 in c:\\users\\mdela\\anaconda3\\lib\\site-packages (from spacy<3.5.0,>=3.4.0->da-core-news-md==3.4.0) (2.4.4)\n",
            "Requirement already satisfied: spacy-loggers<2.0.0,>=1.0.0 in c:\\users\\mdela\\anaconda3\\lib\\site-packages (from spacy<3.5.0,>=3.4.0->da-core-news-md==3.4.0) (1.0.3)\n",
            "Requirement already satisfied: typer<0.5.0,>=0.3.0 in c:\\users\\mdela\\anaconda3\\lib\\site-packages (from spacy<3.5.0,>=3.4.0->da-core-news-md==3.4.0) (0.4.2)\n",
            "Requirement already satisfied: spacy-legacy<3.1.0,>=3.0.9 in c:\\users\\mdela\\anaconda3\\lib\\site-packages (from spacy<3.5.0,>=3.4.0->da-core-news-md==3.4.0) (3.0.10)\n",
            "Requirement already satisfied: pathy>=0.3.5 in c:\\users\\mdela\\anaconda3\\lib\\site-packages (from spacy<3.5.0,>=3.4.0->da-core-news-md==3.4.0) (0.6.2)\n",
            "Requirement already satisfied: cymem<2.1.0,>=2.0.2 in c:\\users\\mdela\\anaconda3\\lib\\site-packages (from spacy<3.5.0,>=3.4.0->da-core-news-md==3.4.0) (2.0.6)\n",
            "Requirement already satisfied: pyparsing!=3.0.5,>=2.0.2 in c:\\users\\mdela\\anaconda3\\lib\\site-packages (from packaging>=20.0->spacy<3.5.0,>=3.4.0->da-core-news-md==3.4.0) (3.0.9)\n",
            "Requirement already satisfied: smart-open<6.0.0,>=5.2.1 in c:\\users\\mdela\\anaconda3\\lib\\site-packages (from pathy>=0.3.5->spacy<3.5.0,>=3.4.0->da-core-news-md==3.4.0) (5.2.1)\n",
            "Requirement already satisfied: typing-extensions>=3.7.4.3 in c:\\users\\mdela\\anaconda3\\lib\\site-packages (from pydantic!=1.8,!=1.8.1,<1.10.0,>=1.7.4->spacy<3.5.0,>=3.4.0->da-core-news-md==3.4.0) (4.3.0)\n",
            "Requirement already satisfied: charset-normalizer<3,>=2 in c:\\users\\mdela\\anaconda3\\lib\\site-packages (from requests<3.0.0,>=2.13.0->spacy<3.5.0,>=3.4.0->da-core-news-md==3.4.0) (2.0.4)\n",
            "Requirement already satisfied: urllib3<1.27,>=1.21.1 in c:\\users\\mdela\\anaconda3\\lib\\site-packages (from requests<3.0.0,>=2.13.0->spacy<3.5.0,>=3.4.0->da-core-news-md==3.4.0) (1.26.11)\n",
            "Requirement already satisfied: certifi>=2017.4.17 in c:\\users\\mdela\\anaconda3\\lib\\site-packages (from requests<3.0.0,>=2.13.0->spacy<3.5.0,>=3.4.0->da-core-news-md==3.4.0) (2022.6.15)\n",
            "Requirement already satisfied: idna<4,>=2.5 in c:\\users\\mdela\\anaconda3\\lib\\site-packages (from requests<3.0.0,>=2.13.0->spacy<3.5.0,>=3.4.0->da-core-news-md==3.4.0) (3.3)\n",
            "Requirement already satisfied: confection<1.0.0,>=0.0.1 in c:\\users\\mdela\\anaconda3\\lib\\site-packages (from thinc<8.2.0,>=8.1.0->spacy<3.5.0,>=3.4.0->da-core-news-md==3.4.0) (0.0.3)\n",
            "Requirement already satisfied: blis<0.8.0,>=0.7.8 in c:\\users\\mdela\\anaconda3\\lib\\site-packages (from thinc<8.2.0,>=8.1.0->spacy<3.5.0,>=3.4.0->da-core-news-md==3.4.0) (0.7.8)\n",
            "Requirement already satisfied: colorama in c:\\users\\mdela\\anaconda3\\lib\\site-packages (from tqdm<5.0.0,>=4.38.0->spacy<3.5.0,>=3.4.0->da-core-news-md==3.4.0) (0.4.5)\n",
            "Requirement already satisfied: click<9.0.0,>=7.1.1 in c:\\users\\mdela\\anaconda3\\lib\\site-packages (from typer<0.5.0,>=0.3.0->spacy<3.5.0,>=3.4.0->da-core-news-md==3.4.0) (8.0.4)\n",
            "Requirement already satisfied: MarkupSafe>=2.0 in c:\\users\\mdela\\anaconda3\\lib\\site-packages (from jinja2->spacy<3.5.0,>=3.4.0->da-core-news-md==3.4.0) (2.0.1)\n",
            "✔ Download and installation successful\n",
            "You can now load the package via spacy.load('da_core_news_md')\n"
          ]
        },
        {
          "name": "stderr",
          "output_type": "stream",
          "text": [
            "2022-11-30 13:14:52.117028: W tensorflow/stream_executor/platform/default/dso_loader.cc:64] Could not load dynamic library 'cudart64_110.dll'; dlerror: cudart64_110.dll not found\n",
            "2022-11-30 13:14:52.117687: I tensorflow/stream_executor/cuda/cudart_stub.cc:29] Ignore above cudart dlerror if you do not have a GPU set up on your machine.\n",
            "2022-11-30 13:15:07.381492: W tensorflow/stream_executor/platform/default/dso_loader.cc:64] Could not load dynamic library 'nvcuda.dll'; dlerror: nvcuda.dll not found\n",
            "2022-11-30 13:15:07.381987: W tensorflow/stream_executor/cuda/cuda_driver.cc:269] failed call to cuInit: UNKNOWN ERROR (303)\n",
            "2022-11-30 13:15:07.388550: I tensorflow/stream_executor/cuda/cuda_diagnostics.cc:169] retrieving CUDA diagnostic information for host: DESKTOP-3VMH733\n",
            "2022-11-30 13:15:07.388982: I tensorflow/stream_executor/cuda/cuda_diagnostics.cc:176] hostname: DESKTOP-3VMH733\n"
          ]
        }
      ],
      "source": [
        "!spacy download da_core_news_md"
      ]
    },
    {
      "cell_type": "code",
      "execution_count": null,
      "metadata": {
        "id": "Jg0UC70Zakwx"
      },
      "outputs": [],
      "source": [
        "import spacy\n",
        "nlp = spacy.load(\"da_core_news_md\") #danish module (medium size to avoid RAM problems)"
      ]
    },
    {
      "cell_type": "code",
      "execution_count": null,
      "metadata": {
        "id": "r8qXPUGcauJS"
      },
      "outputs": [],
      "source": [
        "#Tokenizing the sentences\n",
        "def text_prepro(texts):\n",
        "  tokens = []\n",
        "  clean_container = []\n",
        "\n",
        "  for text in nlp.pipe(texts, disable=[\"tagger\", \"parser\", \"ner\"]):\n",
        "\n",
        "    txt = [token.lemma_.lower() for token in text \n",
        "          if token.is_alpha\n",
        "          and not token.is_punct\n",
        "          and not token.like_num]\n",
        "\n",
        "    clean_container.append(\" \".join(txt))\n",
        "    tokens.append(txt)\n",
        "      \n",
        "  return clean_container, tokens"
      ]
    },
    {
      "cell_type": "code",
      "execution_count": null,
      "metadata": {
        "id": "jsJSf9nba3Xh"
      },
      "outputs": [],
      "source": [
        "#Here, the tokens are created as well as the text with the tokes joint\n",
        "sentences=[]\n",
        "tokens=[]\n",
        "sentences = text_prepro(data['sentences'])[0]\n",
        "tokens = text_prepro(data['sentences'])[1]"
      ]
    },
    {
      "cell_type": "code",
      "execution_count": null,
      "metadata": {
        "colab": {
          "base_uri": "https://localhost:8080/"
        },
        "id": "CuBiqzKVczpE",
        "outputId": "2e5d527e-8073-456a-9fcc-c0db768f6a77"
      },
      "outputs": [
        {
          "name": "stdout",
          "output_type": "stream",
          "text": [
            "Requirement already satisfied: gensim in c:\\users\\mdela\\anaconda3\\lib\\site-packages (4.2.0)\n",
            "Requirement already satisfied: Cython==0.29.28 in c:\\users\\mdela\\anaconda3\\lib\\site-packages (from gensim) (0.29.28)\n",
            "Requirement already satisfied: scipy>=0.18.1 in c:\\users\\mdela\\anaconda3\\lib\\site-packages (from gensim) (1.9.2)\n",
            "Requirement already satisfied: numpy>=1.17.0 in c:\\users\\mdela\\anaconda3\\lib\\site-packages (from gensim) (1.21.5)\n",
            "Requirement already satisfied: smart-open>=1.8.1 in c:\\users\\mdela\\anaconda3\\lib\\site-packages (from gensim) (5.2.1)\n"
          ]
        }
      ],
      "source": [
        "# gensim 4.1.2 is required\n",
        "!pip install --upgrade gensim"
      ]
    },
    {
      "cell_type": "code",
      "execution_count": null,
      "metadata": {
        "id": "xJ-J-t5qbiw_"
      },
      "outputs": [],
      "source": [
        "import gensim\n",
        "from gensim import utils\n",
        "from gensim.models.word2vec import Word2Vec\n",
        "from gensim.models.fasttext import FastText\n",
        "from gensim.models.phrases import Phrases\n",
        "from gensim.models.word2vec import Word2Vec\n",
        "from spacy.lang.da.stop_words import STOP_WORDS\n",
        "from sklearn.svm import SVC"
      ]
    },
    {
      "cell_type": "code",
      "execution_count": null,
      "metadata": {
        "id": "uM9EoPEabxoi"
      },
      "outputs": [],
      "source": [
        "#Create N-Grams\n",
        "phrase_model = Phrases(tokens, min_count=5, threshold=10)\n",
        "sentences_phrased = [phrase_model[line] for line in tokens]"
      ]
    },
    {
      "cell_type": "code",
      "execution_count": null,
      "metadata": {
        "id": "I6Zipi5Zb4Py"
      },
      "outputs": [],
      "source": [
        "#Collect and score all the N-grams\n",
        "score_max = []\n",
        "\n",
        "for phrase, score in phrase_model.find_phrases(tokens).items():\n",
        "    score_max.append((phrase, score))"
      ]
    },
    {
      "cell_type": "code",
      "execution_count": null,
      "metadata": {
        "colab": {
          "base_uri": "https://localhost:8080/"
        },
        "id": "pSINUjeaJmIU",
        "outputId": "2aaaef67-fad4-438d-c5c6-ed5abe961868"
      },
      "outputs": [
        {
          "data": {
            "text/plain": [
              "[('deres_majestæt', 39.21860956912503),\n",
              " ('fantastisk_land', 20.470092731774976),\n",
              " ('deres_kongelig', 16.994730813287514),\n",
              " ('sidste_måned', 18.6138477221046),\n",
              " ('al_sammen', 15.222902682893587)]"
            ]
          },
          "execution_count": 56,
          "metadata": {},
          "output_type": "execute_result"
        }
      ],
      "source": [
        "score_max[:5]"
      ]
    },
    {
      "cell_type": "code",
      "execution_count": null,
      "metadata": {
        "colab": {
          "base_uri": "https://localhost:8080/",
          "height": 206
        },
        "id": "yL3uNi17fZ8t",
        "outputId": "5c52184d-f2d0-479c-8d5a-ee066e0618af"
      },
      "outputs": [
        {
          "data": {
            "text/html": [
              "<div>\n",
              "<style scoped>\n",
              "    .dataframe tbody tr th:only-of-type {\n",
              "        vertical-align: middle;\n",
              "    }\n",
              "\n",
              "    .dataframe tbody tr th {\n",
              "        vertical-align: top;\n",
              "    }\n",
              "\n",
              "    .dataframe thead th {\n",
              "        text-align: right;\n",
              "    }\n",
              "</style>\n",
              "<table border=\"1\" class=\"dataframe\">\n",
              "  <thead>\n",
              "    <tr style=\"text-align: right;\">\n",
              "      <th></th>\n",
              "      <th>phrase</th>\n",
              "      <th>score</th>\n",
              "    </tr>\n",
              "  </thead>\n",
              "  <tbody>\n",
              "    <tr>\n",
              "      <th>716</th>\n",
              "      <td>thulesen_dahl</td>\n",
              "      <td>6145.254438</td>\n",
              "    </tr>\n",
              "    <tr>\n",
              "      <th>676</th>\n",
              "      <td>trine_bramsen</td>\n",
              "      <td>4121.222222</td>\n",
              "    </tr>\n",
              "    <tr>\n",
              "      <th>30</th>\n",
              "      <td>inger_støjberg</td>\n",
              "      <td>3583.671498</td>\n",
              "    </tr>\n",
              "    <tr>\n",
              "      <th>191</th>\n",
              "      <td>claus_hjort</td>\n",
              "      <td>3490.917647</td>\n",
              "    </tr>\n",
              "    <tr>\n",
              "      <th>706</th>\n",
              "      <td>new_york</td>\n",
              "      <td>3272.735294</td>\n",
              "    </tr>\n",
              "  </tbody>\n",
              "</table>\n",
              "</div>"
            ],
            "text/plain": [
              "             phrase        score\n",
              "716   thulesen_dahl  6145.254438\n",
              "676   trine_bramsen  4121.222222\n",
              "30   inger_støjberg  3583.671498\n",
              "191     claus_hjort  3490.917647\n",
              "706        new_york  3272.735294"
            ]
          },
          "execution_count": 57,
          "metadata": {},
          "output_type": "execute_result"
        }
      ],
      "source": [
        "#Sort by score of the N-grams\n",
        "df_score_max = pd.DataFrame(score_max, columns=['phrase', 'score'])\n",
        "df_score_max.sort_values(by=['score'], ascending= False).head()"
      ]
    },
    {
      "cell_type": "code",
      "execution_count": null,
      "metadata": {
        "id": "Tjq6EI7_fkZ8"
      },
      "outputs": [],
      "source": [
        "#Joins all the N-grams to the other text\n",
        "string_sentences = []\n",
        "cont = 0\n",
        "for i in tokens:\n",
        "    var = ' '.join(sentences_phrased[cont])\n",
        "    string_sentences.append(var)\n",
        "    cont=cont+1"
      ]
    },
    {
      "cell_type": "code",
      "execution_count": null,
      "metadata": {
        "colab": {
          "base_uri": "https://localhost:8080/",
          "height": 556
        },
        "id": "oWI5uWZJfnzK",
        "outputId": "c0309a7c-4d7a-4823-ec2b-e4a1277558b6"
      },
      "outputs": [
        {
          "name": "stderr",
          "output_type": "stream",
          "text": [
            "C:\\Users\\mdela\\AppData\\Local\\Temp\\ipykernel_10188\\2985778608.py:2: SettingWithCopyWarning: \n",
            "A value is trying to be set on a copy of a slice from a DataFrame.\n",
            "Try using .loc[row_indexer,col_indexer] = value instead\n",
            "\n",
            "See the caveats in the documentation: https://pandas.pydata.org/pandas-docs/stable/user_guide/indexing.html#returning-a-view-versus-a-copy\n",
            "  data['tokens'] = tokens\n",
            "C:\\Users\\mdela\\AppData\\Local\\Temp\\ipykernel_10188\\2985778608.py:3: SettingWithCopyWarning: \n",
            "A value is trying to be set on a copy of a slice from a DataFrame.\n",
            "Try using .loc[row_indexer,col_indexer] = value instead\n",
            "\n",
            "See the caveats in the documentation: https://pandas.pydata.org/pandas-docs/stable/user_guide/indexing.html#returning-a-view-versus-a-copy\n",
            "  data['text_clean'] = string_sentences\n"
          ]
        },
        {
          "data": {
            "text/html": [
              "<div>\n",
              "<style scoped>\n",
              "    .dataframe tbody tr th:only-of-type {\n",
              "        vertical-align: middle;\n",
              "    }\n",
              "\n",
              "    .dataframe tbody tr th {\n",
              "        vertical-align: top;\n",
              "    }\n",
              "\n",
              "    .dataframe thead th {\n",
              "        text-align: right;\n",
              "    }\n",
              "</style>\n",
              "<table border=\"1\" class=\"dataframe\">\n",
              "  <thead>\n",
              "    <tr style=\"text-align: right;\">\n",
              "      <th></th>\n",
              "      <th>taler</th>\n",
              "      <th>politc_party</th>\n",
              "      <th>speech</th>\n",
              "      <th>colour</th>\n",
              "      <th>variable</th>\n",
              "      <th>sentences</th>\n",
              "      <th>tokens</th>\n",
              "      <th>text_clean</th>\n",
              "    </tr>\n",
              "  </thead>\n",
              "  <tbody>\n",
              "    <tr>\n",
              "      <th>0</th>\n",
              "      <td>Mette Frederiksen</td>\n",
              "      <td>Social Democrats</td>\n",
              "      <td>Tak til Alberte for den smukke sang. Du og din...</td>\n",
              "      <td>Red</td>\n",
              "      <td>0</td>\n",
              "      <td>Tak til Alberte for den smukke sang</td>\n",
              "      <td>[tak, til, alberte, for, den, smuk, sang]</td>\n",
              "      <td>tak til alberte for den smuk sang</td>\n",
              "    </tr>\n",
              "    <tr>\n",
              "      <th>1</th>\n",
              "      <td>Mette Frederiksen</td>\n",
              "      <td>Social Democrats</td>\n",
              "      <td>Deres Majestæt.\\n\\nDeres Kongelige Højheder.\\n...</td>\n",
              "      <td>Red</td>\n",
              "      <td>0</td>\n",
              "      <td>Deres Majestæt</td>\n",
              "      <td>[deres, majestæt]</td>\n",
              "      <td>deres_majestæt</td>\n",
              "    </tr>\n",
              "    <tr>\n",
              "      <th>2</th>\n",
              "      <td>Mette Frederiksen</td>\n",
              "      <td>Social Democrats</td>\n",
              "      <td>Hjertelig velkommen. Og tak, fordi I har rydde...</td>\n",
              "      <td>Red</td>\n",
              "      <td>0</td>\n",
              "      <td>Hjertelig velkommen</td>\n",
              "      <td>[hjertelig, velkommen]</td>\n",
              "      <td>hjertelig velkommen</td>\n",
              "    </tr>\n",
              "    <tr>\n",
              "      <th>3</th>\n",
              "      <td>Mette Frederiksen</td>\n",
              "      <td>Social Democrats</td>\n",
              "      <td>Danmark er et fantastisk land. Men tiderne er ...</td>\n",
              "      <td>Red</td>\n",
              "      <td>0</td>\n",
              "      <td>Danmark er et fantastisk land</td>\n",
              "      <td>[danmark, være, fantastisk, land]</td>\n",
              "      <td>danmark være fantastisk_land</td>\n",
              "    </tr>\n",
              "    <tr>\n",
              "      <th>4</th>\n",
              "      <td>Mette Frederiksen</td>\n",
              "      <td>Social Democrats</td>\n",
              "      <td>Kære danskere. Kære ukrainere.\\n\\nI aften for ...</td>\n",
              "      <td>Red</td>\n",
              "      <td>0</td>\n",
              "      <td>Kære danskere</td>\n",
              "      <td>[kær, dansker]</td>\n",
              "      <td>kær dansker</td>\n",
              "    </tr>\n",
              "  </tbody>\n",
              "</table>\n",
              "</div>"
            ],
            "text/plain": [
              "               taler      politc_party  \\\n",
              "0  Mette Frederiksen  Social Democrats   \n",
              "1  Mette Frederiksen  Social Democrats   \n",
              "2  Mette Frederiksen  Social Democrats   \n",
              "3  Mette Frederiksen  Social Democrats   \n",
              "4  Mette Frederiksen  Social Democrats   \n",
              "\n",
              "                                              speech colour variable  \\\n",
              "0  Tak til Alberte for den smukke sang. Du og din...    Red        0   \n",
              "1  Deres Majestæt.\\n\\nDeres Kongelige Højheder.\\n...    Red        0   \n",
              "2  Hjertelig velkommen. Og tak, fordi I har rydde...    Red        0   \n",
              "3  Danmark er et fantastisk land. Men tiderne er ...    Red        0   \n",
              "4  Kære danskere. Kære ukrainere.\\n\\nI aften for ...    Red        0   \n",
              "\n",
              "                             sentences  \\\n",
              "0  Tak til Alberte for den smukke sang   \n",
              "1                       Deres Majestæt   \n",
              "2                  Hjertelig velkommen   \n",
              "3        Danmark er et fantastisk land   \n",
              "4                        Kære danskere   \n",
              "\n",
              "                                      tokens  \\\n",
              "0  [tak, til, alberte, for, den, smuk, sang]   \n",
              "1                          [deres, majestæt]   \n",
              "2                     [hjertelig, velkommen]   \n",
              "3          [danmark, være, fantastisk, land]   \n",
              "4                             [kær, dansker]   \n",
              "\n",
              "                          text_clean  \n",
              "0  tak til alberte for den smuk sang  \n",
              "1                     deres_majestæt  \n",
              "2                hjertelig velkommen  \n",
              "3       danmark være fantastisk_land  \n",
              "4                        kær dansker  "
            ]
          },
          "execution_count": 59,
          "metadata": {},
          "output_type": "execute_result"
        }
      ],
      "source": [
        "#Add the data to the dataframe\n",
        "data['tokens'] = tokens\n",
        "data['text_clean'] = string_sentences\n",
        "data.head()"
      ]
    },
    {
      "cell_type": "markdown",
      "metadata": {
        "id": "NErWPMMmfunW"
      },
      "source": [
        "## Machine Learning Model\n"
      ]
    },
    {
      "cell_type": "code",
      "execution_count": null,
      "metadata": {
        "id": "pXxrCz68f3j1"
      },
      "outputs": [],
      "source": [
        "import numpy as np\n",
        "from sklearn.model_selection import train_test_split\n",
        "from sklearn.pipeline import make_pipeline #pipe creation\n",
        "from sklearn.feature_extraction.text import TfidfVectorizer #transforms text to sparse matrix\n",
        "from sklearn.linear_model import LogisticRegression #Logit model\n",
        "from sklearn import svm\n",
        "from sklearn.ensemble import RandomForestRegressor\n",
        "from sklearn.metrics import classification_report \n",
        "from sklearn.metrics import confusion_matrix\n",
        "from sklearn.metrics import plot_confusion_matrix\n",
        "from sklearn.feature_extraction.text import CountVectorizer\n",
        "from sklearn.preprocessing import OneHotEncoder\n",
        "from sklearn.naive_bayes import GaussianNB\n"
      ]
    },
    {
      "cell_type": "code",
      "execution_count": null,
      "metadata": {
        "id": "WFNXCQEBf9JF"
      },
      "outputs": [],
      "source": [
        "#Importing dictionary of stop_words in dansk, since TDIDF works in Englosh by default\n",
        "dk_stop = httpx.get('https://gist.githubusercontent.com/berteltorp/0cf8a0c7afea7f25ed754f24cfc2467b/raw/305d8e3930cc419e909d49d4b489c9773f75b2d6/stopord.txt')\n",
        "dk_stop = dk_stop.text.split('\\n')"
      ]
    },
    {
      "cell_type": "code",
      "execution_count": null,
      "metadata": {
        "colab": {
          "base_uri": "https://localhost:8080/"
        },
        "id": "f1LmOvzzLjdH",
        "outputId": "1ebfc6ea-78ff-444b-c3c6-a4731e5f9e4e"
      },
      "outputs": [
        {
          "data": {
            "text/plain": [
              "['ad', 'af', 'aldrig']"
            ]
          },
          "execution_count": 62,
          "metadata": {},
          "output_type": "execute_result"
        }
      ],
      "source": [
        "dk_stop[:3]"
      ]
    },
    {
      "cell_type": "code",
      "execution_count": null,
      "metadata": {
        "id": "bYIlR1j8gCS_"
      },
      "outputs": [],
      "source": [
        "#Split of train-test. Stratify handles imbalance\n",
        "X, y = data['text_clean'], data['colour']\n",
        "X_train, X_test, y_train, y_test = train_test_split(X, y, test_size = 0.3, stratify=y)"
      ]
    },
    {
      "cell_type": "code",
      "execution_count": null,
      "metadata": {
        "id": "6CGM1TJegGnv"
      },
      "outputs": [],
      "source": [
        "#Load different ML models\n",
        "nb = GaussianNB()\n",
        "cls = LogisticRegression(max_iter=1000)\n",
        "svm_c = svm.SVC()\n",
        "tfidf = TfidfVectorizer(stop_words=dk_stop)"
      ]
    },
    {
      "cell_type": "code",
      "execution_count": null,
      "metadata": {
        "id": "D_dMxCBmgIfx"
      },
      "outputs": [],
      "source": [
        "#Create a generator for the models\n",
        "models = (cls,  svm_c)\n",
        "model_pipe =(make_pipeline(tfidf, ml) for ml in models)\n",
        "traing_ml = (ml.fit(X_train, y_train) for ml in model_pipe)\n"
      ]
    },
    {
      "cell_type": "code",
      "execution_count": null,
      "metadata": {
        "colab": {
          "base_uri": "https://localhost:8080/"
        },
        "id": "T_hnf-jrgKUC",
        "outputId": "a6e5bddd-1984-4141-ba75-a84055643cd3"
      },
      "outputs": [
        {
          "name": "stderr",
          "output_type": "stream",
          "text": [
            "c:\\Users\\mdela\\anaconda3\\lib\\site-packages\\sklearn\\feature_extraction\\text.py:396: UserWarning: Your stop_words may be inconsistent with your preprocessing. Tokenizing the stop words generated tokens ['bl', 'ca', 'eks', 'pga'] not in stop_words.\n",
            "  warnings.warn(\n"
          ]
        },
        {
          "name": "stdout",
          "output_type": "stream",
          "text": [
            "0.6800382043935053\n",
            "0.6893288182686463\n"
          ]
        }
      ],
      "source": [
        "#Testing the models in the generator\n",
        "ml_score = (ml.score(X_test, y_test) for ml in traing_ml)\n",
        "for n in ml_score:\n",
        "    print(n)\n",
        "    if n > 10:\n",
        "        break"
      ]
    },
    {
      "cell_type": "code",
      "execution_count": null,
      "metadata": {
        "id": "o9ZL4y36gS9X"
      },
      "outputs": [],
      "source": [
        "#making the pipeline with the vectorizer and the ML model\n",
        "from sklearn.pipeline import FeatureUnion, Pipeline\n",
        "model = Pipeline(\n",
        "    [\n",
        "        (\"transformer\", tfidf),\n",
        "        (\"classifier\", cls),\n",
        "    ]\n",
        ")"
      ]
    },
    {
      "cell_type": "code",
      "execution_count": null,
      "metadata": {
        "id": "ydx1b3s8gZNH"
      },
      "outputs": [],
      "source": [
        "#function to score a model\n",
        "def model_score(model, X_train, X_test, y_train, y_test):\n",
        "    model.fit(X_train, y_train)\n",
        "    return model.score(X_test, y_test)"
      ]
    },
    {
      "cell_type": "code",
      "execution_count": null,
      "metadata": {
        "colab": {
          "base_uri": "https://localhost:8080/"
        },
        "id": "xCAgDt1L7Mf5",
        "outputId": "ca905800-51fc-4909-f0db-36f912278d3f"
      },
      "outputs": [
        {
          "data": {
            "text/plain": [
              "0.6800382043935053"
            ]
          },
          "execution_count": 69,
          "metadata": {},
          "output_type": "execute_result"
        }
      ],
      "source": [
        "#test the logistic regression\n",
        "model_score(model, X_train, X_test, y_train, y_test)"
      ]
    },
    {
      "cell_type": "code",
      "execution_count": null,
      "metadata": {
        "id": "SOkbObmoHJiG"
      },
      "outputs": [],
      "source": [
        "data = data.reset_index()"
      ]
    },
    {
      "cell_type": "code",
      "execution_count": null,
      "metadata": {
        "colab": {
          "base_uri": "https://localhost:8080/"
        },
        "id": "CstDeX5SgbZ3",
        "outputId": "77389814-a027-42ce-cf10-d91fcfc9cd74"
      },
      "outputs": [
        {
          "name": "stdout",
          "output_type": "stream",
          "text": [
            "LR score:  0.6681427455066423\n",
            "LR score:  0.6901536858556916\n",
            "LR score:  0.6805157593123209\n",
            "LR score:  0.6780411565511852\n",
            "LR score:  0.6681427455066423\n"
          ]
        }
      ],
      "source": [
        "#K-fold cross validation\n",
        "from sklearn.model_selection import StratifiedKFold\n",
        "folds = StratifiedKFold(n_splits=5)\n",
        "score_lr = []\n",
        "\n",
        "for train_index, test_index in folds.split(data.text_clean,  data.colour):\n",
        "     X_train, X_test, y_train, y_test = data.text_clean[train_index], data.text_clean[test_index], data.colour[train_index], data.colour[test_index]\n",
        "     print(\"LR score: \", model_score(model,  X_train, X_test, y_train, y_test))"
      ]
    },
    {
      "cell_type": "code",
      "execution_count": null,
      "metadata": {
        "colab": {
          "base_uri": "https://localhost:8080/",
          "height": 354
        },
        "id": "mx59OIHagmyf",
        "outputId": "d4ed9ab8-382f-43d0-a01c-e6f2633c7a59"
      },
      "outputs": [
        {
          "name": "stderr",
          "output_type": "stream",
          "text": [
            "c:\\Users\\mdela\\anaconda3\\lib\\site-packages\\sklearn\\utils\\deprecation.py:87: FutureWarning: Function plot_confusion_matrix is deprecated; Function `plot_confusion_matrix` is deprecated in 1.0 and will be removed in 1.2. Use one of the class methods: ConfusionMatrixDisplay.from_predictions or ConfusionMatrixDisplay.from_estimator.\n",
            "  warnings.warn(msg, category=FutureWarning)\n"
          ]
        },
        {
          "data": {
            "text/plain": [
              "<sklearn.metrics._plot.confusion_matrix.ConfusionMatrixDisplay at 0x24cfab86ee0>"
            ]
          },
          "execution_count": 72,
          "metadata": {},
          "output_type": "execute_result"
        },
        {
          "data": {
            "image/png": "[encoded data removed]",
            "text/plain": [
              "<Figure size 640x480 with 2 Axes>"
            ]
          },
          "metadata": {},
          "output_type": "display_data"
        }
      ],
      "source": [
        "plot_confusion_matrix(model, X_test, y_test, cmap ='YlGnBu')"
      ]
    },
    {
      "cell_type": "code",
      "execution_count": null,
      "metadata": {
        "colab": {
          "base_uri": "https://localhost:8080/"
        },
        "id": "AsRJRp3Lgpix",
        "outputId": "ce44d08d-77d9-40c8-97e8-80705b0dce94"
      },
      "outputs": [
        {
          "name": "stdout",
          "output_type": "stream",
          "text": [
            "              precision    recall  f1-score   support\n",
            "\n",
            "        Blue       0.68      0.89      0.77      4744\n",
            "         Red       0.63      0.32      0.42      2934\n",
            "\n",
            "    accuracy                           0.67      7678\n",
            "   macro avg       0.65      0.60      0.59      7678\n",
            "weighted avg       0.66      0.67      0.64      7678\n",
            "\n"
          ]
        }
      ],
      "source": [
        "from sklearn.metrics import classification_report\n",
        "\n",
        "y_pred = model.predict(X_test)\n",
        "print(classification_report(y_test, y_pred, target_names=['Blue','Red']))"
      ]
    },
    {
      "cell_type": "code",
      "execution_count": null,
      "metadata": {
        "colab": {
          "base_uri": "https://localhost:8080/"
        },
        "id": "_oJozlzLhKD4",
        "outputId": "b8d9eb6a-aaf8-4955-9785-3da3657167d9"
      },
      "outputs": [
        {
          "name": "stdout",
          "output_type": "stream",
          "text": [
            "Requirement already satisfied: eli5 in c:\\users\\mdela\\anaconda3\\lib\\site-packages (0.13.0)\n",
            "Requirement already satisfied: scipy in c:\\users\\mdela\\anaconda3\\lib\\site-packages (from eli5) (1.9.2)\n",
            "Requirement already satisfied: jinja2>=3.0.0 in c:\\users\\mdela\\anaconda3\\lib\\site-packages (from eli5) (3.1.2)\n",
            "Requirement already satisfied: tabulate>=0.7.7 in c:\\users\\mdela\\anaconda3\\lib\\site-packages (from eli5) (0.8.10)\n",
            "Requirement already satisfied: graphviz in c:\\users\\mdela\\anaconda3\\lib\\site-packages (from eli5) (0.20.1)\n",
            "Requirement already satisfied: numpy>=1.9.0 in c:\\users\\mdela\\anaconda3\\lib\\site-packages (from eli5) (1.21.5)\n",
            "Requirement already satisfied: six in c:\\users\\mdela\\anaconda3\\lib\\site-packages (from eli5) (1.16.0)\n",
            "Requirement already satisfied: scikit-learn>=0.20 in c:\\users\\mdela\\anaconda3\\lib\\site-packages (from eli5) (1.1.2)\n",
            "Requirement already satisfied: attrs>17.1.0 in c:\\users\\mdela\\anaconda3\\lib\\site-packages (from eli5) (21.4.0)\n",
            "Requirement already satisfied: MarkupSafe>=2.0 in c:\\users\\mdela\\anaconda3\\lib\\site-packages (from jinja2>=3.0.0->eli5) (2.0.1)\n",
            "Requirement already satisfied: threadpoolctl>=2.0.0 in c:\\users\\mdela\\anaconda3\\lib\\site-packages (from scikit-learn>=0.20->eli5) (2.2.0)\n",
            "Requirement already satisfied: joblib>=1.0.0 in c:\\users\\mdela\\anaconda3\\lib\\site-packages (from scikit-learn>=0.20->eli5) (1.1.0)\n"
          ]
        }
      ],
      "source": [
        "!pip install eli5"
      ]
    },
    {
      "cell_type": "code",
      "execution_count": null,
      "metadata": {
        "colab": {
          "base_uri": "https://localhost:8080/",
          "height": 528
        },
        "id": "Eqwr5pAsgv1C",
        "outputId": "cd3e8577-6cc8-48b5-f45d-49356b19e9c0"
      },
      "outputs": [
        {
          "name": "stderr",
          "output_type": "stream",
          "text": [
            "c:\\Users\\mdela\\anaconda3\\lib\\site-packages\\sklearn\\utils\\deprecation.py:87: FutureWarning: Function get_feature_names is deprecated; get_feature_names is deprecated in 1.0 and will be removed in 1.2. Please use get_feature_names_out instead.\n",
            "  warnings.warn(msg, category=FutureWarning)\n"
          ]
        },
        {
          "data": {
            "text/html": [
              "\n",
              "    <style>\n",
              "    table.eli5-weights tr:hover {\n",
              "        filter: brightness(85%);\n",
              "    }\n",
              "</style>\n",
              "\n",
              "\n",
              "\n",
              "    \n",
              "\n",
              "    \n",
              "\n",
              "    \n",
              "\n",
              "    \n",
              "\n",
              "    \n",
              "\n",
              "    \n",
              "\n",
              "\n",
              "    \n",
              "\n",
              "    \n",
              "\n",
              "    \n",
              "\n",
              "    \n",
              "        \n",
              "\n",
              "    \n",
              "\n",
              "        \n",
              "            \n",
              "                \n",
              "                \n",
              "    \n",
              "        <p style=\"margin-bottom: 0.5em; margin-top: 0em\">\n",
              "            <b>\n",
              "    \n",
              "        y=Red\n",
              "    \n",
              "</b>\n",
              "\n",
              "top features\n",
              "        </p>\n",
              "    \n",
              "    <table class=\"eli5-weights\"\n",
              "           style=\"border-collapse: collapse; border: none; margin-top: 0em; table-layout: auto; margin-bottom: 2em;\">\n",
              "        <thead>\n",
              "        <tr style=\"border: none;\">\n",
              "            \n",
              "                <th style=\"padding: 0 1em 0 0.5em; text-align: right; border: none;\" title=\"Feature weights. Note that weights do not account for feature value scales, so if feature values have different scales, features with highest weights might not be the most important.\">\n",
              "                    Weight<sup>?</sup>\n",
              "                </th>\n",
              "            \n",
              "            <th style=\"padding: 0 0.5em 0 0.5em; text-align: left; border: none;\">Feature</th>\n",
              "            \n",
              "        </tr>\n",
              "        </thead>\n",
              "        <tbody>\n",
              "        \n",
              "            <tr style=\"background-color: hsl(120, 100.00%, 81.14%); border: none;\">\n",
              "    <td style=\"padding: 0 1em 0 0.5em; text-align: right; border: none;\">\n",
              "        +4.317\n",
              "    </td>\n",
              "    <td style=\"padding: 0 0.5em 0 0.5em; text-align: left; border: none;\">\n",
              "        sf\n",
              "    </td>\n",
              "    \n",
              "</tr>\n",
              "        \n",
              "            <tr style=\"background-color: hsl(120, 100.00%, 84.87%); border: none;\">\n",
              "    <td style=\"padding: 0 1em 0 0.5em; text-align: right; border: none;\">\n",
              "        +3.150\n",
              "    </td>\n",
              "    <td style=\"padding: 0 0.5em 0 0.5em; text-align: left; border: none;\">\n",
              "        grøn\n",
              "    </td>\n",
              "    \n",
              "</tr>\n",
              "        \n",
              "            <tr style=\"background-color: hsl(120, 100.00%, 85.50%); border: none;\">\n",
              "    <td style=\"padding: 0 1em 0 0.5em; text-align: right; border: none;\">\n",
              "        +2.964\n",
              "    </td>\n",
              "    <td style=\"padding: 0 0.5em 0 0.5em; text-align: left; border: none;\">\n",
              "        ukraine\n",
              "    </td>\n",
              "    \n",
              "</tr>\n",
              "        \n",
              "            <tr style=\"background-color: hsl(120, 100.00%, 86.16%); border: none;\">\n",
              "    <td style=\"padding: 0 1em 0 0.5em; text-align: right; border: none;\">\n",
              "        +2.773\n",
              "    </td>\n",
              "    <td style=\"padding: 0 0.5em 0 0.5em; text-align: left; border: none;\">\n",
              "        skattely\n",
              "    </td>\n",
              "    \n",
              "</tr>\n",
              "        \n",
              "            <tr style=\"background-color: hsl(120, 100.00%, 86.26%); border: none;\">\n",
              "    <td style=\"padding: 0 1em 0 0.5em; text-align: right; border: none;\">\n",
              "        +2.747\n",
              "    </td>\n",
              "    <td style=\"padding: 0 0.5em 0 0.5em; text-align: left; border: none;\">\n",
              "        sf_s\n",
              "    </td>\n",
              "    \n",
              "</tr>\n",
              "        \n",
              "            <tr style=\"background-color: hsl(120, 100.00%, 86.44%); border: none;\">\n",
              "    <td style=\"padding: 0 1em 0 0.5em; text-align: right; border: none;\">\n",
              "        +2.693\n",
              "    </td>\n",
              "    <td style=\"padding: 0 0.5em 0 0.5em; text-align: left; border: none;\">\n",
              "        pandemie\n",
              "    </td>\n",
              "    \n",
              "</tr>\n",
              "        \n",
              "            <tr style=\"background-color: hsl(120, 100.00%, 86.48%); border: none;\">\n",
              "    <td style=\"padding: 0 1em 0 0.5em; text-align: right; border: none;\">\n",
              "        +2.684\n",
              "    </td>\n",
              "    <td style=\"padding: 0 0.5em 0 0.5em; text-align: left; border: none;\">\n",
              "        alternativet\n",
              "    </td>\n",
              "    \n",
              "</tr>\n",
              "        \n",
              "            <tr style=\"background-color: hsl(120, 100.00%, 86.86%); border: none;\">\n",
              "    <td style=\"padding: 0 1em 0 0.5em; text-align: right; border: none;\">\n",
              "        +2.576\n",
              "    </td>\n",
              "    <td style=\"padding: 0 0.5em 0 0.5em; text-align: left; border: none;\">\n",
              "        minimumsnormering\n",
              "    </td>\n",
              "    \n",
              "</tr>\n",
              "        \n",
              "            <tr style=\"background-color: hsl(120, 100.00%, 87.08%); border: none;\">\n",
              "    <td style=\"padding: 0 1em 0 0.5em; text-align: right; border: none;\">\n",
              "        +2.515\n",
              "    </td>\n",
              "    <td style=\"padding: 0 0.5em 0 0.5em; text-align: left; border: none;\">\n",
              "        blå\n",
              "    </td>\n",
              "    \n",
              "</tr>\n",
              "        \n",
              "        \n",
              "            <tr style=\"background-color: hsl(120, 100.00%, 87.08%); border: none;\">\n",
              "                <td colspan=\"2\" style=\"padding: 0 0.5em 0 0.5em; text-align: center; border: none; white-space: nowrap;\">\n",
              "                    <i>&hellip; 7197 more positive &hellip;</i>\n",
              "                </td>\n",
              "            </tr>\n",
              "        \n",
              "\n",
              "        \n",
              "            <tr style=\"background-color: hsl(0, 100.00%, 86.96%); border: none;\">\n",
              "                <td colspan=\"2\" style=\"padding: 0 0.5em 0 0.5em; text-align: center; border: none; white-space: nowrap;\">\n",
              "                    <i>&hellip; 10611 more negative &hellip;</i>\n",
              "                </td>\n",
              "            </tr>\n",
              "        \n",
              "        \n",
              "            <tr style=\"background-color: hsl(0, 100.00%, 86.96%); border: none;\">\n",
              "    <td style=\"padding: 0 1em 0 0.5em; text-align: right; border: none;\">\n",
              "        -2.548\n",
              "    </td>\n",
              "    <td style=\"padding: 0 0.5em 0 0.5em; text-align: left; border: none;\">\n",
              "        indvandrer\n",
              "    </td>\n",
              "    \n",
              "</tr>\n",
              "        \n",
              "            <tr style=\"background-color: hsl(0, 100.00%, 86.90%); border: none;\">\n",
              "    <td style=\"padding: 0 1em 0 0.5em; text-align: right; border: none;\">\n",
              "        -2.565\n",
              "    </td>\n",
              "    <td style=\"padding: 0 0.5em 0 0.5em; text-align: left; border: none;\">\n",
              "        liberal\n",
              "    </td>\n",
              "    \n",
              "</tr>\n",
              "        \n",
              "            <tr style=\"background-color: hsl(0, 100.00%, 86.72%); border: none;\">\n",
              "    <td style=\"padding: 0 1em 0 0.5em; text-align: right; border: none;\">\n",
              "        -2.615\n",
              "    </td>\n",
              "    <td style=\"padding: 0 0.5em 0 0.5em; text-align: left; border: none;\">\n",
              "        betale_sig\n",
              "    </td>\n",
              "    \n",
              "</tr>\n",
              "        \n",
              "            <tr style=\"background-color: hsl(0, 100.00%, 86.39%); border: none;\">\n",
              "    <td style=\"padding: 0 1em 0 0.5em; text-align: right; border: none;\">\n",
              "        -2.710\n",
              "    </td>\n",
              "    <td style=\"padding: 0 0.5em 0 0.5em; text-align: left; border: none;\">\n",
              "        velstand\n",
              "    </td>\n",
              "    \n",
              "</tr>\n",
              "        \n",
              "            <tr style=\"background-color: hsl(0, 100.00%, 86.36%); border: none;\">\n",
              "    <td style=\"padding: 0 1em 0 0.5em; text-align: right; border: none;\">\n",
              "        -2.716\n",
              "    </td>\n",
              "    <td style=\"padding: 0 0.5em 0 0.5em; text-align: left; border: none;\">\n",
              "        udlændingepolitik\n",
              "    </td>\n",
              "    \n",
              "</tr>\n",
              "        \n",
              "            <tr style=\"background-color: hsl(0, 100.00%, 86.34%); border: none;\">\n",
              "    <td style=\"padding: 0 1em 0 0.5em; text-align: right; border: none;\">\n",
              "        -2.724\n",
              "    </td>\n",
              "    <td style=\"padding: 0 0.5em 0 0.5em; text-align: left; border: none;\">\n",
              "        ny_borgerlig\n",
              "    </td>\n",
              "    \n",
              "</tr>\n",
              "        \n",
              "            <tr style=\"background-color: hsl(0, 100.00%, 86.24%); border: none;\">\n",
              "    <td style=\"padding: 0 1em 0 0.5em; text-align: right; border: none;\">\n",
              "        -2.750\n",
              "    </td>\n",
              "    <td style=\"padding: 0 0.5em 0 0.5em; text-align: left; border: none;\">\n",
              "        skatt\n",
              "    </td>\n",
              "    \n",
              "</tr>\n",
              "        \n",
              "            <tr style=\"background-color: hsl(0, 100.00%, 86.20%); border: none;\">\n",
              "    <td style=\"padding: 0 1em 0 0.5em; text-align: right; border: none;\">\n",
              "        -2.764\n",
              "    </td>\n",
              "    <td style=\"padding: 0 0.5em 0 0.5em; text-align: left; border: none;\">\n",
              "        mette_frederiksen\n",
              "    </td>\n",
              "    \n",
              "</tr>\n",
              "        \n",
              "            <tr style=\"background-color: hsl(0, 100.00%, 85.99%); border: none;\">\n",
              "    <td style=\"padding: 0 1em 0 0.5em; text-align: right; border: none;\">\n",
              "        -2.822\n",
              "    </td>\n",
              "    <td style=\"padding: 0 0.5em 0 0.5em; text-align: left; border: none;\">\n",
              "        grundlov\n",
              "    </td>\n",
              "    \n",
              "</tr>\n",
              "        \n",
              "            <tr style=\"background-color: hsl(0, 100.00%, 84.88%); border: none;\">\n",
              "    <td style=\"padding: 0 1em 0 0.5em; text-align: right; border: none;\">\n",
              "        -3.148\n",
              "    </td>\n",
              "    <td style=\"padding: 0 0.5em 0 0.5em; text-align: left; border: none;\">\n",
              "        dansk_folkeparti\n",
              "    </td>\n",
              "    \n",
              "</tr>\n",
              "        \n",
              "            <tr style=\"background-color: hsl(0, 100.00%, 80.00%); border: none;\">\n",
              "    <td style=\"padding: 0 1em 0 0.5em; text-align: right; border: none;\">\n",
              "        -4.695\n",
              "    </td>\n",
              "    <td style=\"padding: 0 0.5em 0 0.5em; text-align: left; border: none;\">\n",
              "        venstre\n",
              "    </td>\n",
              "    \n",
              "</tr>\n",
              "        \n",
              "\n",
              "        </tbody>\n",
              "    </table>\n",
              "\n",
              "            \n",
              "        \n",
              "\n",
              "        \n",
              "\n",
              "\n",
              "\n",
              "    \n",
              "\n",
              "    \n",
              "\n",
              "    \n",
              "\n",
              "    \n",
              "\n",
              "\n",
              "    \n",
              "\n",
              "    \n",
              "\n",
              "    \n",
              "\n",
              "    \n",
              "\n",
              "    \n",
              "\n",
              "    \n",
              "\n",
              "\n",
              "    \n",
              "\n",
              "    \n",
              "\n",
              "    \n",
              "\n",
              "    \n",
              "\n",
              "    \n",
              "\n",
              "    \n",
              "\n",
              "\n",
              "\n"
            ],
            "text/plain": [
              "<IPython.core.display.HTML object>"
            ]
          },
          "execution_count": 75,
          "metadata": {},
          "output_type": "execute_result"
        }
      ],
      "source": [
        "import eli5\n",
        "eli5.show_weights(model, top=20)"
      ]
    },
    {
      "cell_type": "markdown",
      "metadata": {
        "id": "7e8EtI46hUxJ"
      },
      "source": [
        "Feature information"
      ]
    },
    {
      "cell_type": "code",
      "execution_count": null,
      "metadata": {
        "colab": {
          "base_uri": "https://localhost:8080/"
        },
        "id": "No-iP_aNhW9n",
        "outputId": "b23e7d14-d8c5-44da-9dfe-7c18e61e2a36"
      },
      "outputs": [
        {
          "data": {
            "text/plain": [
              "['aabenraa', 'aaja', 'aakjær', 'aalborg', 'aarhus']"
            ]
          },
          "execution_count": 76,
          "metadata": {},
          "output_type": "execute_result"
        }
      ],
      "source": [
        "#Extract all the words from the vectorizer\n",
        "feature_names = model.named_steps[\"transformer\"].get_feature_names()\n",
        "feature_names[:5]"
      ]
    },
    {
      "cell_type": "code",
      "execution_count": null,
      "metadata": {
        "id": "-HqLQ2wIhagB"
      },
      "outputs": [],
      "source": [
        "# Extract all the coefficients from the LR\n",
        "coefs = model.named_steps[\"classifier\"].coef_.flatten()"
      ]
    },
    {
      "cell_type": "code",
      "execution_count": null,
      "metadata": {
        "colab": {
          "base_uri": "https://localhost:8080/",
          "height": 206
        },
        "id": "vR-kra-DhdgS",
        "outputId": "7a4be5e3-45c8-43e5-ab5f-e91d0e8f3ee1"
      },
      "outputs": [
        {
          "data": {
            "text/html": [
              "<div>\n",
              "<style scoped>\n",
              "    .dataframe tbody tr th:only-of-type {\n",
              "        vertical-align: middle;\n",
              "    }\n",
              "\n",
              "    .dataframe tbody tr th {\n",
              "        vertical-align: top;\n",
              "    }\n",
              "\n",
              "    .dataframe thead th {\n",
              "        text-align: right;\n",
              "    }\n",
              "</style>\n",
              "<table border=\"1\" class=\"dataframe\">\n",
              "  <thead>\n",
              "    <tr style=\"text-align: right;\">\n",
              "      <th></th>\n",
              "      <th>feature</th>\n",
              "      <th>value</th>\n",
              "      <th>abs_value</th>\n",
              "      <th>colors</th>\n",
              "    </tr>\n",
              "  </thead>\n",
              "  <tbody>\n",
              "    <tr>\n",
              "      <th>16971</th>\n",
              "      <td>venstre</td>\n",
              "      <td>-4.694611</td>\n",
              "      <td>4.694611</td>\n",
              "      <td>blue</td>\n",
              "    </tr>\n",
              "    <tr>\n",
              "      <th>13188</th>\n",
              "      <td>sf</td>\n",
              "      <td>4.316876</td>\n",
              "      <td>4.316876</td>\n",
              "      <td>red</td>\n",
              "    </tr>\n",
              "    <tr>\n",
              "      <th>5616</th>\n",
              "      <td>grøn</td>\n",
              "      <td>3.150126</td>\n",
              "      <td>3.150126</td>\n",
              "      <td>red</td>\n",
              "    </tr>\n",
              "    <tr>\n",
              "      <th>2345</th>\n",
              "      <td>dansk_folkeparti</td>\n",
              "      <td>-3.147976</td>\n",
              "      <td>3.147976</td>\n",
              "      <td>blue</td>\n",
              "    </tr>\n",
              "    <tr>\n",
              "      <th>16327</th>\n",
              "      <td>ukraine</td>\n",
              "      <td>2.964043</td>\n",
              "      <td>2.964043</td>\n",
              "      <td>red</td>\n",
              "    </tr>\n",
              "  </tbody>\n",
              "</table>\n",
              "</div>"
            ],
            "text/plain": [
              "                feature     value  abs_value colors\n",
              "16971           venstre -4.694611   4.694611   blue\n",
              "13188                sf  4.316876   4.316876    red\n",
              "5616               grøn  3.150126   3.150126    red\n",
              "2345   dansk_folkeparti -3.147976   3.147976   blue\n",
              "16327           ukraine  2.964043   2.964043    red"
            ]
          },
          "execution_count": 78,
          "metadata": {},
          "output_type": "execute_result"
        }
      ],
      "source": [
        "#Create a DataFrame with the results of the classification, with the coefficients\n",
        "zipped = zip(feature_names, coefs)\n",
        "df = pd.DataFrame(zipped, columns=[\"feature\", \"value\"])\n",
        "df[\"abs_value\"] = df[\"value\"].apply(lambda x: abs(x))\n",
        "df[\"colors\"] = df[\"value\"].apply(lambda x: \"red\" if x > 0 else \"blue\") #esto esta al reves red y blue\n",
        "df = df.sort_values(\"abs_value\", ascending=False)\n",
        "df.head()"
      ]
    },
    {
      "cell_type": "code",
      "execution_count": null,
      "metadata": {
        "colab": {
          "base_uri": "https://localhost:8080/",
          "height": 466
        },
        "id": "Eo91Di83hlFX",
        "outputId": "3fe4010d-1f25-46ba-e05c-916f8692206c"
      },
      "outputs": [
        {
          "data": {
            "text/plain": [
              "Text(0.5, 0, 'Feature Name')"
            ]
          },
          "execution_count": 79,
          "metadata": {},
          "output_type": "execute_result"
        },
        {
          "data": {
            "image/png": "[encoded data removed]",
            "text/plain": [
              "<Figure size 800x300 with 1 Axes>"
            ]
          },
          "metadata": {},
          "output_type": "display_data"
        }
      ],
      "source": [
        "#plot the Top 20 features for classification\n",
        "import seaborn as sns\n",
        "import matplotlib.pyplot as plt\n",
        "fig, ax = plt.subplots(1, 1, figsize=(8, 3))\n",
        "sns.barplot(x=\"feature\",\n",
        "            y=\"abs_value\",\n",
        "            data=df.head(20),\n",
        "           palette=df.head(20)[\"colors\"])\n",
        "ax.set_xticklabels(ax.get_xticklabels(), rotation=90, fontsize=20)\n",
        "ax.set_title(\"Top 20 Features\", fontsize=16)\n",
        "ax.set_ylabel(\"Coef\", fontsize=16)\n",
        "ax.set_xlabel(\"Feature Name\", fontsize=16)"
      ]
    },
    {
      "cell_type": "code",
      "execution_count": null,
      "metadata": {
        "colab": {
          "base_uri": "https://localhost:8080/"
        },
        "id": "ULQpHF65hu5I",
        "outputId": "0d3c8903-bc77-44a5-cbc0-8ae18c5f5462"
      },
      "outputs": [
        {
          "data": {
            "text/plain": [
              "(131, 4)"
            ]
          },
          "execution_count": 80,
          "metadata": {},
          "output_type": "execute_result"
        }
      ],
      "source": [
        "#irrelevant features\n",
        "less_relevant = df[df['abs_value'] < 0.010]\n",
        "less_relevant.shape"
      ]
    },
    {
      "cell_type": "code",
      "execution_count": null,
      "metadata": {
        "colab": {
          "base_uri": "https://localhost:8080/",
          "height": 520
        },
        "id": "JtrYqNQFjmDO",
        "outputId": "89d4671c-4450-450c-e5eb-e546b7264410"
      },
      "outputs": [
        {
          "data": {
            "text/html": [
              "<div>\n",
              "<style scoped>\n",
              "    .dataframe tbody tr th:only-of-type {\n",
              "        vertical-align: middle;\n",
              "    }\n",
              "\n",
              "    .dataframe tbody tr th {\n",
              "        vertical-align: top;\n",
              "    }\n",
              "\n",
              "    .dataframe thead th {\n",
              "        text-align: right;\n",
              "    }\n",
              "</style>\n",
              "<table border=\"1\" class=\"dataframe\">\n",
              "  <thead>\n",
              "    <tr style=\"text-align: right;\">\n",
              "      <th></th>\n",
              "      <th>feature</th>\n",
              "      <th>value</th>\n",
              "      <th>abs_value</th>\n",
              "      <th>colors</th>\n",
              "    </tr>\n",
              "  </thead>\n",
              "  <tbody>\n",
              "    <tr>\n",
              "      <th>2264</th>\n",
              "      <td>dagligvare</td>\n",
              "      <td>-0.000086</td>\n",
              "      <td>0.000086</td>\n",
              "      <td>blue</td>\n",
              "    </tr>\n",
              "    <tr>\n",
              "      <th>14941</th>\n",
              "      <td>sær</td>\n",
              "      <td>-0.000118</td>\n",
              "      <td>0.000118</td>\n",
              "      <td>blue</td>\n",
              "    </tr>\n",
              "    <tr>\n",
              "      <th>10494</th>\n",
              "      <td>notere</td>\n",
              "      <td>0.000235</td>\n",
              "      <td>0.000235</td>\n",
              "      <td>red</td>\n",
              "    </tr>\n",
              "    <tr>\n",
              "      <th>8768</th>\n",
              "      <td>life</td>\n",
              "      <td>0.000367</td>\n",
              "      <td>0.000367</td>\n",
              "      <td>red</td>\n",
              "    </tr>\n",
              "    <tr>\n",
              "      <th>4027</th>\n",
              "      <td>folketingsår</td>\n",
              "      <td>-0.000401</td>\n",
              "      <td>0.000401</td>\n",
              "      <td>blue</td>\n",
              "    </tr>\n",
              "    <tr>\n",
              "      <th>10430</th>\n",
              "      <td>nielsen</td>\n",
              "      <td>0.000579</td>\n",
              "      <td>0.000579</td>\n",
              "      <td>red</td>\n",
              "    </tr>\n",
              "    <tr>\n",
              "      <th>5218</th>\n",
              "      <td>gennemsigtig</td>\n",
              "      <td>-0.000601</td>\n",
              "      <td>0.000601</td>\n",
              "      <td>blue</td>\n",
              "    </tr>\n",
              "    <tr>\n",
              "      <th>11886</th>\n",
              "      <td>profit</td>\n",
              "      <td>0.000646</td>\n",
              "      <td>0.000646</td>\n",
              "      <td>red</td>\n",
              "    </tr>\n",
              "    <tr>\n",
              "      <th>10454</th>\n",
              "      <td>nordea</td>\n",
              "      <td>-0.000711</td>\n",
              "      <td>0.000711</td>\n",
              "      <td>blue</td>\n",
              "    </tr>\n",
              "    <tr>\n",
              "      <th>11653</th>\n",
              "      <td>pode</td>\n",
              "      <td>-0.000818</td>\n",
              "      <td>0.000818</td>\n",
              "      <td>blue</td>\n",
              "    </tr>\n",
              "    <tr>\n",
              "      <th>2193</th>\n",
              "      <td>coronakris</td>\n",
              "      <td>0.000850</td>\n",
              "      <td>0.000850</td>\n",
              "      <td>red</td>\n",
              "    </tr>\n",
              "    <tr>\n",
              "      <th>12286</th>\n",
              "      <td>regeringsleder</td>\n",
              "      <td>0.000905</td>\n",
              "      <td>0.000905</td>\n",
              "      <td>red</td>\n",
              "    </tr>\n",
              "    <tr>\n",
              "      <th>7153</th>\n",
              "      <td>jeres_indsats</td>\n",
              "      <td>-0.000911</td>\n",
              "      <td>0.000911</td>\n",
              "      <td>blue</td>\n",
              "    </tr>\n",
              "    <tr>\n",
              "      <th>16954</th>\n",
              "      <td>vende_hjem</td>\n",
              "      <td>-0.000960</td>\n",
              "      <td>0.000960</td>\n",
              "      <td>blue</td>\n",
              "    </tr>\n",
              "    <tr>\n",
              "      <th>17707</th>\n",
              "      <td>ældst</td>\n",
              "      <td>-0.001125</td>\n",
              "      <td>0.001125</td>\n",
              "      <td>blue</td>\n",
              "    </tr>\n",
              "  </tbody>\n",
              "</table>\n",
              "</div>"
            ],
            "text/plain": [
              "              feature     value  abs_value colors\n",
              "2264       dagligvare -0.000086   0.000086   blue\n",
              "14941             sær -0.000118   0.000118   blue\n",
              "10494          notere  0.000235   0.000235    red\n",
              "8768             life  0.000367   0.000367    red\n",
              "4027     folketingsår -0.000401   0.000401   blue\n",
              "10430         nielsen  0.000579   0.000579    red\n",
              "5218     gennemsigtig -0.000601   0.000601   blue\n",
              "11886          profit  0.000646   0.000646    red\n",
              "10454          nordea -0.000711   0.000711   blue\n",
              "11653            pode -0.000818   0.000818   blue\n",
              "2193       coronakris  0.000850   0.000850    red\n",
              "12286  regeringsleder  0.000905   0.000905    red\n",
              "7153    jeres_indsats -0.000911   0.000911   blue\n",
              "16954      vende_hjem -0.000960   0.000960   blue\n",
              "17707           ældst -0.001125   0.001125   blue"
            ]
          },
          "execution_count": 81,
          "metadata": {},
          "output_type": "execute_result"
        }
      ],
      "source": [
        "#plot the words that actually do not help in classifiing a text\n",
        "less_relevant = less_relevant.sort_values(\"abs_value\", ascending=True)\n",
        "less_relevant[:15]"
      ]
    },
    {
      "cell_type": "markdown",
      "metadata": {
        "id": "FSrvDn-n-oSD"
      },
      "source": [
        "## Model Hypertuning"
      ]
    },
    {
      "cell_type": "code",
      "execution_count": null,
      "metadata": {
        "id": "Ipf3nqc-_IsX"
      },
      "outputs": [],
      "source": [
        "#Tokenizing with more restrictions for tunning\n",
        "def text_prepro_hyper(texts):\n",
        "  tokens = []\n",
        "  clean_container = []\n",
        "\n",
        "  for text in nlp.pipe(texts, disable=[\"tagger\", \"parser\", \"ner\"]):\n",
        "\n",
        "    txt = [token.lemma_.lower() for token in text \n",
        "          if token.is_alpha\n",
        "          and not token.is_punct\n",
        "          and token.pos_ not in ['SYM', 'NUM', 'PRON', 'DET', 'AUX', 'CCONJ', 'INTJ', 'PART', 'X', 'PUNCT', 'SCONJ', 'ADV']]\n",
        "\n",
        "    clean_container.append(\" \".join(txt))\n",
        "    tokens.append(txt)\n",
        "      \n",
        "  return clean_container, tokens"
      ]
    },
    {
      "cell_type": "code",
      "execution_count": null,
      "metadata": {
        "id": "evN0XlO5AbEN"
      },
      "outputs": [],
      "source": [
        "#Get tokens and text with the tokens put together\n",
        "sentences_hyper=[]\n",
        "tokens_hyper=[]\n",
        "sentences_hyper = text_prepro_hyper(data['sentences'])[0]\n",
        "tokens_hyper = text_prepro_hyper(data['sentences'])[1]"
      ]
    },
    {
      "cell_type": "code",
      "execution_count": null,
      "metadata": {
        "id": "Hm5Wa0cqML4Z"
      },
      "outputs": [],
      "source": [
        "data['sentences_tunned'] = sentences_hyper"
      ]
    },
    {
      "cell_type": "code",
      "execution_count": null,
      "metadata": {
        "colab": {
          "base_uri": "https://localhost:8080/",
          "height": 424
        },
        "id": "50x16DfBMHN5",
        "outputId": "60ac7f80-2e30-4eed-ab6d-1f73d854a25a"
      },
      "outputs": [
        {
          "data": {
            "text/html": [
              "<div>\n",
              "<style scoped>\n",
              "    .dataframe tbody tr th:only-of-type {\n",
              "        vertical-align: middle;\n",
              "    }\n",
              "\n",
              "    .dataframe tbody tr th {\n",
              "        vertical-align: top;\n",
              "    }\n",
              "\n",
              "    .dataframe thead th {\n",
              "        text-align: right;\n",
              "    }\n",
              "</style>\n",
              "<table border=\"1\" class=\"dataframe\">\n",
              "  <thead>\n",
              "    <tr style=\"text-align: right;\">\n",
              "      <th></th>\n",
              "      <th>index</th>\n",
              "      <th>taler</th>\n",
              "      <th>politc_party</th>\n",
              "      <th>speech</th>\n",
              "      <th>colour</th>\n",
              "      <th>variable</th>\n",
              "      <th>sentences</th>\n",
              "      <th>tokens</th>\n",
              "      <th>text_clean</th>\n",
              "      <th>sentences_tunned</th>\n",
              "    </tr>\n",
              "  </thead>\n",
              "  <tbody>\n",
              "    <tr>\n",
              "      <th>0</th>\n",
              "      <td>0</td>\n",
              "      <td>Mette Frederiksen</td>\n",
              "      <td>Social Democrats</td>\n",
              "      <td>Tak til Alberte for den smukke sang. Du og din...</td>\n",
              "      <td>Red</td>\n",
              "      <td>0</td>\n",
              "      <td>Tak til Alberte for den smukke sang</td>\n",
              "      <td>[tak, til, alberte, for, den, smuk, sang]</td>\n",
              "      <td>tak til alberte for den smuk sang</td>\n",
              "      <td>tak til alberte for smuk sang</td>\n",
              "    </tr>\n",
              "    <tr>\n",
              "      <th>1</th>\n",
              "      <td>1</td>\n",
              "      <td>Mette Frederiksen</td>\n",
              "      <td>Social Democrats</td>\n",
              "      <td>Deres Majestæt.\\n\\nDeres Kongelige Højheder.\\n...</td>\n",
              "      <td>Red</td>\n",
              "      <td>0</td>\n",
              "      <td>Deres Majestæt</td>\n",
              "      <td>[deres, majestæt]</td>\n",
              "      <td>deres_majestæt</td>\n",
              "      <td>majestæt</td>\n",
              "    </tr>\n",
              "    <tr>\n",
              "      <th>2</th>\n",
              "      <td>2</td>\n",
              "      <td>Mette Frederiksen</td>\n",
              "      <td>Social Democrats</td>\n",
              "      <td>Hjertelig velkommen. Og tak, fordi I har rydde...</td>\n",
              "      <td>Red</td>\n",
              "      <td>0</td>\n",
              "      <td>Hjertelig velkommen</td>\n",
              "      <td>[hjertelig, velkommen]</td>\n",
              "      <td>hjertelig velkommen</td>\n",
              "      <td>hjertelig velkommen</td>\n",
              "    </tr>\n",
              "    <tr>\n",
              "      <th>3</th>\n",
              "      <td>3</td>\n",
              "      <td>Mette Frederiksen</td>\n",
              "      <td>Social Democrats</td>\n",
              "      <td>Danmark er et fantastisk land. Men tiderne er ...</td>\n",
              "      <td>Red</td>\n",
              "      <td>0</td>\n",
              "      <td>Danmark er et fantastisk land</td>\n",
              "      <td>[danmark, være, fantastisk, land]</td>\n",
              "      <td>danmark være fantastisk_land</td>\n",
              "      <td>danmark fantastisk land</td>\n",
              "    </tr>\n",
              "    <tr>\n",
              "      <th>4</th>\n",
              "      <td>4</td>\n",
              "      <td>Mette Frederiksen</td>\n",
              "      <td>Social Democrats</td>\n",
              "      <td>Kære danskere. Kære ukrainere.\\n\\nI aften for ...</td>\n",
              "      <td>Red</td>\n",
              "      <td>0</td>\n",
              "      <td>Kære danskere</td>\n",
              "      <td>[kær, dansker]</td>\n",
              "      <td>kær dansker</td>\n",
              "      <td>kær dansker</td>\n",
              "    </tr>\n",
              "  </tbody>\n",
              "</table>\n",
              "</div>"
            ],
            "text/plain": [
              "   index              taler      politc_party  \\\n",
              "0      0  Mette Frederiksen  Social Democrats   \n",
              "1      1  Mette Frederiksen  Social Democrats   \n",
              "2      2  Mette Frederiksen  Social Democrats   \n",
              "3      3  Mette Frederiksen  Social Democrats   \n",
              "4      4  Mette Frederiksen  Social Democrats   \n",
              "\n",
              "                                              speech colour variable  \\\n",
              "0  Tak til Alberte for den smukke sang. Du og din...    Red        0   \n",
              "1  Deres Majestæt.\\n\\nDeres Kongelige Højheder.\\n...    Red        0   \n",
              "2  Hjertelig velkommen. Og tak, fordi I har rydde...    Red        0   \n",
              "3  Danmark er et fantastisk land. Men tiderne er ...    Red        0   \n",
              "4  Kære danskere. Kære ukrainere.\\n\\nI aften for ...    Red        0   \n",
              "\n",
              "                             sentences  \\\n",
              "0  Tak til Alberte for den smukke sang   \n",
              "1                       Deres Majestæt   \n",
              "2                  Hjertelig velkommen   \n",
              "3        Danmark er et fantastisk land   \n",
              "4                        Kære danskere   \n",
              "\n",
              "                                      tokens  \\\n",
              "0  [tak, til, alberte, for, den, smuk, sang]   \n",
              "1                          [deres, majestæt]   \n",
              "2                     [hjertelig, velkommen]   \n",
              "3          [danmark, være, fantastisk, land]   \n",
              "4                             [kær, dansker]   \n",
              "\n",
              "                          text_clean               sentences_tunned  \n",
              "0  tak til alberte for den smuk sang  tak til alberte for smuk sang  \n",
              "1                     deres_majestæt                       majestæt  \n",
              "2                hjertelig velkommen            hjertelig velkommen  \n",
              "3       danmark være fantastisk_land        danmark fantastisk land  \n",
              "4                        kær dansker                    kær dansker  "
            ]
          },
          "execution_count": 85,
          "metadata": {},
          "output_type": "execute_result"
        }
      ],
      "source": [
        "data.head()"
      ]
    },
    {
      "cell_type": "code",
      "execution_count": null,
      "metadata": {
        "colab": {
          "base_uri": "https://localhost:8080/"
        },
        "id": "GAZ1D6U1O1dd",
        "outputId": "5b618b78-6a0d-4a2d-c51b-dea7cba45e91"
      },
      "outputs": [
        {
          "name": "stdout",
          "output_type": "stream",
          "text": [
            "number of NaN cells:  0\n",
            "number of empty cells:  707\n"
          ]
        }
      ],
      "source": [
        "print('number of NaN cells: ', data['sentences_tunned'].isna().sum())\n",
        "print('number of empty cells: ', len(data[data['sentences_tunned']=='']))"
      ]
    },
    {
      "cell_type": "code",
      "execution_count": null,
      "metadata": {
        "id": "Xu8xBnMBPVsU"
      },
      "outputs": [],
      "source": [
        "data_backup_hyper = data.copy()"
      ]
    },
    {
      "cell_type": "code",
      "execution_count": null,
      "metadata": {
        "id": "mkzbsCDMTI_Y"
      },
      "outputs": [],
      "source": [
        "# data = data_backup_hyper"
      ]
    },
    {
      "cell_type": "code",
      "execution_count": null,
      "metadata": {
        "colab": {
          "base_uri": "https://localhost:8080/"
        },
        "id": "mAkcBgDWV3fJ",
        "outputId": "a780f03d-76c7-4619-9454-1a5ce4de3ba8"
      },
      "outputs": [
        {
          "data": {
            "text/plain": [
              "(38390, 10)"
            ]
          },
          "execution_count": 89,
          "metadata": {},
          "output_type": "execute_result"
        }
      ],
      "source": [
        "data.shape"
      ]
    },
    {
      "cell_type": "code",
      "execution_count": null,
      "metadata": {
        "colab": {
          "base_uri": "https://localhost:8080/"
        },
        "id": "gSMc2S9k7MgE",
        "outputId": "d454544a-48e6-4c3d-87f1-c3824dd8177d"
      },
      "outputs": [
        {
          "name": "stderr",
          "output_type": "stream",
          "text": [
            "[nltk_data] Downloading package stopwords to\n",
            "[nltk_data]     C:\\Users\\mdela\\AppData\\Roaming\\nltk_data...\n",
            "[nltk_data]   Package stopwords is already up-to-date!\n"
          ]
        },
        {
          "data": {
            "text/plain": [
              "True"
            ]
          },
          "execution_count": 90,
          "metadata": {},
          "output_type": "execute_result"
        }
      ],
      "source": [
        "import nltk\n",
        "from nltk.corpus import stopwords\n",
        "nltk.download('stopwords')"
      ]
    },
    {
      "cell_type": "code",
      "execution_count": null,
      "metadata": {
        "id": "VgNLHg-QUNDS"
      },
      "outputs": [],
      "source": [
        "#This function gets the N-grams and makes the pipeline\n",
        "\n",
        "def ngrams(tokens_hyper, data, min_count, threshold, min_df, max_df):\n",
        "  phrase_model = Phrases(tokens_hyper, min_count=min_count, threshold=threshold)\n",
        "  sentences_phrased = [phrase_model[line] for line in tokens_hyper]\n",
        "\n",
        "  score_max = []\n",
        "\n",
        "  for phrase, score in phrase_model.find_phrases(tokens_hyper).items():\n",
        "      score_max.append((phrase, score))\n",
        "      string_sentences = []\n",
        "  \n",
        "  cont = 0\n",
        "  for i in tokens_hyper:\n",
        "      var = ' '.join(sentences_phrased[cont])\n",
        "      string_sentences.append(var)\n",
        "      cont=cont+1\n",
        "  \n",
        "  data_test=data\n",
        "  data_test['clean_text_tunned'] = string_sentences\n",
        "  data_test = data_test [data_test['sentences_tunned']!=''].reset_index()\n",
        "\n",
        "  X, y = data_test ['clean_text_tunned'], data_test ['colour']\n",
        "  X_train, X_test, y_train, y_test = train_test_split(X, y, test_size = 0.3, stratify=y)\n",
        "\n",
        "  tfidf = TfidfVectorizer(stop_words=dk_stop+stopwords.words('english'), min_df = min_df, max_df = max_df)\n",
        "  X = tfidf.fit_transform(data_test ['clean_text_tunned'])\n",
        "  shape = X.shape\n",
        "\n",
        "  model = Pipeline(\n",
        "    [\n",
        "        (\"transformer\", tfidf),\n",
        "        (\"classifier\", cls),\n",
        "    ]\n",
        "  )\n",
        "\n",
        "  score=model_score(model, X_train, X_test, y_train, y_test)\n",
        "\n",
        "  y_pred = model.predict(X_test)\n",
        "  print(classification_report(y_test, y_pred, target_names=['Blue','Red']))\n",
        "  \n",
        "  return score, score_max, data_test, shape\n",
        "\n",
        "  # return string_sentences\n"
      ]
    },
    {
      "cell_type": "code",
      "execution_count": null,
      "metadata": {
        "colab": {
          "base_uri": "https://localhost:8080/"
        },
        "id": "K78SfIZCSckS",
        "outputId": "bef0a40f-03f9-4e9c-a52c-3f432fd337b4"
      },
      "outputs": [
        {
          "data": {
            "text/plain": [
              "(38390, 10)"
            ]
          },
          "execution_count": 92,
          "metadata": {},
          "output_type": "execute_result"
        }
      ],
      "source": [
        "data.shape"
      ]
    },
    {
      "cell_type": "code",
      "execution_count": null,
      "metadata": {
        "colab": {
          "base_uri": "https://localhost:8080/"
        },
        "id": "uEcaiW-YSh5L",
        "outputId": "0110c0e4-1dbe-4761-c939-6df8ec8d1651"
      },
      "outputs": [
        {
          "data": {
            "text/plain": [
              "38390"
            ]
          },
          "execution_count": 93,
          "metadata": {},
          "output_type": "execute_result"
        }
      ],
      "source": [
        "len(tokens_hyper)"
      ]
    },
    {
      "cell_type": "markdown",
      "metadata": {
        "id": "kGrupui57MgF"
      },
      "source": [
        "Analysis of ngrams values"
      ]
    },
    {
      "cell_type": "code",
      "execution_count": null,
      "metadata": {
        "id": "1UbqbXeabm5U"
      },
      "outputs": [],
      "source": [
        "#Adding values for testing the score with the n-grams\n",
        "min_count = [2, 5, 25, 50, 100]\n",
        "threshold = [2, 5, 25, 50, 100]"
      ]
    },
    {
      "cell_type": "code",
      "execution_count": null,
      "metadata": {
        "colab": {
          "base_uri": "https://localhost:8080/"
        },
        "id": "SSOxxZT2bzCz",
        "outputId": "9f97ca17-c9f7-4ac5-aaa7-4605571e07a6"
      },
      "outputs": [
        {
          "name": "stderr",
          "output_type": "stream",
          "text": [
            "c:\\Users\\mdela\\anaconda3\\lib\\site-packages\\sklearn\\feature_extraction\\text.py:396: UserWarning: Your stop_words may be inconsistent with your preprocessing. Tokenizing the stop words generated tokens ['bl', 'ca', 'eks', 'pga'] not in stop_words.\n",
            "  warnings.warn(\n"
          ]
        },
        {
          "name": "stdout",
          "output_type": "stream",
          "text": [
            "              precision    recall  f1-score   support\n",
            "\n",
            "        Blue       0.69      0.90      0.78      6987\n",
            "         Red       0.67      0.34      0.45      4318\n",
            "\n",
            "    accuracy                           0.68     11305\n",
            "   macro avg       0.68      0.62      0.62     11305\n",
            "weighted avg       0.68      0.68      0.65     11305\n",
            "\n",
            "score with  2  min_count and 2 threshold: 0.6842105263157895\n"
          ]
        },
        {
          "name": "stderr",
          "output_type": "stream",
          "text": [
            "c:\\Users\\mdela\\anaconda3\\lib\\site-packages\\sklearn\\feature_extraction\\text.py:396: UserWarning: Your stop_words may be inconsistent with your preprocessing. Tokenizing the stop words generated tokens ['bl', 'ca', 'eks', 'pga'] not in stop_words.\n",
            "  warnings.warn(\n"
          ]
        },
        {
          "name": "stdout",
          "output_type": "stream",
          "text": [
            "              precision    recall  f1-score   support\n",
            "\n",
            "        Blue       0.69      0.89      0.78      6987\n",
            "         Red       0.67      0.35      0.46      4318\n",
            "\n",
            "    accuracy                           0.69     11305\n",
            "   macro avg       0.68      0.62      0.62     11305\n",
            "weighted avg       0.68      0.69      0.66     11305\n",
            "\n",
            "score with  2  min_count and 5 threshold: 0.686687306501548\n"
          ]
        },
        {
          "name": "stderr",
          "output_type": "stream",
          "text": [
            "c:\\Users\\mdela\\anaconda3\\lib\\site-packages\\sklearn\\feature_extraction\\text.py:396: UserWarning: Your stop_words may be inconsistent with your preprocessing. Tokenizing the stop words generated tokens ['bl', 'ca', 'eks', 'pga'] not in stop_words.\n",
            "  warnings.warn(\n"
          ]
        },
        {
          "name": "stdout",
          "output_type": "stream",
          "text": [
            "              precision    recall  f1-score   support\n",
            "\n",
            "        Blue       0.69      0.89      0.78      6987\n",
            "         Red       0.66      0.35      0.46      4318\n",
            "\n",
            "    accuracy                           0.68     11305\n",
            "   macro avg       0.68      0.62      0.62     11305\n",
            "weighted avg       0.68      0.68      0.66     11305\n",
            "\n",
            "score with  2  min_count and 25 threshold: 0.6841220698805838\n"
          ]
        },
        {
          "name": "stderr",
          "output_type": "stream",
          "text": [
            "c:\\Users\\mdela\\anaconda3\\lib\\site-packages\\sklearn\\feature_extraction\\text.py:396: UserWarning: Your stop_words may be inconsistent with your preprocessing. Tokenizing the stop words generated tokens ['bl', 'ca', 'eks', 'pga'] not in stop_words.\n",
            "  warnings.warn(\n"
          ]
        },
        {
          "name": "stdout",
          "output_type": "stream",
          "text": [
            "              precision    recall  f1-score   support\n",
            "\n",
            "        Blue       0.69      0.88      0.78      6987\n",
            "         Red       0.66      0.37      0.47      4318\n",
            "\n",
            "    accuracy                           0.68     11305\n",
            "   macro avg       0.67      0.62      0.62     11305\n",
            "weighted avg       0.68      0.68      0.66     11305\n",
            "\n",
            "score with  2  min_count and 50 threshold: 0.6844758956214064\n"
          ]
        },
        {
          "name": "stderr",
          "output_type": "stream",
          "text": [
            "c:\\Users\\mdela\\anaconda3\\lib\\site-packages\\sklearn\\feature_extraction\\text.py:396: UserWarning: Your stop_words may be inconsistent with your preprocessing. Tokenizing the stop words generated tokens ['bl', 'ca', 'eks', 'pga'] not in stop_words.\n",
            "  warnings.warn(\n"
          ]
        },
        {
          "name": "stdout",
          "output_type": "stream",
          "text": [
            "              precision    recall  f1-score   support\n",
            "\n",
            "        Blue       0.69      0.89      0.78      6987\n",
            "         Red       0.67      0.35      0.46      4318\n",
            "\n",
            "    accuracy                           0.69     11305\n",
            "   macro avg       0.68      0.62      0.62     11305\n",
            "weighted avg       0.68      0.69      0.66     11305\n",
            "\n",
            "score with  2  min_count and 100 threshold: 0.6853604599734631\n"
          ]
        },
        {
          "name": "stderr",
          "output_type": "stream",
          "text": [
            "c:\\Users\\mdela\\anaconda3\\lib\\site-packages\\sklearn\\feature_extraction\\text.py:396: UserWarning: Your stop_words may be inconsistent with your preprocessing. Tokenizing the stop words generated tokens ['bl', 'ca', 'eks', 'pga'] not in stop_words.\n",
            "  warnings.warn(\n"
          ]
        },
        {
          "name": "stdout",
          "output_type": "stream",
          "text": [
            "              precision    recall  f1-score   support\n",
            "\n",
            "        Blue       0.70      0.89      0.78      6987\n",
            "         Red       0.68      0.38      0.49      4318\n",
            "\n",
            "    accuracy                           0.69     11305\n",
            "   macro avg       0.69      0.63      0.63     11305\n",
            "weighted avg       0.69      0.69      0.67     11305\n",
            "\n",
            "score with  5  min_count and 2 threshold: 0.6936753648827952\n"
          ]
        },
        {
          "name": "stderr",
          "output_type": "stream",
          "text": [
            "c:\\Users\\mdela\\anaconda3\\lib\\site-packages\\sklearn\\feature_extraction\\text.py:396: UserWarning: Your stop_words may be inconsistent with your preprocessing. Tokenizing the stop words generated tokens ['bl', 'ca', 'eks', 'pga'] not in stop_words.\n",
            "  warnings.warn(\n"
          ]
        },
        {
          "name": "stdout",
          "output_type": "stream",
          "text": [
            "              precision    recall  f1-score   support\n",
            "\n",
            "        Blue       0.69      0.88      0.78      6987\n",
            "         Red       0.66      0.37      0.48      4318\n",
            "\n",
            "    accuracy                           0.69     11305\n",
            "   macro avg       0.68      0.63      0.63     11305\n",
            "weighted avg       0.68      0.69      0.66     11305\n",
            "\n",
            "score with  5  min_count and 5 threshold: 0.6874834144183989\n"
          ]
        },
        {
          "name": "stderr",
          "output_type": "stream",
          "text": [
            "c:\\Users\\mdela\\anaconda3\\lib\\site-packages\\sklearn\\feature_extraction\\text.py:396: UserWarning: Your stop_words may be inconsistent with your preprocessing. Tokenizing the stop words generated tokens ['bl', 'ca', 'eks', 'pga'] not in stop_words.\n",
            "  warnings.warn(\n"
          ]
        },
        {
          "name": "stdout",
          "output_type": "stream",
          "text": [
            "              precision    recall  f1-score   support\n",
            "\n",
            "        Blue       0.69      0.88      0.78      6987\n",
            "         Red       0.66      0.37      0.47      4318\n",
            "\n",
            "    accuracy                           0.69     11305\n",
            "   macro avg       0.68      0.62      0.62     11305\n",
            "weighted avg       0.68      0.69      0.66     11305\n",
            "\n",
            "score with  5  min_count and 25 threshold: 0.6851835471030517\n"
          ]
        },
        {
          "name": "stderr",
          "output_type": "stream",
          "text": [
            "c:\\Users\\mdela\\anaconda3\\lib\\site-packages\\sklearn\\feature_extraction\\text.py:396: UserWarning: Your stop_words may be inconsistent with your preprocessing. Tokenizing the stop words generated tokens ['bl', 'ca', 'eks', 'pga'] not in stop_words.\n",
            "  warnings.warn(\n"
          ]
        },
        {
          "name": "stdout",
          "output_type": "stream",
          "text": [
            "              precision    recall  f1-score   support\n",
            "\n",
            "        Blue       0.69      0.89      0.78      6987\n",
            "         Red       0.66      0.36      0.47      4318\n",
            "\n",
            "    accuracy                           0.69     11305\n",
            "   macro avg       0.68      0.62      0.62     11305\n",
            "weighted avg       0.68      0.69      0.66     11305\n",
            "\n",
            "score with  5  min_count and 50 threshold: 0.686421937195931\n"
          ]
        },
        {
          "name": "stderr",
          "output_type": "stream",
          "text": [
            "c:\\Users\\mdela\\anaconda3\\lib\\site-packages\\sklearn\\feature_extraction\\text.py:396: UserWarning: Your stop_words may be inconsistent with your preprocessing. Tokenizing the stop words generated tokens ['bl', 'ca', 'eks', 'pga'] not in stop_words.\n",
            "  warnings.warn(\n"
          ]
        },
        {
          "name": "stdout",
          "output_type": "stream",
          "text": [
            "              precision    recall  f1-score   support\n",
            "\n",
            "        Blue       0.69      0.89      0.78      6987\n",
            "         Red       0.66      0.35      0.46      4318\n",
            "\n",
            "    accuracy                           0.68     11305\n",
            "   macro avg       0.68      0.62      0.62     11305\n",
            "weighted avg       0.68      0.68      0.65     11305\n",
            "\n",
            "score with  5  min_count and 100 threshold: 0.6832375055285272\n"
          ]
        },
        {
          "name": "stderr",
          "output_type": "stream",
          "text": [
            "c:\\Users\\mdela\\anaconda3\\lib\\site-packages\\sklearn\\feature_extraction\\text.py:396: UserWarning: Your stop_words may be inconsistent with your preprocessing. Tokenizing the stop words generated tokens ['bl', 'ca', 'eks', 'pga'] not in stop_words.\n",
            "  warnings.warn(\n"
          ]
        },
        {
          "name": "stdout",
          "output_type": "stream",
          "text": [
            "              precision    recall  f1-score   support\n",
            "\n",
            "        Blue       0.70      0.87      0.78      6987\n",
            "         Red       0.66      0.39      0.49      4318\n",
            "\n",
            "    accuracy                           0.69     11305\n",
            "   macro avg       0.68      0.63      0.63     11305\n",
            "weighted avg       0.68      0.69      0.67     11305\n",
            "\n",
            "score with  25  min_count and 2 threshold: 0.6895179124281291\n"
          ]
        },
        {
          "name": "stderr",
          "output_type": "stream",
          "text": [
            "c:\\Users\\mdela\\anaconda3\\lib\\site-packages\\sklearn\\feature_extraction\\text.py:396: UserWarning: Your stop_words may be inconsistent with your preprocessing. Tokenizing the stop words generated tokens ['bl', 'ca', 'eks', 'pga'] not in stop_words.\n",
            "  warnings.warn(\n"
          ]
        },
        {
          "name": "stdout",
          "output_type": "stream",
          "text": [
            "              precision    recall  f1-score   support\n",
            "\n",
            "        Blue       0.69      0.88      0.77      6987\n",
            "         Red       0.65      0.37      0.47      4318\n",
            "\n",
            "    accuracy                           0.68     11305\n",
            "   macro avg       0.67      0.62      0.62     11305\n",
            "weighted avg       0.68      0.68      0.66     11305\n",
            "\n",
            "score with  25  min_count and 5 threshold: 0.6834144183989386\n"
          ]
        },
        {
          "name": "stderr",
          "output_type": "stream",
          "text": [
            "c:\\Users\\mdela\\anaconda3\\lib\\site-packages\\sklearn\\feature_extraction\\text.py:396: UserWarning: Your stop_words may be inconsistent with your preprocessing. Tokenizing the stop words generated tokens ['bl', 'ca', 'eks', 'pga'] not in stop_words.\n",
            "  warnings.warn(\n"
          ]
        },
        {
          "name": "stdout",
          "output_type": "stream",
          "text": [
            "              precision    recall  f1-score   support\n",
            "\n",
            "        Blue       0.69      0.88      0.78      6987\n",
            "         Red       0.66      0.36      0.47      4318\n",
            "\n",
            "    accuracy                           0.68     11305\n",
            "   macro avg       0.67      0.62      0.62     11305\n",
            "weighted avg       0.68      0.68      0.66     11305\n",
            "\n",
            "score with  25  min_count and 25 threshold: 0.6844758956214064\n"
          ]
        },
        {
          "name": "stderr",
          "output_type": "stream",
          "text": [
            "c:\\Users\\mdela\\anaconda3\\lib\\site-packages\\sklearn\\feature_extraction\\text.py:396: UserWarning: Your stop_words may be inconsistent with your preprocessing. Tokenizing the stop words generated tokens ['bl', 'ca', 'eks', 'pga'] not in stop_words.\n",
            "  warnings.warn(\n"
          ]
        },
        {
          "name": "stdout",
          "output_type": "stream",
          "text": [
            "              precision    recall  f1-score   support\n",
            "\n",
            "        Blue       0.70      0.88      0.78      6987\n",
            "         Red       0.66      0.38      0.48      4318\n",
            "\n",
            "    accuracy                           0.69     11305\n",
            "   macro avg       0.68      0.63      0.63     11305\n",
            "weighted avg       0.68      0.69      0.66     11305\n",
            "\n",
            "score with  25  min_count and 50 threshold: 0.6891640866873066\n"
          ]
        },
        {
          "name": "stderr",
          "output_type": "stream",
          "text": [
            "c:\\Users\\mdela\\anaconda3\\lib\\site-packages\\sklearn\\feature_extraction\\text.py:396: UserWarning: Your stop_words may be inconsistent with your preprocessing. Tokenizing the stop words generated tokens ['bl', 'ca', 'eks', 'pga'] not in stop_words.\n",
            "  warnings.warn(\n"
          ]
        },
        {
          "name": "stdout",
          "output_type": "stream",
          "text": [
            "              precision    recall  f1-score   support\n",
            "\n",
            "        Blue       0.69      0.87      0.77      6987\n",
            "         Red       0.64      0.36      0.46      4318\n",
            "\n",
            "    accuracy                           0.68     11305\n",
            "   macro avg       0.66      0.62      0.62     11305\n",
            "weighted avg       0.67      0.68      0.65     11305\n",
            "\n",
            "score with  25  min_count and 100 threshold: 0.6776647501105706\n"
          ]
        },
        {
          "name": "stderr",
          "output_type": "stream",
          "text": [
            "c:\\Users\\mdela\\anaconda3\\lib\\site-packages\\sklearn\\feature_extraction\\text.py:396: UserWarning: Your stop_words may be inconsistent with your preprocessing. Tokenizing the stop words generated tokens ['bl', 'ca', 'eks', 'pga'] not in stop_words.\n",
            "  warnings.warn(\n"
          ]
        },
        {
          "name": "stdout",
          "output_type": "stream",
          "text": [
            "              precision    recall  f1-score   support\n",
            "\n",
            "        Blue       0.69      0.88      0.77      6987\n",
            "         Red       0.65      0.38      0.48      4318\n",
            "\n",
            "    accuracy                           0.69     11305\n",
            "   macro avg       0.67      0.63      0.63     11305\n",
            "weighted avg       0.68      0.69      0.66     11305\n",
            "\n",
            "score with  50  min_count and 2 threshold: 0.6850066342326404\n"
          ]
        },
        {
          "name": "stderr",
          "output_type": "stream",
          "text": [
            "c:\\Users\\mdela\\anaconda3\\lib\\site-packages\\sklearn\\feature_extraction\\text.py:396: UserWarning: Your stop_words may be inconsistent with your preprocessing. Tokenizing the stop words generated tokens ['bl', 'ca', 'eks', 'pga'] not in stop_words.\n",
            "  warnings.warn(\n"
          ]
        },
        {
          "name": "stdout",
          "output_type": "stream",
          "text": [
            "              precision    recall  f1-score   support\n",
            "\n",
            "        Blue       0.69      0.87      0.77      6987\n",
            "         Red       0.65      0.37      0.47      4318\n",
            "\n",
            "    accuracy                           0.68     11305\n",
            "   macro avg       0.67      0.62      0.62     11305\n",
            "weighted avg       0.67      0.68      0.66     11305\n",
            "\n",
            "score with  50  min_count and 5 threshold: 0.6821760283060593\n"
          ]
        },
        {
          "name": "stderr",
          "output_type": "stream",
          "text": [
            "c:\\Users\\mdela\\anaconda3\\lib\\site-packages\\sklearn\\feature_extraction\\text.py:396: UserWarning: Your stop_words may be inconsistent with your preprocessing. Tokenizing the stop words generated tokens ['bl', 'ca', 'eks', 'pga'] not in stop_words.\n",
            "  warnings.warn(\n"
          ]
        },
        {
          "name": "stdout",
          "output_type": "stream",
          "text": [
            "              precision    recall  f1-score   support\n",
            "\n",
            "        Blue       0.69      0.89      0.78      6987\n",
            "         Red       0.67      0.37      0.48      4318\n",
            "\n",
            "    accuracy                           0.69     11305\n",
            "   macro avg       0.68      0.63      0.63     11305\n",
            "weighted avg       0.68      0.69      0.66     11305\n",
            "\n",
            "score with  50  min_count and 25 threshold: 0.6888102609464839\n"
          ]
        },
        {
          "name": "stderr",
          "output_type": "stream",
          "text": [
            "c:\\Users\\mdela\\anaconda3\\lib\\site-packages\\sklearn\\feature_extraction\\text.py:396: UserWarning: Your stop_words may be inconsistent with your preprocessing. Tokenizing the stop words generated tokens ['bl', 'ca', 'eks', 'pga'] not in stop_words.\n",
            "  warnings.warn(\n"
          ]
        },
        {
          "name": "stdout",
          "output_type": "stream",
          "text": [
            "              precision    recall  f1-score   support\n",
            "\n",
            "        Blue       0.69      0.88      0.78      6987\n",
            "         Red       0.66      0.36      0.47      4318\n",
            "\n",
            "    accuracy                           0.68     11305\n",
            "   macro avg       0.67      0.62      0.62     11305\n",
            "weighted avg       0.68      0.68      0.66     11305\n",
            "\n",
            "score with  50  min_count and 50 threshold: 0.6843874391862008\n"
          ]
        },
        {
          "name": "stderr",
          "output_type": "stream",
          "text": [
            "c:\\Users\\mdela\\anaconda3\\lib\\site-packages\\sklearn\\feature_extraction\\text.py:396: UserWarning: Your stop_words may be inconsistent with your preprocessing. Tokenizing the stop words generated tokens ['bl', 'ca', 'eks', 'pga'] not in stop_words.\n",
            "  warnings.warn(\n"
          ]
        },
        {
          "name": "stdout",
          "output_type": "stream",
          "text": [
            "              precision    recall  f1-score   support\n",
            "\n",
            "        Blue       0.70      0.88      0.78      6987\n",
            "         Red       0.66      0.37      0.48      4318\n",
            "\n",
            "    accuracy                           0.69     11305\n",
            "   macro avg       0.68      0.63      0.63     11305\n",
            "weighted avg       0.68      0.69      0.66     11305\n",
            "\n",
            "score with  50  min_count and 100 threshold: 0.6881910659000442\n"
          ]
        },
        {
          "name": "stderr",
          "output_type": "stream",
          "text": [
            "c:\\Users\\mdela\\anaconda3\\lib\\site-packages\\sklearn\\feature_extraction\\text.py:396: UserWarning: Your stop_words may be inconsistent with your preprocessing. Tokenizing the stop words generated tokens ['bl', 'ca', 'eks', 'pga'] not in stop_words.\n",
            "  warnings.warn(\n"
          ]
        },
        {
          "name": "stdout",
          "output_type": "stream",
          "text": [
            "              precision    recall  f1-score   support\n",
            "\n",
            "        Blue       0.69      0.88      0.78      6987\n",
            "         Red       0.65      0.37      0.47      4318\n",
            "\n",
            "    accuracy                           0.69     11305\n",
            "   macro avg       0.67      0.63      0.62     11305\n",
            "weighted avg       0.68      0.69      0.66     11305\n",
            "\n",
            "score with  100  min_count and 2 threshold: 0.6850950906678461\n"
          ]
        },
        {
          "name": "stderr",
          "output_type": "stream",
          "text": [
            "c:\\Users\\mdela\\anaconda3\\lib\\site-packages\\sklearn\\feature_extraction\\text.py:396: UserWarning: Your stop_words may be inconsistent with your preprocessing. Tokenizing the stop words generated tokens ['bl', 'ca', 'eks', 'pga'] not in stop_words.\n",
            "  warnings.warn(\n"
          ]
        },
        {
          "name": "stdout",
          "output_type": "stream",
          "text": [
            "              precision    recall  f1-score   support\n",
            "\n",
            "        Blue       0.69      0.87      0.77      6987\n",
            "         Red       0.64      0.37      0.47      4318\n",
            "\n",
            "    accuracy                           0.68     11305\n",
            "   macro avg       0.67      0.62      0.62     11305\n",
            "weighted avg       0.67      0.68      0.66     11305\n",
            "\n",
            "score with  100  min_count and 5 threshold: 0.6807607253427687\n"
          ]
        },
        {
          "name": "stderr",
          "output_type": "stream",
          "text": [
            "c:\\Users\\mdela\\anaconda3\\lib\\site-packages\\sklearn\\feature_extraction\\text.py:396: UserWarning: Your stop_words may be inconsistent with your preprocessing. Tokenizing the stop words generated tokens ['bl', 'ca', 'eks', 'pga'] not in stop_words.\n",
            "  warnings.warn(\n"
          ]
        },
        {
          "name": "stdout",
          "output_type": "stream",
          "text": [
            "              precision    recall  f1-score   support\n",
            "\n",
            "        Blue       0.69      0.87      0.77      6987\n",
            "         Red       0.65      0.37      0.47      4318\n",
            "\n",
            "    accuracy                           0.68     11305\n",
            "   macro avg       0.67      0.62      0.62     11305\n",
            "weighted avg       0.68      0.68      0.66     11305\n",
            "\n",
            "score with  100  min_count and 25 threshold: 0.6831490490933215\n"
          ]
        },
        {
          "name": "stderr",
          "output_type": "stream",
          "text": [
            "c:\\Users\\mdela\\anaconda3\\lib\\site-packages\\sklearn\\feature_extraction\\text.py:396: UserWarning: Your stop_words may be inconsistent with your preprocessing. Tokenizing the stop words generated tokens ['bl', 'ca', 'eks', 'pga'] not in stop_words.\n",
            "  warnings.warn(\n"
          ]
        },
        {
          "name": "stdout",
          "output_type": "stream",
          "text": [
            "              precision    recall  f1-score   support\n",
            "\n",
            "        Blue       0.70      0.88      0.78      6987\n",
            "         Red       0.66      0.38      0.48      4318\n",
            "\n",
            "    accuracy                           0.69     11305\n",
            "   macro avg       0.68      0.63      0.63     11305\n",
            "weighted avg       0.68      0.69      0.66     11305\n",
            "\n",
            "score with  100  min_count and 50 threshold: 0.6873949579831933\n"
          ]
        },
        {
          "name": "stderr",
          "output_type": "stream",
          "text": [
            "c:\\Users\\mdela\\anaconda3\\lib\\site-packages\\sklearn\\feature_extraction\\text.py:396: UserWarning: Your stop_words may be inconsistent with your preprocessing. Tokenizing the stop words generated tokens ['bl', 'ca', 'eks', 'pga'] not in stop_words.\n",
            "  warnings.warn(\n"
          ]
        },
        {
          "name": "stdout",
          "output_type": "stream",
          "text": [
            "              precision    recall  f1-score   support\n",
            "\n",
            "        Blue       0.69      0.89      0.78      6987\n",
            "         Red       0.67      0.36      0.47      4318\n",
            "\n",
            "    accuracy                           0.69     11305\n",
            "   macro avg       0.68      0.62      0.62     11305\n",
            "weighted avg       0.68      0.69      0.66     11305\n",
            "\n",
            "score with  100  min_count and 100 threshold: 0.6875718708536046\n"
          ]
        }
      ],
      "source": [
        "#testing results with different configuration of the gensim Phrases\n",
        "for i in min_count:\n",
        "  for j in threshold:\n",
        "    print(f'score with ', i,' min_count and',j,'threshold:', ngrams(tokens_hyper, data, i, j, 1, 1.0)[0])\n"
      ]
    },
    {
      "cell_type": "code",
      "execution_count": null,
      "metadata": {
        "colab": {
          "base_uri": "https://localhost:8080/"
        },
        "id": "GT_2XV-TCiXf",
        "outputId": "b7526ce7-551a-45b0-e0b5-94a2abda41ee"
      },
      "outputs": [
        {
          "name": "stderr",
          "output_type": "stream",
          "text": [
            "c:\\Users\\mdela\\anaconda3\\lib\\site-packages\\sklearn\\feature_extraction\\text.py:396: UserWarning: Your stop_words may be inconsistent with your preprocessing. Tokenizing the stop words generated tokens ['bl', 'ca', 'eks', 'pga'] not in stop_words.\n",
            "  warnings.warn(\n"
          ]
        },
        {
          "name": "stdout",
          "output_type": "stream",
          "text": [
            "              precision    recall  f1-score   support\n",
            "\n",
            "        Blue       0.69      0.88      0.77      6987\n",
            "         Red       0.65      0.37      0.47      4318\n",
            "\n",
            "    accuracy                           0.68     11305\n",
            "   macro avg       0.67      0.62      0.62     11305\n",
            "weighted avg       0.68      0.68      0.66     11305\n",
            "\n"
          ]
        }
      ],
      "source": [
        "#Default values\n",
        "score_ngrams, score_max_ngrams, data_ngrams, shape_ngrams = ngrams(tokens_hyper, data, 5, 10, 1, 1.0)"
      ]
    },
    {
      "cell_type": "markdown",
      "metadata": {
        "id": "nVR-eswl7MgJ"
      },
      "source": [
        "Analysis the tdfidf"
      ]
    },
    {
      "cell_type": "code",
      "execution_count": null,
      "metadata": {
        "colab": {
          "base_uri": "https://localhost:8080/"
        },
        "id": "QLacFmto8-Ey",
        "outputId": "24e3024c-5135-4cd4-f9be-fb14d2f1975e"
      },
      "outputs": [
        {
          "name": "stderr",
          "output_type": "stream",
          "text": [
            "c:\\Users\\mdela\\anaconda3\\lib\\site-packages\\sklearn\\feature_extraction\\text.py:396: UserWarning: Your stop_words may be inconsistent with your preprocessing. Tokenizing the stop words generated tokens ['bl', 'ca', 'eks', 'pga'] not in stop_words.\n",
            "  warnings.warn(\n"
          ]
        },
        {
          "name": "stdout",
          "output_type": "stream",
          "text": [
            "              precision    recall  f1-score   support\n",
            "\n",
            "        Blue       0.69      0.89      0.78      6987\n",
            "         Red       0.67      0.36      0.47      4318\n",
            "\n",
            "    accuracy                           0.69     11305\n",
            "   macro avg       0.68      0.63      0.62     11305\n",
            "weighted avg       0.68      0.69      0.66     11305\n",
            "\n",
            "score with  min_count 1 , and max_df 1.0 is: 0.6881026094648386 ; with a shape of: (37683, 18561)\n"
          ]
        },
        {
          "name": "stderr",
          "output_type": "stream",
          "text": [
            "c:\\Users\\mdela\\anaconda3\\lib\\site-packages\\sklearn\\feature_extraction\\text.py:396: UserWarning: Your stop_words may be inconsistent with your preprocessing. Tokenizing the stop words generated tokens ['bl', 'ca', 'eks', 'pga'] not in stop_words.\n",
            "  warnings.warn(\n"
          ]
        },
        {
          "name": "stdout",
          "output_type": "stream",
          "text": [
            "              precision    recall  f1-score   support\n",
            "\n",
            "        Blue       0.69      0.89      0.78      6987\n",
            "         Red       0.67      0.36      0.47      4318\n",
            "\n",
            "    accuracy                           0.69     11305\n",
            "   macro avg       0.68      0.63      0.63     11305\n",
            "weighted avg       0.68      0.69      0.66     11305\n",
            "\n",
            "score with  min_count 1 , and max_df 0.1 is: 0.6888987173816895 ; with a shape of: (37683, 18561)\n"
          ]
        },
        {
          "name": "stderr",
          "output_type": "stream",
          "text": [
            "c:\\Users\\mdela\\anaconda3\\lib\\site-packages\\sklearn\\feature_extraction\\text.py:396: UserWarning: Your stop_words may be inconsistent with your preprocessing. Tokenizing the stop words generated tokens ['bl', 'ca', 'eks', 'pga'] not in stop_words.\n",
            "  warnings.warn(\n"
          ]
        },
        {
          "name": "stdout",
          "output_type": "stream",
          "text": [
            "              precision    recall  f1-score   support\n",
            "\n",
            "        Blue       0.69      0.90      0.78      6987\n",
            "         Red       0.68      0.34      0.46      4318\n",
            "\n",
            "    accuracy                           0.69     11305\n",
            "   macro avg       0.68      0.62      0.62     11305\n",
            "weighted avg       0.68      0.69      0.66     11305\n",
            "\n",
            "score with  min_count 1 , and max_df 0.01 is: 0.686687306501548 ; with a shape of: (37683, 18522)\n"
          ]
        },
        {
          "name": "stderr",
          "output_type": "stream",
          "text": [
            "c:\\Users\\mdela\\anaconda3\\lib\\site-packages\\sklearn\\feature_extraction\\text.py:396: UserWarning: Your stop_words may be inconsistent with your preprocessing. Tokenizing the stop words generated tokens ['bl', 'ca', 'eks', 'pga'] not in stop_words.\n",
            "  warnings.warn(\n"
          ]
        },
        {
          "name": "stdout",
          "output_type": "stream",
          "text": [
            "              precision    recall  f1-score   support\n",
            "\n",
            "        Blue       0.63      0.97      0.77      6987\n",
            "         Red       0.65      0.08      0.14      4318\n",
            "\n",
            "    accuracy                           0.63     11305\n",
            "   macro avg       0.64      0.53      0.45     11305\n",
            "weighted avg       0.64      0.63      0.53     11305\n",
            "\n",
            "score with  min_count 1 , and max_df 0.0001 is: 0.6317558602388323 ; with a shape of: (37683, 13308)\n"
          ]
        },
        {
          "name": "stderr",
          "output_type": "stream",
          "text": [
            "c:\\Users\\mdela\\anaconda3\\lib\\site-packages\\sklearn\\feature_extraction\\text.py:396: UserWarning: Your stop_words may be inconsistent with your preprocessing. Tokenizing the stop words generated tokens ['bl', 'ca', 'eks', 'pga'] not in stop_words.\n",
            "  warnings.warn(\n"
          ]
        },
        {
          "name": "stdout",
          "output_type": "stream",
          "text": [
            "              precision    recall  f1-score   support\n",
            "\n",
            "        Blue       0.66      0.88      0.75      6987\n",
            "         Red       0.57      0.25      0.35      4318\n",
            "\n",
            "    accuracy                           0.64     11305\n",
            "   macro avg       0.61      0.57      0.55     11305\n",
            "weighted avg       0.62      0.64      0.60     11305\n",
            "\n",
            "score with  min_count 0.001 , and max_df 1.0 is: 0.6414860681114551 ; with a shape of: (37683, 704)\n"
          ]
        },
        {
          "name": "stderr",
          "output_type": "stream",
          "text": [
            "c:\\Users\\mdela\\anaconda3\\lib\\site-packages\\sklearn\\feature_extraction\\text.py:396: UserWarning: Your stop_words may be inconsistent with your preprocessing. Tokenizing the stop words generated tokens ['bl', 'ca', 'eks', 'pga'] not in stop_words.\n",
            "  warnings.warn(\n"
          ]
        },
        {
          "name": "stdout",
          "output_type": "stream",
          "text": [
            "              precision    recall  f1-score   support\n",
            "\n",
            "        Blue       0.66      0.89      0.76      6987\n",
            "         Red       0.59      0.25      0.35      4318\n",
            "\n",
            "    accuracy                           0.65     11305\n",
            "   macro avg       0.62      0.57      0.56     11305\n",
            "weighted avg       0.63      0.65      0.60     11305\n",
            "\n",
            "score with  min_count 0.001 , and max_df 0.1 is: 0.6470588235294118 ; with a shape of: (37683, 704)\n"
          ]
        },
        {
          "name": "stderr",
          "output_type": "stream",
          "text": [
            "c:\\Users\\mdela\\anaconda3\\lib\\site-packages\\sklearn\\feature_extraction\\text.py:396: UserWarning: Your stop_words may be inconsistent with your preprocessing. Tokenizing the stop words generated tokens ['bl', 'ca', 'eks', 'pga'] not in stop_words.\n",
            "  warnings.warn(\n"
          ]
        },
        {
          "name": "stdout",
          "output_type": "stream",
          "text": [
            "              precision    recall  f1-score   support\n",
            "\n",
            "        Blue       0.65      0.91      0.76      6987\n",
            "         Red       0.59      0.22      0.32      4318\n",
            "\n",
            "    accuracy                           0.64     11305\n",
            "   macro avg       0.62      0.56      0.54     11305\n",
            "weighted avg       0.63      0.64      0.59     11305\n",
            "\n",
            "score with  min_count 0.001 , and max_df 0.01 is: 0.6442282176028306 ; with a shape of: (37683, 665)\n"
          ]
        },
        {
          "name": "stderr",
          "output_type": "stream",
          "text": [
            "c:\\Users\\mdela\\anaconda3\\lib\\site-packages\\sklearn\\feature_extraction\\text.py:396: UserWarning: Your stop_words may be inconsistent with your preprocessing. Tokenizing the stop words generated tokens ['bl', 'ca', 'eks', 'pga'] not in stop_words.\n",
            "  warnings.warn(\n",
            "c:\\Users\\mdela\\anaconda3\\lib\\site-packages\\sklearn\\feature_extraction\\text.py:396: UserWarning: Your stop_words may be inconsistent with your preprocessing. Tokenizing the stop words generated tokens ['bl', 'ca', 'eks', 'pga'] not in stop_words.\n",
            "  warnings.warn(\n"
          ]
        },
        {
          "name": "stdout",
          "output_type": "stream",
          "text": [
            "              precision    recall  f1-score   support\n",
            "\n",
            "        Blue       0.69      0.89      0.78      6987\n",
            "         Red       0.66      0.36      0.47      4318\n",
            "\n",
            "    accuracy                           0.69     11305\n",
            "   macro avg       0.68      0.62      0.62     11305\n",
            "weighted avg       0.68      0.69      0.66     11305\n",
            "\n",
            "score with  min_count 3e-05 , and max_df 1.0 is: 0.686156567890314 ; with a shape of: (37683, 9215)\n"
          ]
        },
        {
          "name": "stderr",
          "output_type": "stream",
          "text": [
            "c:\\Users\\mdela\\anaconda3\\lib\\site-packages\\sklearn\\feature_extraction\\text.py:396: UserWarning: Your stop_words may be inconsistent with your preprocessing. Tokenizing the stop words generated tokens ['bl', 'ca', 'eks', 'pga'] not in stop_words.\n",
            "  warnings.warn(\n"
          ]
        },
        {
          "name": "stdout",
          "output_type": "stream",
          "text": [
            "              precision    recall  f1-score   support\n",
            "\n",
            "        Blue       0.69      0.89      0.78      6987\n",
            "         Red       0.67      0.36      0.47      4318\n",
            "\n",
            "    accuracy                           0.69     11305\n",
            "   macro avg       0.68      0.63      0.62     11305\n",
            "weighted avg       0.68      0.69      0.66     11305\n",
            "\n",
            "score with  min_count 3e-05 , and max_df 0.1 is: 0.6874834144183989 ; with a shape of: (37683, 9215)\n"
          ]
        },
        {
          "name": "stderr",
          "output_type": "stream",
          "text": [
            "c:\\Users\\mdela\\anaconda3\\lib\\site-packages\\sklearn\\feature_extraction\\text.py:396: UserWarning: Your stop_words may be inconsistent with your preprocessing. Tokenizing the stop words generated tokens ['bl', 'ca', 'eks', 'pga'] not in stop_words.\n",
            "  warnings.warn(\n"
          ]
        },
        {
          "name": "stdout",
          "output_type": "stream",
          "text": [
            "              precision    recall  f1-score   support\n",
            "\n",
            "        Blue       0.69      0.89      0.78      6987\n",
            "         Red       0.66      0.35      0.45      4318\n",
            "\n",
            "    accuracy                           0.68     11305\n",
            "   macro avg       0.68      0.62      0.62     11305\n",
            "weighted avg       0.68      0.68      0.65     11305\n",
            "\n",
            "score with  min_count 3e-05 , and max_df 0.01 is: 0.6829721362229102 ; with a shape of: (37683, 9176)\n"
          ]
        },
        {
          "name": "stderr",
          "output_type": "stream",
          "text": [
            "c:\\Users\\mdela\\anaconda3\\lib\\site-packages\\sklearn\\feature_extraction\\text.py:396: UserWarning: Your stop_words may be inconsistent with your preprocessing. Tokenizing the stop words generated tokens ['bl', 'ca', 'eks', 'pga'] not in stop_words.\n",
            "  warnings.warn(\n"
          ]
        },
        {
          "name": "stdout",
          "output_type": "stream",
          "text": [
            "              precision    recall  f1-score   support\n",
            "\n",
            "        Blue       0.63      0.97      0.77      6987\n",
            "         Red       0.65      0.08      0.14      4318\n",
            "\n",
            "    accuracy                           0.63     11305\n",
            "   macro avg       0.64      0.53      0.45     11305\n",
            "weighted avg       0.64      0.63      0.52     11305\n",
            "\n",
            "score with  min_count 3e-05 , and max_df 0.0001 is: 0.6314020344980097 ; with a shape of: (37683, 3962)\n"
          ]
        },
        {
          "name": "stderr",
          "output_type": "stream",
          "text": [
            "c:\\Users\\mdela\\anaconda3\\lib\\site-packages\\sklearn\\feature_extraction\\text.py:396: UserWarning: Your stop_words may be inconsistent with your preprocessing. Tokenizing the stop words generated tokens ['bl', 'ca', 'eks', 'pga'] not in stop_words.\n",
            "  warnings.warn(\n"
          ]
        },
        {
          "name": "stdout",
          "output_type": "stream",
          "text": [
            "              precision    recall  f1-score   support\n",
            "\n",
            "        Blue       0.69      0.89      0.78      6987\n",
            "         Red       0.68      0.36      0.47      4318\n",
            "\n",
            "    accuracy                           0.69     11305\n",
            "   macro avg       0.69      0.63      0.63     11305\n",
            "weighted avg       0.69      0.69      0.66     11305\n",
            "\n",
            "score with  min_count 1e-05 , and max_df 1.0 is: 0.6902255639097744 ; with a shape of: (37683, 18561)\n"
          ]
        },
        {
          "name": "stderr",
          "output_type": "stream",
          "text": [
            "c:\\Users\\mdela\\anaconda3\\lib\\site-packages\\sklearn\\feature_extraction\\text.py:396: UserWarning: Your stop_words may be inconsistent with your preprocessing. Tokenizing the stop words generated tokens ['bl', 'ca', 'eks', 'pga'] not in stop_words.\n",
            "  warnings.warn(\n"
          ]
        },
        {
          "name": "stdout",
          "output_type": "stream",
          "text": [
            "              precision    recall  f1-score   support\n",
            "\n",
            "        Blue       0.69      0.88      0.78      6987\n",
            "         Red       0.66      0.37      0.47      4318\n",
            "\n",
            "    accuracy                           0.69     11305\n",
            "   macro avg       0.68      0.63      0.63     11305\n",
            "weighted avg       0.68      0.69      0.66     11305\n",
            "\n",
            "score with  min_count 1e-05 , and max_df 0.1 is: 0.6863334807607253 ; with a shape of: (37683, 18561)\n"
          ]
        },
        {
          "name": "stderr",
          "output_type": "stream",
          "text": [
            "c:\\Users\\mdela\\anaconda3\\lib\\site-packages\\sklearn\\feature_extraction\\text.py:396: UserWarning: Your stop_words may be inconsistent with your preprocessing. Tokenizing the stop words generated tokens ['bl', 'ca', 'eks', 'pga'] not in stop_words.\n",
            "  warnings.warn(\n"
          ]
        },
        {
          "name": "stdout",
          "output_type": "stream",
          "text": [
            "              precision    recall  f1-score   support\n",
            "\n",
            "        Blue       0.69      0.90      0.78      6987\n",
            "         Red       0.67      0.34      0.45      4318\n",
            "\n",
            "    accuracy                           0.69     11305\n",
            "   macro avg       0.68      0.62      0.62     11305\n",
            "weighted avg       0.68      0.69      0.65     11305\n",
            "\n",
            "score with  min_count 1e-05 , and max_df 0.01 is: 0.6851835471030517 ; with a shape of: (37683, 18522)\n"
          ]
        },
        {
          "name": "stderr",
          "output_type": "stream",
          "text": [
            "c:\\Users\\mdela\\anaconda3\\lib\\site-packages\\sklearn\\feature_extraction\\text.py:396: UserWarning: Your stop_words may be inconsistent with your preprocessing. Tokenizing the stop words generated tokens ['bl', 'ca', 'eks', 'pga'] not in stop_words.\n",
            "  warnings.warn(\n"
          ]
        },
        {
          "name": "stdout",
          "output_type": "stream",
          "text": [
            "              precision    recall  f1-score   support\n",
            "\n",
            "        Blue       0.63      0.98      0.77      6987\n",
            "         Red       0.66      0.07      0.13      4318\n",
            "\n",
            "    accuracy                           0.63     11305\n",
            "   macro avg       0.65      0.52      0.45     11305\n",
            "weighted avg       0.64      0.63      0.52     11305\n",
            "\n",
            "score with  min_count 1e-05 , and max_df 0.0001 is: 0.6312251216275984 ; with a shape of: (37683, 13308)\n"
          ]
        }
      ],
      "source": [
        "#Test different configuration for the TF - IDF\n",
        "max_df = [1.0, 0.1, 0.01, 0.0001]\n",
        "min_df = [1, 0.001, 0.00003, 0.00001]\n",
        "\n",
        "for i in min_df:\n",
        "  for j in max_df:\n",
        "    try:\n",
        "      score_ngrams, score_max_ngrams, data_2, shape_ngrams = ngrams(tokens_hyper, data, 5, 10, i, j)\n",
        "      print(f'score with  min_count', i,', and max_df',j,'is:', score_ngrams,'; with a shape of:',shape_ngrams)\n",
        "    except ValueError:\n",
        "      pass"
      ]
    },
    {
      "cell_type": "code",
      "execution_count": null,
      "metadata": {
        "id": "nxf2lMbSaoFk"
      },
      "outputs": [],
      "source": [
        "tfidf = TfidfVectorizer(stop_words=dk_stop+stopwords.words('english'), max_df = 90)"
      ]
    },
    {
      "cell_type": "code",
      "execution_count": null,
      "metadata": {
        "id": "uQYdYQvuAwP3",
        "outputId": "454df226-fa09-4925-d0fc-c37da8d8864d"
      },
      "outputs": [
        {
          "name": "stderr",
          "output_type": "stream",
          "text": [
            "c:\\Users\\mdela\\anaconda3\\lib\\site-packages\\sklearn\\feature_extraction\\text.py:396: UserWarning: Your stop_words may be inconsistent with your preprocessing. Tokenizing the stop words generated tokens ['bl', 'ca', 'eks', 'pga'] not in stop_words.\n",
            "  warnings.warn(\n"
          ]
        },
        {
          "data": {
            "text/plain": [
              "(38390, 18276)"
            ]
          },
          "execution_count": 137,
          "metadata": {},
          "output_type": "execute_result"
        }
      ],
      "source": [
        "X = tfidf.fit_transform(data['clean_text_tunned'])\n",
        "X.shape"
      ]
    },
    {
      "cell_type": "code",
      "execution_count": null,
      "metadata": {
        "id": "nB3x-iP-AwP3",
        "outputId": "afc498a0-5541-4bb9-de47-b2989e9bd6a7"
      },
      "outputs": [
        {
          "data": {
            "text/plain": [
              "array([[0., 0., 0., ..., 0., 0., 0.],\n",
              "       [0., 0., 0., ..., 0., 0., 0.],\n",
              "       [0., 0., 0., ..., 0., 0., 0.],\n",
              "       ...,\n",
              "       [0., 0., 0., ..., 0., 0., 0.],\n",
              "       [0., 0., 0., ..., 0., 0., 0.],\n",
              "       [0., 0., 0., ..., 0., 0., 0.]])"
            ]
          },
          "execution_count": 126,
          "metadata": {},
          "output_type": "execute_result"
        }
      ],
      "source": [
        "X.toarray()"
      ]
    },
    {
      "cell_type": "code",
      "execution_count": null,
      "metadata": {
        "id": "gP9bHfkvAwP4",
        "outputId": "e2872e7b-491a-437d-98c5-20991552e8ab"
      },
      "outputs": [
        {
          "data": {
            "text/plain": [
              "38390"
            ]
          },
          "execution_count": 127,
          "metadata": {},
          "output_type": "execute_result"
        }
      ],
      "source": [
        "len(X.toarray())"
      ]
    },
    {
      "cell_type": "code",
      "execution_count": null,
      "metadata": {
        "id": "J5K4hgRvAwP5",
        "outputId": "53c0b3be-be88-452e-e86d-50bcbc99cc24"
      },
      "outputs": [
        {
          "name": "stderr",
          "output_type": "stream",
          "text": [
            "c:\\Users\\mdela\\anaconda3\\lib\\site-packages\\sklearn\\utils\\deprecation.py:87: FutureWarning: Function get_feature_names is deprecated; get_feature_names is deprecated in 1.0 and will be removed in 1.2. Please use get_feature_names_out instead.\n",
            "  warnings.warn(msg, category=FutureWarning)\n"
          ]
        },
        {
          "data": {
            "text/plain": [
              "18561"
            ]
          },
          "execution_count": 131,
          "metadata": {},
          "output_type": "execute_result"
        }
      ],
      "source": [
        "len(tfidf.get_feature_names())"
      ]
    },
    {
      "cell_type": "code",
      "execution_count": null,
      "metadata": {
        "colab": {
          "base_uri": "https://localhost:8080/"
        },
        "id": "KW9DnfUza2w7",
        "outputId": "e3382dec-3e38-4fc8-ec89-2639a0f6342b"
      },
      "outputs": [
        {
          "data": {
            "text/plain": [
              "(37683, 12)"
            ]
          },
          "execution_count": 117,
          "metadata": {},
          "output_type": "execute_result"
        }
      ],
      "source": [
        "data_2.shape"
      ]
    },
    {
      "cell_type": "code",
      "execution_count": null,
      "metadata": {
        "id": "Uvn2p8YChswk"
      },
      "outputs": [],
      "source": [
        "model = Pipeline(\n",
        "[\n",
        "    (\"transformer\", tfidf),\n",
        "    (\"classifier\", cls),\n",
        "]\n",
        ")"
      ]
    },
    {
      "cell_type": "code",
      "execution_count": null,
      "metadata": {
        "colab": {
          "base_uri": "https://localhost:8080/"
        },
        "id": "j1-92zAMh1as",
        "outputId": "f858475a-2736-4938-ea26-4affcf712cc8"
      },
      "outputs": [
        {
          "data": {
            "text/plain": [
              "Pipeline(steps=[('transformer',\n",
              "                 TfidfVectorizer(stop_words=['ad', 'af', 'aldrig', 'alene',\n",
              "                                             'alle', 'allerede', 'alligevel',\n",
              "                                             'alt', 'altid', 'anden', 'andet',\n",
              "                                             'andre', 'at', 'bag', 'bare',\n",
              "                                             'begge', 'bl.a.', 'blandt', 'blev',\n",
              "                                             'blive', 'bliver', 'burde', 'bør',\n",
              "                                             'ca.', 'da', 'de', 'dem', 'den',\n",
              "                                             'denne', 'dens', ...])),\n",
              "                ('classifier', LogisticRegression(max_iter=1000))])"
            ]
          },
          "execution_count": 119,
          "metadata": {},
          "output_type": "execute_result"
        }
      ],
      "source": [
        "model.fit(X_train, y_train)"
      ]
    },
    {
      "cell_type": "code",
      "execution_count": null,
      "metadata": {
        "colab": {
          "base_uri": "https://localhost:8080/"
        },
        "id": "qMWOXfq3mWHp",
        "outputId": "05e666ec-7c2c-4dae-cd33-fce93dd046f4"
      },
      "outputs": [
        {
          "data": {
            "text/plain": [
              "0.6681427455066423"
            ]
          },
          "execution_count": 120,
          "metadata": {},
          "output_type": "execute_result"
        }
      ],
      "source": [
        "model.score(X_test, y_test)"
      ]
    },
    {
      "cell_type": "code",
      "execution_count": null,
      "metadata": {
        "colab": {
          "base_uri": "https://localhost:8080/"
        },
        "id": "obNd40wpbRww",
        "outputId": "bddd62de-421f-4de1-89b1-67014efe4486"
      },
      "outputs": [
        {
          "data": {
            "text/plain": [
              "(38390, 18561)"
            ]
          },
          "execution_count": 121,
          "metadata": {},
          "output_type": "execute_result"
        }
      ],
      "source": [
        "X.shape"
      ]
    },
    {
      "cell_type": "code",
      "execution_count": null,
      "metadata": {
        "colab": {
          "base_uri": "https://localhost:8080/"
        },
        "id": "n9J3qemGbUcn",
        "outputId": "e1bf2645-669b-453d-ac45-933a46fafeb6"
      },
      "outputs": [
        {
          "name": "stderr",
          "output_type": "stream",
          "text": [
            "c:\\Users\\mdela\\anaconda3\\lib\\site-packages\\sklearn\\utils\\deprecation.py:87: FutureWarning: Function get_feature_names is deprecated; get_feature_names is deprecated in 1.0 and will be removed in 1.2. Please use get_feature_names_out instead.\n",
            "  warnings.warn(msg, category=FutureWarning)\n"
          ]
        },
        {
          "data": {
            "text/plain": [
              "17730"
            ]
          },
          "execution_count": 122,
          "metadata": {},
          "output_type": "execute_result"
        }
      ],
      "source": [
        "len(tfidf.get_feature_names())"
      ]
    },
    {
      "cell_type": "code",
      "execution_count": null,
      "metadata": {
        "id": "W7iWpBHJVFQ3",
        "outputId": "17c4d736-ccd6-4a36-ade1-165dd306a94b"
      },
      "outputs": [
        {
          "name": "stderr",
          "output_type": "stream",
          "text": [
            "c:\\Users\\mdela\\anaconda3\\lib\\site-packages\\sklearn\\utils\\deprecation.py:87: FutureWarning: Function get_feature_names is deprecated; get_feature_names is deprecated in 1.0 and will be removed in 1.2. Please use get_feature_names_out instead.\n",
            "  warnings.warn(msg, category=FutureWarning)\n"
          ]
        }
      ],
      "source": [
        "df_tf = pd.DataFrame(X.toarray(), columns = tfidf.get_feature_names())"
      ]
    },
    {
      "cell_type": "code",
      "execution_count": null,
      "metadata": {
        "id": "ChRht9n5VVGv",
        "outputId": "eed27472-6ff8-4fda-b3ee-e22ab312ecd1"
      },
      "outputs": [
        {
          "data": {
            "text/plain": [
              "gøre_forskel     61.178469\n",
              "stoppe           54.931272\n",
              "udfordre         51.980754\n",
              "forandre         51.838044\n",
              "ansvarlig        50.824247\n",
              "                   ...    \n",
              "engelsksproge     0.175138\n",
              "amanda            0.172358\n",
              "særbehandling     0.172358\n",
              "vogn              0.172358\n",
              "gorman            0.172358\n",
              "Length: 18276, dtype: float64"
            ]
          },
          "execution_count": 139,
          "metadata": {},
          "output_type": "execute_result"
        }
      ],
      "source": [
        "df_tf.sum().sort_values(ascending=False)"
      ]
    }
  ],
  "metadata": {
    "colab": {
      "provenance": []
    },
    "kernelspec": {
      "display_name": "Python 3.8.13 ('base')",
      "language": "python",
      "name": "python3"
    },
    "language_info": {
      "codemirror_mode": {
        "name": "ipython",
        "version": 3
      },
      "file_extension": ".py",
      "mimetype": "text/x-python",
      "name": "python",
      "nbconvert_exporter": "python",
      "pygments_lexer": "ipython3",
      "version": "3.8.13"
    },
    "vscode": {
      "interpreter": {
        "hash": "6576518dcb6d97321e114fff9f468e4991fc9b00a49651f88787a9aa89403f48"
      }
    }
  },
  "nbformat": 4,
  "nbformat_minor": 0
}